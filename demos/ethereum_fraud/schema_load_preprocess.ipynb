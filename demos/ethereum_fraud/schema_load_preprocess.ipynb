{
 "cells": [
  {
   "cell_type": "markdown",
   "metadata": {},
   "source": [
    "# Load Ethereum Fraud Data\n",
    "We will load a dataset of Ethereum transactions to determine if there are any fraudulent accounts."
   ]
  },
  {
   "cell_type": "markdown",
   "metadata": {},
   "source": [
    "## Instantiate Connection to Database and Create Graph"
   ]
  },
  {
   "cell_type": "code",
   "execution_count": 1,
   "metadata": {},
   "outputs": [
    {
     "name": "stdout",
     "output_type": "stream",
     "text": [
      "The graph Ethereum is created.\n"
     ]
    }
   ],
   "source": [
    "from pyTigerGraph import TigerGraphConnection\n",
    "\n",
    "conn = TigerGraphConnection(\n",
    "    host=\"https://2af53baeed854f7796dfa06efafe09de.i.tgcloud.io\", # Change the address to your database server's\n",
    "    graphname=\"Ethereum\"\n",
    ")\n",
    "\n",
    "print(conn.gsql(\"CREATE GRAPH Ethereum()\"))"
   ]
  },
  {
   "cell_type": "code",
   "execution_count": 2,
   "metadata": {},
   "outputs": [
    {
     "data": {
      "text/plain": [
       "('3o608v1a7qumqgi8ig45h9l7gv9ffq4p', 1659634717, '2022-08-04 17:38:37')"
      ]
     },
     "execution_count": 2,
     "metadata": {},
     "output_type": "execute_result"
    }
   ],
   "source": [
    "conn.getToken(conn.createSecret())"
   ]
  },
  {
   "cell_type": "markdown",
   "metadata": {},
   "source": [
    "## Create Schema"
   ]
  },
  {
   "cell_type": "code",
   "execution_count": 3,
   "metadata": {},
   "outputs": [
    {
     "name": "stdout",
     "output_type": "stream",
     "text": [
      "Using graph 'Ethereum'\n",
      "Successfully created schema change jobs: [ethereum_schema].\n",
      "Kick off schema change job ethereum_schema\n",
      "Doing schema change on graph 'Ethereum' (current version: 0)\n",
      "Trying to add local vertex 'Account' to the graph 'Ethereum'.\n",
      "Trying to add local edge 'Transaction' and its reverse edge 'reverse_Transaction' to the graph 'Ethereum'.\n",
      "\n",
      "Graph Ethereum updated to new version 1\n",
      "The job ethereum_schema completes in 2.419 seconds!\n"
     ]
    }
   ],
   "source": [
    "print(conn.gsql(open(\"./gsql/schema.gsql\", \"r\").read()))"
   ]
  },
  {
   "cell_type": "markdown",
   "metadata": {},
   "source": [
    "## Create Loading Scripts"
   ]
  },
  {
   "cell_type": "code",
   "execution_count": 4,
   "metadata": {},
   "outputs": [
    {
     "name": "stdout",
     "output_type": "stream",
     "text": [
      "Using graph 'Ethereum'\n",
      "Successfully created loading jobs: [Load_Ethereum_Accounts].\n",
      "Successfully created loading jobs: [Load_Ethereum_Transactions].\n"
     ]
    }
   ],
   "source": [
    "print(conn.gsql(open(\"./gsql/load.gsql\", \"r\").read()))"
   ]
  },
  {
   "cell_type": "markdown",
   "metadata": {},
   "source": [
    "## Upload Data and Run Loading Scripts"
   ]
  },
  {
   "cell_type": "code",
   "execution_count": 5,
   "metadata": {},
   "outputs": [
    {
     "data": {
      "text/plain": [
       "[{'sourceFileName': 'Online_POST',\n",
       "  'statistics': {'validLine': 42044,\n",
       "   'rejectLine': 0,\n",
       "   'failedConditionLine': 0,\n",
       "   'notEnoughToken': 0,\n",
       "   'invalidJson': 0,\n",
       "   'oversizeToken': 0,\n",
       "   'vertex': [],\n",
       "   'edge': [{'typeName': 'Transaction',\n",
       "     'validObject': 42044,\n",
       "     'noIdFound': 0,\n",
       "     'invalidAttribute': 0,\n",
       "     'invalidVertexType': 0,\n",
       "     'invalidPrimaryId': 0,\n",
       "     'invalidSecondaryId': 0,\n",
       "     'incorrectFixedBinaryLength': 0}],\n",
       "   'deleteVertex': [],\n",
       "   'deleteEdge': []}}]"
      ]
     },
     "execution_count": 5,
     "metadata": {},
     "output_type": "execute_result"
    }
   ],
   "source": [
    "conn.runLoadingJobWithFile(\"./data/account.csv\", \"file1\", \"Load_Ethereum_Accounts\")\n",
    "\n",
    "conn.runLoadingJobWithFile(\"./data/transaction.csv\", \"file1\", \"Load_Ethereum_Transactions\")"
   ]
  },
  {
   "cell_type": "code",
   "execution_count": null,
   "metadata": {},
   "outputs": [],
   "source": []
  }
 ],
 "metadata": {
  "kernelspec": {
   "display_name": "Python 3.9.12 ('pytg-pyg-test')",
   "language": "python",
   "name": "python3"
  },
  "language_info": {
   "codemirror_mode": {
    "name": "ipython",
    "version": 3
   },
   "file_extension": ".py",
   "mimetype": "text/x-python",
   "name": "python",
   "nbconvert_exporter": "python",
   "pygments_lexer": "ipython3",
   "version": "3.9.12"
  },
  "orig_nbformat": 4,
  "vscode": {
   "interpreter": {
    "hash": "241cd557769fa998e5389722c5bb2b70caa7297f9b55039907d28a2a4b1662b5"
   }
  }
 },
 "nbformat": 4,
 "nbformat_minor": 2
}
