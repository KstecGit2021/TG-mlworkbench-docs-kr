{
 "cells": [
  {
   "cell_type": "markdown",
   "id": "62e15a33-2a71-403e-b5b2-192fcb8adef3",
   "metadata": {
    "jp-MarkdownHeadingCollapsed": true,
    "tags": []
   },
   "source": [
    "## **Import Libraries and Functions**"
   ]
  },
  {
   "cell_type": "code",
   "execution_count": 1,
   "id": "8ec21336-bc07-4719-8e2b-6c0d65bac1d9",
   "metadata": {},
   "outputs": [
    {
     "name": "stderr",
     "output_type": "stream",
     "text": [
      "/opt/anaconda3/envs/pytg-pyg-test/lib/python3.9/site-packages/tqdm/auto.py:22: TqdmWarning: IProgress not found. Please update jupyter and ipywidgets. See https://ipywidgets.readthedocs.io/en/stable/user_install.html\n",
      "  from .autonotebook import tqdm as notebook_tqdm\n"
     ]
    }
   ],
   "source": [
    "import numpy as np\n",
    "import pandas as pd\n",
    "import warnings\n",
    "import torch_geometric.transforms as T\n",
    "import torch\n",
    "import torch.nn.functional as F\n",
    "from torch_geometric.nn import GAT\n",
    "from torch_geometric.nn import GNNExplainer\n",
    "from pyTigerGraph.gds.metrics import Accumulator, Accuracy\n",
    "import matplotlib.pyplot as plt\n",
    "\n",
    "plt.rcParams[\"figure.figsize\"] = (30,15)\n",
    "from sklearn.metrics import roc_auc_score, average_precision_score, precision_score, recall_score, roc_curve, precision_recall_curve, f1_score\n",
    "\n",
    "def threshold_search(y_true, y_proba):\n",
    "        precision , recall, thresholds = precision_recall_curve(y_true, y_proba)\n",
    "        thresholds = np.append(thresholds, 1.0001) \n",
    "        F = 2 / (1/precision + 1/recall)\n",
    "        best_score = np.max(F)\n",
    "        best_th = thresholds[np.argmax(F)]\n",
    "        return best_th \n",
    "\n",
    "\n",
    "def sample_vertex():\n",
    "    for i in range(100):\n",
    "        node_idx = int(np.random.choice(np.where(y_pred1==1)[0],1))\n",
    "        try:\n",
    "            x, edge_index = batch.x, batch.edge_index\n",
    "            explainer = GNNExplainer(model, epochs=1)\n",
    "            node_feat_mask, edge_mask = explainer.explain_node(node_idx, x, edge_index)\n",
    "            ax, G = explainer.visualize_subgraph(node_idx, edge_index, edge_mask, y=batch.y)\n",
    "            return node_idx\n",
    "        except:\n",
    "            pass\n",
    "    \n",
    "warnings.filterwarnings(\"ignore\")"
   ]
  },
  {
   "cell_type": "markdown",
   "id": "709e2a9d-4a27-4da6-91b4-cd3f619fc7dc",
   "metadata": {},
   "source": [
    "## **Connect to TigerGraph Database**"
   ]
  },
  {
   "cell_type": "code",
   "execution_count": 2,
   "id": "26ba49cd-b7ca-4e77-8643-685b67df78ce",
   "metadata": {},
   "outputs": [
    {
     "data": {
      "text/plain": [
       "('svce94fau639q4lle64ia0dfep1mh62d', 1659634780, '2022-08-04 17:39:40')"
      ]
     },
     "execution_count": 2,
     "metadata": {},
     "output_type": "execute_result"
    }
   ],
   "source": [
    "from pyTigerGraph import TigerGraphConnection\n",
    "\n",
    "conn = TigerGraphConnection(\n",
    "    host=\"https://2af53baeed854f7796dfa06efafe09de.i.tgcloud.io\", # Change the address to your database server's\n",
    "    graphname=\"Ethereum\"\n",
    ")\n",
    "\n",
    "conn.getToken(conn.createSecret()) # Use if your database has authentication enabled"
   ]
  },
  {
   "cell_type": "markdown",
   "id": "e8e6a0d6-ff6b-4e66-af50-412ddd030765",
   "metadata": {},
   "source": [
    "## **Add Degree Features inside TigerGraph**"
   ]
  },
  {
   "cell_type": "code",
   "execution_count": 3,
   "id": "0cbba2a1",
   "metadata": {},
   "outputs": [
    {
     "name": "stdout",
     "output_type": "stream",
     "text": [
      "Installing and optimizing the queries, it might take a minute\n"
     ]
    },
    {
     "data": {
      "text/plain": [
       "'degrees'"
      ]
     },
     "execution_count": 3,
     "metadata": {},
     "output_type": "execute_result"
    }
   ],
   "source": [
    "f = conn.gds.featurizer()\n",
    "\n",
    "f.installAlgorithm(\"degrees\", query_path=\"./gsql/degrees.gsql\")"
   ]
  },
  {
   "cell_type": "code",
   "execution_count": 4,
   "id": "18736e09-6465-4e7a-bc34-0154d418d507",
   "metadata": {},
   "outputs": [
    {
     "name": "stdout",
     "output_type": "stream",
     "text": [
      "Default parameters are: None\n"
     ]
    },
    {
     "data": {
      "text/plain": [
       "[{'\"Success !\"': 'Success !'}]"
      ]
     },
     "execution_count": 4,
     "metadata": {},
     "output_type": "execute_result"
    }
   ],
   "source": [
    "f.runAlgorithm(\"degrees\", custom_query=True)"
   ]
  },
  {
   "cell_type": "markdown",
   "id": "dfa44145-f8de-4946-8b94-f990e92f0312",
   "metadata": {},
   "source": [
    "## **Add Amounts Features inside TigerGraph**"
   ]
  },
  {
   "cell_type": "code",
   "execution_count": 5,
   "id": "90a3f92e",
   "metadata": {},
   "outputs": [
    {
     "name": "stdout",
     "output_type": "stream",
     "text": [
      "Installing and optimizing the queries, it might take a minute\n"
     ]
    },
    {
     "data": {
      "text/plain": [
       "'amounts'"
      ]
     },
     "execution_count": 5,
     "metadata": {},
     "output_type": "execute_result"
    }
   ],
   "source": [
    "f.installAlgorithm(\"amounts\", query_path=\"./gsql/amounts.gsql\")"
   ]
  },
  {
   "cell_type": "code",
   "execution_count": 6,
   "id": "42c4fa3f-6f3c-4c3f-8c71-3a9ef874c9d2",
   "metadata": {},
   "outputs": [
    {
     "name": "stdout",
     "output_type": "stream",
     "text": [
      "Default parameters are: None\n"
     ]
    },
    {
     "data": {
      "text/plain": [
       "[{'\"Success!\"': 'Success!'}]"
      ]
     },
     "execution_count": 6,
     "metadata": {},
     "output_type": "execute_result"
    }
   ],
   "source": [
    "f.runAlgorithm(\"amounts\", custom_query=True)"
   ]
  },
  {
   "cell_type": "markdown",
   "id": "02f02adf",
   "metadata": {},
   "source": [
    "## **Downsample the data**"
   ]
  },
  {
   "cell_type": "code",
   "execution_count": 7,
   "id": "c6014521",
   "metadata": {},
   "outputs": [
    {
     "name": "stdout",
     "output_type": "stream",
     "text": [
      "Installing and optimizing the queries, it might take a minute\n",
      "Default parameters are: None\n"
     ]
    },
    {
     "data": {
      "text/plain": [
       "[{'\"Success!\"': 'Success!'}]"
      ]
     },
     "execution_count": 7,
     "metadata": {},
     "output_type": "execute_result"
    }
   ],
   "source": [
    "f.installAlgorithm(\"downsample\", query_path=\"./gsql/downsample.gsql\")\n",
    "\n",
    "f.runAlgorithm(\"downsample\", custom_query=True)"
   ]
  },
  {
   "cell_type": "markdown",
   "id": "7da014d6-5bf7-4f58-9aca-0013a3779b78",
   "metadata": {},
   "source": [
    "## **Check Count of Positive Labels**"
   ]
  },
  {
   "cell_type": "code",
   "execution_count": 8,
   "id": "5baf1203-e21c-44fa-a80f-11c2ff119bb6",
   "metadata": {},
   "outputs": [
    {
     "data": {
      "text/plain": [
       "1165"
      ]
     },
     "execution_count": 8,
     "metadata": {},
     "output_type": "execute_result"
    }
   ],
   "source": [
    "conn.getVertexCount(\"Account\",\"is_fraud = 1\")"
   ]
  },
  {
   "cell_type": "markdown",
   "id": "8313fd70-b751-423a-a0f0-8836408e1c36",
   "metadata": {},
   "source": [
    "## **Check Count of Negative Labels**"
   ]
  },
  {
   "cell_type": "code",
   "execution_count": 9,
   "id": "e12752fc-2e40-4560-a939-8d75d77c2c18",
   "metadata": {},
   "outputs": [
    {
     "data": {
      "text/plain": [
       "25937"
      ]
     },
     "execution_count": 9,
     "metadata": {},
     "output_type": "execute_result"
    }
   ],
   "source": [
    "conn.getVertexCount(\"Account\",\"is_fraud = 0\")"
   ]
  },
  {
   "cell_type": "markdown",
   "id": "a9fedffc-f323-4fe8-af4b-3cad2123b529",
   "metadata": {},
   "source": [
    "## **Run Train-Test Split inside TigerGraph**"
   ]
  },
  {
   "cell_type": "code",
   "execution_count": 10,
   "id": "501ef419-b6f5-4681-925e-cd2e8400466f",
   "metadata": {},
   "outputs": [
    {
     "name": "stdout",
     "output_type": "stream",
     "text": [
      "Installing and optimizing queries. It might take a minute if this is the first time you use this loader.\n",
      "Query installation finished.\n",
      "Splitting vertices...\n",
      "Vertex split finished successfully.\n",
      "CPU times: user 49.2 ms, sys: 5.78 ms, total: 54.9 ms\n",
      "Wall time: 28.8 s\n"
     ]
    }
   ],
   "source": [
    "%%time\n",
    "split = conn.gds.vertexSplitter(is_training=0.8, is_validation=0.2)\n",
    "split.run()"
   ]
  },
  {
   "cell_type": "markdown",
   "id": "ad0214c2-f58c-4706-bea6-3420b701e877",
   "metadata": {},
   "source": [
    "## **Add PageRank Features inside TigerGraph**"
   ]
  },
  {
   "cell_type": "code",
   "execution_count": 11,
   "id": "8e636ba6-b7c4-4076-b0eb-7d3957afa1db",
   "metadata": {},
   "outputs": [
    {
     "name": "stdout",
     "output_type": "stream",
     "text": [
      "Installing and optimizing the queries, it might take a minute\n"
     ]
    },
    {
     "data": {
      "text/html": [
       "<div>\n",
       "<style scoped>\n",
       "    .dataframe tbody tr th:only-of-type {\n",
       "        vertical-align: middle;\n",
       "    }\n",
       "\n",
       "    .dataframe tbody tr th {\n",
       "        vertical-align: top;\n",
       "    }\n",
       "\n",
       "    .dataframe thead th {\n",
       "        text-align: right;\n",
       "    }\n",
       "</style>\n",
       "<table border=\"1\" class=\"dataframe\">\n",
       "  <thead>\n",
       "    <tr style=\"text-align: right;\">\n",
       "      <th></th>\n",
       "      <th>Vertex_ID</th>\n",
       "      <th>score</th>\n",
       "    </tr>\n",
       "  </thead>\n",
       "  <tbody>\n",
       "    <tr>\n",
       "      <th>0</th>\n",
       "      <td>0x3cbd2e6143f057bd49ffb4c7058217a5900c35d3</td>\n",
       "      <td>261.47775</td>\n",
       "    </tr>\n",
       "    <tr>\n",
       "      <th>1</th>\n",
       "      <td>0xbfa82fbe0e66d8e2b7dcc16328db9ecd70533d13</td>\n",
       "      <td>179.41986</td>\n",
       "    </tr>\n",
       "    <tr>\n",
       "      <th>2</th>\n",
       "      <td>0x5df65e16d6ec1a8090ffa11c8185ad372a8786cd</td>\n",
       "      <td>146.79326</td>\n",
       "    </tr>\n",
       "    <tr>\n",
       "      <th>3</th>\n",
       "      <td>0xea3a8bd1a99e16160832d6b473ce06c1058dff7e</td>\n",
       "      <td>60.74946</td>\n",
       "    </tr>\n",
       "    <tr>\n",
       "      <th>4</th>\n",
       "      <td>0x903bb9cd3a276d8f18fa6efed49b9bc52ccf06e5</td>\n",
       "      <td>58.86871</td>\n",
       "    </tr>\n",
       "  </tbody>\n",
       "</table>\n",
       "</div>"
      ],
      "text/plain": [
       "                                    Vertex_ID      score\n",
       "0  0x3cbd2e6143f057bd49ffb4c7058217a5900c35d3  261.47775\n",
       "1  0xbfa82fbe0e66d8e2b7dcc16328db9ecd70533d13  179.41986\n",
       "2  0x5df65e16d6ec1a8090ffa11c8185ad372a8786cd  146.79326\n",
       "3  0xea3a8bd1a99e16160832d6b473ce06c1058dff7e   60.74946\n",
       "4  0x903bb9cd3a276d8f18fa6efed49b9bc52ccf06e5   58.86871"
      ]
     },
     "execution_count": 11,
     "metadata": {},
     "output_type": "execute_result"
    }
   ],
   "source": [
    "feat = conn.gds.featurizer()\n",
    "feat.installAlgorithm(\"tg_pagerank\")\n",
    "tg_pagerank_params = {\n",
    "  \"v_type\": \"Account\",\n",
    "  \"e_type\": \"Transaction\",\n",
    "  \"result_attr\": \"pagerank\",\n",
    "  \"top_k\":5  \n",
    "}\n",
    "results = pd.json_normalize(feat.runAlgorithm(\"tg_pagerank\",tg_pagerank_params)[0]['@@top_scores_heap'])\n",
    "results"
   ]
  },
  {
   "cell_type": "markdown",
   "id": "56a1ae09-3f81-46b7-9046-1328da207924",
   "metadata": {},
   "source": [
    "## **Add Hyperparameters for NeighborSampler and Graph Neural Network**"
   ]
  },
  {
   "cell_type": "code",
   "execution_count": 12,
   "id": "b0c6390f-c337-4633-8756-118a6e5467be",
   "metadata": {},
   "outputs": [],
   "source": [
    "# Hyperparameters\n",
    "hp = {\"batch_size\": 5000, \"num_neighbors\": 200, \"num_hops\": 3, \"hidden_dim\": 128, \"num_layers\": 2, \"dropout\": 0.05, \"lr\": 0.0075, \"l2_penalty\": 5e-5}"
   ]
  },
  {
   "cell_type": "markdown",
   "id": "da071c0b-4faf-4dbe-8848-e5a073afc169",
   "metadata": {},
   "source": [
    "## **Define Train Neighbor Loader using TigerGraph**\n",
    "\n",
    "Output is provided directly in PyTorch Geometric Format"
   ]
  },
  {
   "cell_type": "code",
   "execution_count": 25,
   "id": "3b9ba960-429d-45c3-a4e2-76a155d4b233",
   "metadata": {},
   "outputs": [
    {
     "name": "stdout",
     "output_type": "stream",
     "text": [
      "Installing and optimizing queries. It might take a minute if this is the first time you use this loader.\n",
      "Query installation finished.\n"
     ]
    }
   ],
   "source": [
    "train_loader = conn.gds.neighborLoader(\n",
    "    v_in_feats=[\"in_degree\",\"out_degree\",\"send_amount\",\"send_min\",\"recv_amount\",\"recv_min\",\"pagerank\"],\n",
    "    v_out_labels=[\"is_fraud\"],\n",
    "    v_extra_feats=[\"is_training\", \"is_validation\"],\n",
    "    output_format=\"PyG\",\n",
    "    batch_size=hp[\"batch_size\"],\n",
    "    num_neighbors=hp[\"num_neighbors\"],\n",
    "    num_hops=hp[\"num_hops\"],\n",
    "    filter_by = \"is_training\",\n",
    "    shuffle=True,\n",
    "    timeout=600000\n",
    ")"
   ]
  },
  {
   "cell_type": "markdown",
   "id": "48054085-ef03-4637-9015-8ad145626da1",
   "metadata": {},
   "source": [
    "## **Define Validation Neighbor Loader using TigerGraph**\n",
    "\n",
    "Output is provided directly in PyTorch Geometric Format"
   ]
  },
  {
   "cell_type": "code",
   "execution_count": 26,
   "id": "67828279-31d2-47a3-ba2e-04b63c7833ee",
   "metadata": {},
   "outputs": [
    {
     "name": "stdout",
     "output_type": "stream",
     "text": [
      "Installing and optimizing queries. It might take a minute if this is the first time you use this loader.\n",
      "Query installation finished.\n"
     ]
    }
   ],
   "source": [
    "valid_loader = conn.gds.neighborLoader(\n",
    "    v_in_feats=[\"in_degree\",\"out_degree\",\"send_amount\",\"send_min\",\"recv_amount\",\"recv_min\",\"pagerank\"],\n",
    "    v_out_labels=[\"is_fraud\"],\n",
    "    v_extra_feats=[\"is_validation\", \"is_training\"],\n",
    "    output_format=\"PyG\",\n",
    "    batch_size=hp[\"batch_size\"],\n",
    "    num_neighbors=hp[\"num_neighbors\"],\n",
    "    num_hops=hp[\"num_hops\"],\n",
    "    filter_by = \"is_validation\",\n",
    "    shuffle=True,\n",
    "    timeout=600000\n",
    ")"
   ]
  },
  {
   "cell_type": "markdown",
   "id": "6d9cf220-0db3-4aa0-9721-7e1c22d0495a",
   "metadata": {},
   "source": [
    "## **Define Graph Attention Network Architecture using PyTorch Geometric**"
   ]
  },
  {
   "cell_type": "code",
   "execution_count": 27,
   "id": "e4b1f30a-a392-4855-b8c4-27720d1ff0d4",
   "metadata": {},
   "outputs": [],
   "source": [
    "device = torch.device(\"cuda\" if torch.cuda.is_available() else \"cpu\")\n",
    "\n",
    "model = GAT(\n",
    "    in_channels=7,\n",
    "    hidden_channels=hp[\"hidden_dim\"],\n",
    "    num_layers=hp[\"num_layers\"],\n",
    "    out_channels=2,\n",
    "    heads=8,\n",
    "    dropout=hp[\"dropout\"],\n",
    ").to(device)\n",
    "\n",
    "optimizer = torch.optim.Adam(\n",
    "    model.parameters(), lr=hp[\"lr\"], weight_decay=hp[\"l2_penalty\"]\n",
    ")"
   ]
  },
  {
   "cell_type": "markdown",
   "id": "1c28c7c4-a261-42e0-b84d-4fd8505f3d0d",
   "metadata": {},
   "source": [
    "## **Run Training Loop with AUC, AUCPR, Precision and Recall as Metrics**"
   ]
  },
  {
   "cell_type": "code",
   "execution_count": 29,
   "id": "68eedee7-3350-479a-ae9a-a140859659dd",
   "metadata": {},
   "outputs": [
    {
     "name": "stdout",
     "output_type": "stream",
     "text": [
      "Start Training epoch: 0\n",
      "Epoch 0, Train Batch 0, Loss 0.6142, AUC nan, AUCPR 1.0000, Precision 1.0000, Recall 0.9999\n",
      "Epoch 0, Train Batch 1, Loss 0.5744, AUC nan, AUCPR 1.0000, Precision 1.0000, Recall 0.9999\n",
      "Epoch 0, Train Batch 2, Loss 0.5365, AUC nan, AUCPR 1.0000, Precision 1.0000, Recall 0.9934\n",
      "Epoch 0, Train Batch 3, Loss 0.4993, AUC nan, AUCPR 1.0000, Precision 1.0000, Recall 0.9899\n",
      "Epoch 0, Train Batch 4, Loss 0.4625, AUC nan, AUCPR 1.0000, Precision 1.0000, Recall 0.9883\n",
      "Start validation epoch: 0\n",
      "Epoch 0, Valid Loss 0.2453, Valid AUC nan, Valid AUCPR 1.0000, Valid Precision 1.0000, Valid Recall 1.0000\n",
      "Start Training epoch: 1\n",
      "Epoch 1, Train Batch 0, Loss 0.2517, AUC nan, AUCPR 1.0000, Precision 1.0000, Recall 0.9795\n",
      "Epoch 1, Train Batch 1, Loss 0.2223, AUC nan, AUCPR 1.0000, Precision 1.0000, Recall 0.9815\n",
      "Epoch 1, Train Batch 2, Loss 0.1976, AUC nan, AUCPR 1.0000, Precision 1.0000, Recall 0.9805\n",
      "Epoch 1, Train Batch 3, Loss 0.1748, AUC nan, AUCPR 1.0000, Precision 1.0000, Recall 0.9807\n",
      "Epoch 1, Train Batch 4, Loss 0.1555, AUC nan, AUCPR 1.0000, Precision 1.0000, Recall 0.9807\n",
      "Start validation epoch: 1\n",
      "Epoch 1, Valid Loss 0.0445, Valid AUC nan, Valid AUCPR 1.0000, Valid Precision 1.0000, Valid Recall 1.0000\n",
      "Start Training epoch: 2\n",
      "Epoch 2, Train Batch 0, Loss 0.0568, AUC nan, AUCPR 1.0000, Precision 1.0000, Recall 0.9818\n",
      "Epoch 2, Train Batch 1, Loss 0.0502, AUC nan, AUCPR 1.0000, Precision 1.0000, Recall 0.9805\n",
      "Epoch 2, Train Batch 2, Loss 0.0440, AUC nan, AUCPR 1.0000, Precision 1.0000, Recall 0.9807\n",
      "Epoch 2, Train Batch 3, Loss 0.0394, AUC nan, AUCPR 1.0000, Precision 1.0000, Recall 0.9808\n",
      "Epoch 2, Train Batch 4, Loss 0.0357, AUC nan, AUCPR 1.0000, Precision 1.0000, Recall 0.9811\n",
      "Start validation epoch: 2\n",
      "Epoch 2, Valid Loss 0.0055, Valid AUC nan, Valid AUCPR 1.0000, Valid Precision 1.0000, Valid Recall 1.0000\n",
      "Start Training epoch: 3\n",
      "Epoch 3, Train Batch 0, Loss 0.0173, AUC nan, AUCPR 1.0000, Precision 1.0000, Recall 0.9829\n",
      "Epoch 3, Train Batch 1, Loss 0.0174, AUC nan, AUCPR 1.0000, Precision 1.0000, Recall 0.9813\n",
      "Epoch 3, Train Batch 2, Loss 0.0167, AUC nan, AUCPR 1.0000, Precision 1.0000, Recall 0.9811\n",
      "Epoch 3, Train Batch 3, Loss 0.0162, AUC nan, AUCPR 1.0000, Precision 1.0000, Recall 0.9809\n",
      "Epoch 3, Train Batch 4, Loss 0.0159, AUC nan, AUCPR 1.0000, Precision 1.0000, Recall 0.9807\n",
      "Start validation epoch: 3\n",
      "Epoch 3, Valid Loss 0.0009, Valid AUC nan, Valid AUCPR 1.0000, Valid Precision 1.0000, Valid Recall 1.0000\n",
      "Start Training epoch: 4\n",
      "Epoch 4, Train Batch 0, Loss 0.0135, AUC nan, AUCPR 1.0000, Precision 1.0000, Recall 0.9802\n",
      "Epoch 4, Train Batch 1, Loss 0.0129, AUC nan, AUCPR 1.0000, Precision 1.0000, Recall 0.9810\n",
      "Epoch 4, Train Batch 2, Loss 0.0124, AUC nan, AUCPR 1.0000, Precision 1.0000, Recall 0.9815\n",
      "Epoch 4, Train Batch 3, Loss 0.0124, AUC nan, AUCPR 1.0000, Precision 1.0000, Recall 0.9813\n",
      "Epoch 4, Train Batch 4, Loss 0.0124, AUC nan, AUCPR 1.0000, Precision 1.0000, Recall 0.9810\n",
      "Start validation epoch: 4\n",
      "Epoch 4, Valid Loss 0.0002, Valid AUC nan, Valid AUCPR 1.0000, Valid Precision 1.0000, Valid Recall 1.0000\n",
      "Start Training epoch: 5\n",
      "Epoch 5, Train Batch 0, Loss 0.0117, AUC nan, AUCPR 1.0000, Precision 1.0000, Recall 0.9810\n",
      "Epoch 5, Train Batch 1, Loss 0.0112, AUC nan, AUCPR 1.0000, Precision 1.0000, Recall 0.9818\n",
      "Epoch 5, Train Batch 2, Loss 0.0114, AUC nan, AUCPR 1.0000, Precision 1.0000, Recall 0.9815\n",
      "Epoch 5, Train Batch 3, Loss 0.0114, AUC nan, AUCPR 1.0000, Precision 1.0000, Recall 0.9813\n",
      "Epoch 5, Train Batch 4, Loss 0.0114, AUC nan, AUCPR 1.0000, Precision 1.0000, Recall 0.9813\n",
      "Start validation epoch: 5\n",
      "Epoch 5, Valid Loss 0.0001, Valid AUC nan, Valid AUCPR 1.0000, Valid Precision 1.0000, Valid Recall 1.0000\n",
      "Start Training epoch: 6\n",
      "Epoch 6, Train Batch 0, Loss 0.0102, AUC nan, AUCPR 1.0000, Precision 1.0000, Recall 0.9830\n",
      "Epoch 6, Train Batch 1, Loss 0.0110, AUC nan, AUCPR 1.0000, Precision 1.0000, Recall 0.9815\n",
      "Epoch 6, Train Batch 2, Loss 0.0113, AUC nan, AUCPR 1.0000, Precision 1.0000, Recall 0.9810\n",
      "Epoch 6, Train Batch 3, Loss 0.0113, AUC nan, AUCPR 1.0000, Precision 1.0000, Recall 0.9808\n",
      "Epoch 6, Train Batch 4, Loss 0.0113, AUC nan, AUCPR 1.0000, Precision 1.0000, Recall 0.9809\n",
      "Start validation epoch: 6\n",
      "Epoch 6, Valid Loss 0.0000, Valid AUC nan, Valid AUCPR 1.0000, Valid Precision 1.0000, Valid Recall 1.0000\n",
      "Start Training epoch: 7\n",
      "Epoch 7, Train Batch 0, Loss 0.0118, AUC nan, AUCPR 1.0000, Precision 1.0000, Recall 0.9797\n",
      "Epoch 7, Train Batch 1, Loss 0.0117, AUC nan, AUCPR 1.0000, Precision 1.0000, Recall 0.9798\n",
      "Epoch 7, Train Batch 2, Loss 0.0116, AUC nan, AUCPR 1.0000, Precision 1.0000, Recall 0.9800\n",
      "Epoch 7, Train Batch 3, Loss 0.0117, AUC nan, AUCPR 1.0000, Precision 1.0000, Recall 0.9798\n",
      "Epoch 7, Train Batch 4, Loss 0.0115, AUC nan, AUCPR 1.0000, Precision 1.0000, Recall 0.9801\n",
      "Start validation epoch: 7\n",
      "Epoch 7, Valid Loss 0.0000, Valid AUC nan, Valid AUCPR 1.0000, Valid Precision 1.0000, Valid Recall 1.0000\n",
      "Start Training epoch: 8\n",
      "Epoch 8, Train Batch 0, Loss 0.0123, AUC nan, AUCPR 1.0000, Precision 1.0000, Recall 0.9786\n",
      "Epoch 8, Train Batch 1, Loss 0.0120, AUC nan, AUCPR 1.0000, Precision 1.0000, Recall 0.9790\n",
      "Epoch 8, Train Batch 2, Loss 0.0119, AUC nan, AUCPR 1.0000, Precision 1.0000, Recall 0.9793\n",
      "Epoch 8, Train Batch 3, Loss 0.0118, AUC nan, AUCPR 1.0000, Precision 1.0000, Recall 0.9795\n",
      "Epoch 8, Train Batch 4, Loss 0.0117, AUC nan, AUCPR 1.0000, Precision 1.0000, Recall 0.9795\n",
      "Start validation epoch: 8\n",
      "Epoch 8, Valid Loss 0.0000, Valid AUC nan, Valid AUCPR 1.0000, Valid Precision 1.0000, Valid Recall 1.0000\n",
      "Start Training epoch: 9\n",
      "Epoch 9, Train Batch 0, Loss 0.0098, AUC nan, AUCPR 1.0000, Precision 1.0000, Recall 0.9829\n",
      "Epoch 9, Train Batch 1, Loss 0.0106, AUC nan, AUCPR 1.0000, Precision 1.0000, Recall 0.9815\n",
      "Epoch 9, Train Batch 2, Loss 0.0106, AUC nan, AUCPR 1.0000, Precision 1.0000, Recall 0.9814\n",
      "Epoch 9, Train Batch 3, Loss 0.0108, AUC nan, AUCPR 1.0000, Precision 1.0000, Recall 0.9811\n",
      "Epoch 9, Train Batch 4, Loss 0.0106, AUC nan, AUCPR 1.0000, Precision 1.0000, Recall 0.9814\n",
      "Start validation epoch: 9\n",
      "Epoch 9, Valid Loss 0.0000, Valid AUC nan, Valid AUCPR 1.0000, Valid Precision 1.0000, Valid Recall 1.0000\n"
     ]
    }
   ],
   "source": [
    "global_steps = 0\n",
    "logs = {}\n",
    "for epoch in range(10):\n",
    "    # Train\n",
    "    print(\"Start Training epoch:\", epoch)\n",
    "    model.train()\n",
    "    epoch_train_loss = Accumulator()\n",
    "    \n",
    "    epoch_train_auc = []\n",
    "    epoch_train_prec = []\n",
    "    epoch_train_rec = []\n",
    "    epoch_train_apr = []\n",
    "    epoch_best_thr = []\n",
    "    \n",
    "    # Iterate through the loader to get a stream of subgraphs instead of the whole graph\n",
    "    for bid, batch in enumerate(train_loader):\n",
    "        # print(bid, batch)\n",
    "        batchsize = batch.x.shape[0]\n",
    "        norm = T.NormalizeFeatures()\n",
    "        batch = norm(batch).to(device)\n",
    "        batch.x = batch.x.type(torch.FloatTensor)\n",
    "        batch.y = batch.y.type(torch.LongTensor)\n",
    "       \n",
    "        # Forward pass\n",
    "        out = model(batch.x, batch.edge_index, batch.edge_weight)\n",
    "        # Calculate loss\n",
    "        class_weight = torch.FloatTensor([1.0, 15.0])\n",
    "        loss = F.cross_entropy(out[batch.is_training], batch.y[batch.is_training], class_weight)\n",
    "        # f1_loss(batch.y[batch.is_training], out[batch.is_training], is_training=True)\n",
    "        # Backward pass\n",
    "        optimizer.zero_grad()\n",
    "        loss.backward()\n",
    "        optimizer.step()\n",
    "        epoch_train_loss.update(loss.item() * batchsize, batchsize)\n",
    "        # Predict on training data\n",
    "        with torch.no_grad():\n",
    "            pred = out.argmax(dim=1)\n",
    "            y_pred = out[batch.is_training][:,1].cpu().numpy()\n",
    "            y_true = batch.y[batch.is_training].cpu().numpy()\n",
    "            # softmax = F.softmax(out, dim=1)[batch.is_training][:,1].cpu().numpy()\n",
    "            best_threshold = threshold_search(y_true, y_pred)\n",
    "            y_pred1 = (y_pred > best_threshold).astype(int)\n",
    "\n",
    "            try:\n",
    "                epoch_train_auc.append(roc_auc_score(y_true, y_pred))\n",
    "            except:\n",
    "                epoch_train_auc.append(np.NaN)\n",
    "                \n",
    "            epoch_train_prec.append(precision_score(y_true, y_pred1))\n",
    "            epoch_train_rec.append(recall_score(y_true, y_pred1))\n",
    "            epoch_train_apr.append(average_precision_score(y_true, y_pred))\n",
    "            epoch_best_thr.append(best_threshold)\n",
    "            \n",
    "        # Log training status after each batch\n",
    "        logs[\"loss\"] = epoch_train_loss.mean\n",
    "        logs[\"auc\"] = np.mean(epoch_train_auc)\n",
    "        logs[\"prec\"] = np.mean(epoch_train_prec)\n",
    "        logs[\"rec\"] = np.mean(epoch_train_rec)\n",
    "        logs[\"apr\"] = np.mean(epoch_train_apr)\n",
    "        logs[\"thr\"] = np.mean(epoch_best_thr)\n",
    "        \n",
    "        print(\n",
    "            \"Epoch {}, Train Batch {}, Loss {:.4f}, AUC {:.4f}, AUCPR {:.4f}, Precision {:.4f}, Recall {:.4f}\".format(\n",
    "                epoch, bid, logs[\"loss\"], logs[\"auc\"], logs[\"apr\"], logs[\"prec\"], logs[\"rec\"]\n",
    "            )\n",
    "        )\n",
    "        global_steps += 1\n",
    "    # Evaluate\n",
    "    print(\"Start validation epoch:\", epoch)\n",
    "    model.eval()\n",
    "    epoch_val_loss = Accumulator()\n",
    "    epoch_val_prec = []\n",
    "    epoch_val_rec = []\n",
    "    epoch_val_auc = []\n",
    "    epoch_val_apr = []\n",
    "    \n",
    "    for batch in valid_loader:\n",
    "        batchsize = batch.x.shape[0]\n",
    "        norm = T.NormalizeFeatures()\n",
    "        batch = norm(batch).to(device)\n",
    "        with torch.no_grad():\n",
    "            # Forward pass\n",
    "            batch.x = batch.x.type(torch.FloatTensor)\n",
    "            batch.y = batch.y.type(torch.LongTensor)\n",
    "            out = model(batch.x, batch.edge_index)   \n",
    "            # Calculate loss\n",
    "            class_weight = torch.FloatTensor([1.0, 20.0])\n",
    "            valid_loss = F.cross_entropy(out[batch.is_validation], batch.y[batch.is_validation], class_weight)\n",
    "            # f1_loss(batch.y[batch.is_validation], out[batch.is_validation])\n",
    "            epoch_val_loss.update(valid_loss.item() * batchsize, batchsize)\n",
    "            # Prediction\n",
    "            pred = out.argmax(dim=1)\n",
    "            y_pred = out[batch.is_validation][:,1].cpu().numpy()\n",
    "            y_true = batch.y[batch.is_validation].cpu().numpy()\n",
    "            # softmax = F.softmax(out, dim=1)[batch.is_validation][:,1].cpu().numpy()\n",
    "            y_pred1 = (y_pred > np.mean(epoch_best_thr)).astype(int)\n",
    "            \n",
    "            try:\n",
    "                epoch_val_auc.append(roc_auc_score(y_true, y_pred))\n",
    "            except:\n",
    "                epoch_val_auc.append(np.NaN)\n",
    "            epoch_val_prec.append(precision_score(y_true, y_pred1))\n",
    "            epoch_val_rec.append(recall_score(y_true, y_pred1))\n",
    "            epoch_val_apr.append(average_precision_score(y_true, y_pred))\n",
    "\n",
    "    # Log testing result after each epoch\n",
    "    logs[\"val_loss\"] = epoch_val_loss.mean\n",
    "    logs[\"val_prec\"] = np.mean(epoch_val_prec)\n",
    "    logs[\"val_auc\"] = np.mean(epoch_val_auc)\n",
    "    logs[\"val_rec\"] = np.mean(epoch_val_rec)\n",
    "    logs[\"val_apr\"] = np.mean(epoch_val_apr)\n",
    "    print(\n",
    "        \"Epoch {}, Valid Loss {:.4f}, Valid AUC {:.4f}, Valid AUCPR {:.4f}, Valid Precision {:.4f}, Valid Recall {:.4f}\".format(\n",
    "            epoch, logs[\"val_loss\"], logs[\"val_auc\"], logs[\"val_apr\"], logs[\"val_prec\"], logs[\"val_rec\"]\n",
    "        )\n",
    "    )\n"
   ]
  },
  {
   "cell_type": "markdown",
   "id": "1918943d-6830-4bdf-8fd9-459e9601a812",
   "metadata": {},
   "source": [
    "## **Define and Run Explainability Model**\n",
    "This samples a random vertex that was predicted to be fraudulent and visualizes the subgraph around it."
   ]
  },
  {
   "cell_type": "code",
   "execution_count": 44,
   "id": "cd1a1b0e-ed7a-4b58-94e0-8d22363ca13d",
   "metadata": {},
   "outputs": [
    {
     "name": "stderr",
     "output_type": "stream",
     "text": [
      "Explain node 3012: 100%|██████████| 1/1 [00:00<00:00, 112.94it/s]\n",
      "Explain node 3012: 100%|██████████| 100/100 [00:00<00:00, 337.86it/s]\n"
     ]
    },
    {
     "data": {
      "image/png": "[encoded data removed]",
      "text/plain": [
       "<Figure size 432x288 with 1 Axes>"
      ]
     },
     "metadata": {},
     "output_type": "display_data"
    }
   ],
   "source": [
    "node_idx = sample_vertex()\n",
    "x, edge_index = batch.x, batch.edge_index\n",
    "explainer = GNNExplainer(model, epochs=100)\n",
    "node_feat_mask, edge_mask = explainer.explain_node(node_idx, x, edge_index)"
   ]
  },
  {
   "cell_type": "markdown",
   "id": "4de33869-2490-47aa-a7bc-da2626a0b3d0",
   "metadata": {},
   "source": [
    "## **Show Local Feature Importance**\n",
    "Using the sampled vertex from above, view the features that contributed the most to the fraudulent prediction."
   ]
  },
  {
   "cell_type": "code",
   "execution_count": 45,
   "id": "4b29d41d-e4c0-41c6-835f-789191ba931c",
   "metadata": {},
   "outputs": [
    {
     "name": "stderr",
     "output_type": "stream",
     "text": [
      "Explain node 1122: 100%|██████████| 100/100 [00:00<00:00, 563.70it/s]\n",
      "Explain node 6051: 100%|██████████| 100/100 [00:00<00:00, 455.97it/s]\n",
      "Explain node 774: 100%|██████████| 100/100 [00:00<00:00, 578.38it/s]\n",
      "Explain node 2547: 100%|██████████| 100/100 [00:00<00:00, 569.70it/s]\n",
      "Explain node 1622: 100%|██████████| 100/100 [00:00<00:00, 552.58it/s]"
     ]
    },
    {
     "name": "stdout",
     "output_type": "stream",
     "text": [
      "---- Normalized Feature Importance\n",
      " \n"
     ]
    },
    {
     "name": "stderr",
     "output_type": "stream",
     "text": [
      "\n"
     ]
    },
    {
     "data": {
      "text/html": [
       "<style type=\"text/css\">\n",
       "#T_4525d_row0_col0, #T_4525d_row2_col3 {\n",
       "  background-color: #fbf4f9;\n",
       "  color: #000000;\n",
       "}\n",
       "#T_4525d_row0_col1, #T_4525d_row5_col3 {\n",
       "  background-color: #034165;\n",
       "  color: #f1f1f1;\n",
       "}\n",
       "#T_4525d_row0_col2, #T_4525d_row4_col3 {\n",
       "  background-color: #023a5b;\n",
       "  color: #f1f1f1;\n",
       "}\n",
       "#T_4525d_row0_col3, #T_4525d_row1_col6, #T_4525d_row2_col1, #T_4525d_row3_col6, #T_4525d_row4_col1, #T_4525d_row5_col6 {\n",
       "  background-color: #023858;\n",
       "  color: #f1f1f1;\n",
       "}\n",
       "#T_4525d_row0_col4, #T_4525d_row1_col4, #T_4525d_row2_col6, #T_4525d_row3_col5, #T_4525d_row4_col6, #T_4525d_row5_col5 {\n",
       "  background-color: #fff7fb;\n",
       "  color: #000000;\n",
       "}\n",
       "#T_4525d_row0_col5, #T_4525d_row1_col5 {\n",
       "  background-color: #fdf5fa;\n",
       "  color: #000000;\n",
       "}\n",
       "#T_4525d_row0_col6 {\n",
       "  background-color: #f5eff6;\n",
       "  color: #000000;\n",
       "}\n",
       "#T_4525d_row1_col0 {\n",
       "  background-color: #f7f0f7;\n",
       "  color: #000000;\n",
       "}\n",
       "#T_4525d_row1_col1 {\n",
       "  background-color: #03446a;\n",
       "  color: #f1f1f1;\n",
       "}\n",
       "#T_4525d_row1_col2, #T_4525d_row2_col4 {\n",
       "  background-color: #034267;\n",
       "  color: #f1f1f1;\n",
       "}\n",
       "#T_4525d_row1_col3, #T_4525d_row5_col2 {\n",
       "  background-color: #034c78;\n",
       "  color: #f1f1f1;\n",
       "}\n",
       "#T_4525d_row2_col0 {\n",
       "  background-color: #045483;\n",
       "  color: #f1f1f1;\n",
       "}\n",
       "#T_4525d_row2_col2 {\n",
       "  background-color: #02395a;\n",
       "  color: #f1f1f1;\n",
       "}\n",
       "#T_4525d_row2_col5, #T_4525d_row5_col0 {\n",
       "  background-color: #fcf4fa;\n",
       "  color: #000000;\n",
       "}\n",
       "#T_4525d_row3_col0 {\n",
       "  background-color: #f2ecf5;\n",
       "  color: #000000;\n",
       "}\n",
       "#T_4525d_row3_col1 {\n",
       "  background-color: #03466e;\n",
       "  color: #f1f1f1;\n",
       "}\n",
       "#T_4525d_row3_col2 {\n",
       "  background-color: #023f64;\n",
       "  color: #f1f1f1;\n",
       "}\n",
       "#T_4525d_row3_col3 {\n",
       "  background-color: #034a74;\n",
       "  color: #f1f1f1;\n",
       "}\n",
       "#T_4525d_row3_col4 {\n",
       "  background-color: #f6eff7;\n",
       "  color: #000000;\n",
       "}\n",
       "#T_4525d_row4_col0 {\n",
       "  background-color: #f1ebf5;\n",
       "  color: #000000;\n",
       "}\n",
       "#T_4525d_row4_col2 {\n",
       "  background-color: #034b76;\n",
       "  color: #f1f1f1;\n",
       "}\n",
       "#T_4525d_row4_col4 {\n",
       "  background-color: #eee8f3;\n",
       "  color: #000000;\n",
       "}\n",
       "#T_4525d_row4_col5 {\n",
       "  background-color: #e7e3f0;\n",
       "  color: #000000;\n",
       "}\n",
       "#T_4525d_row5_col1 {\n",
       "  background-color: #045280;\n",
       "  color: #f1f1f1;\n",
       "}\n",
       "#T_4525d_row5_col4 {\n",
       "  background-color: #f0eaf4;\n",
       "  color: #000000;\n",
       "}\n",
       "</style>\n",
       "<table id=\"T_4525d\">\n",
       "  <thead>\n",
       "    <tr>\n",
       "      <th class=\"blank level0\" >&nbsp;</th>\n",
       "      <th id=\"T_4525d_level0_col0\" class=\"col_heading level0 col0\" >in_degree</th>\n",
       "      <th id=\"T_4525d_level0_col1\" class=\"col_heading level0 col1\" >out_degree</th>\n",
       "      <th id=\"T_4525d_level0_col2\" class=\"col_heading level0 col2\" >send_amount</th>\n",
       "      <th id=\"T_4525d_level0_col3\" class=\"col_heading level0 col3\" >send_min</th>\n",
       "      <th id=\"T_4525d_level0_col4\" class=\"col_heading level0 col4\" >recv_amount</th>\n",
       "      <th id=\"T_4525d_level0_col5\" class=\"col_heading level0 col5\" >recv_min</th>\n",
       "      <th id=\"T_4525d_level0_col6\" class=\"col_heading level0 col6\" >pagerank</th>\n",
       "    </tr>\n",
       "    <tr>\n",
       "      <th class=\"index_name level0\" >Account ID</th>\n",
       "      <th class=\"blank col0\" >&nbsp;</th>\n",
       "      <th class=\"blank col1\" >&nbsp;</th>\n",
       "      <th class=\"blank col2\" >&nbsp;</th>\n",
       "      <th class=\"blank col3\" >&nbsp;</th>\n",
       "      <th class=\"blank col4\" >&nbsp;</th>\n",
       "      <th class=\"blank col5\" >&nbsp;</th>\n",
       "      <th class=\"blank col6\" >&nbsp;</th>\n",
       "    </tr>\n",
       "  </thead>\n",
       "  <tbody>\n",
       "    <tr>\n",
       "      <th id=\"T_4525d_level0_row0\" class=\"row_heading level0 row0\" >3012</th>\n",
       "      <td id=\"T_4525d_row0_col0\" class=\"data row0 col0\" >0.283832</td>\n",
       "      <td id=\"T_4525d_row0_col1\" class=\"data row0 col1\" >0.723604</td>\n",
       "      <td id=\"T_4525d_row0_col2\" class=\"data row0 col2\" >0.735841</td>\n",
       "      <td id=\"T_4525d_row0_col3\" class=\"data row0 col3\" >0.739655</td>\n",
       "      <td id=\"T_4525d_row0_col4\" class=\"data row0 col4\" >0.272275</td>\n",
       "      <td id=\"T_4525d_row0_col5\" class=\"data row0 col5\" >0.280259</td>\n",
       "      <td id=\"T_4525d_row0_col6\" class=\"data row0 col6\" >0.302893</td>\n",
       "    </tr>\n",
       "    <tr>\n",
       "      <th id=\"T_4525d_level0_row1\" class=\"row_heading level0 row1\" >1122 (1122)</th>\n",
       "      <td id=\"T_4525d_row1_col0\" class=\"data row1 col0\" >0.293347</td>\n",
       "      <td id=\"T_4525d_row1_col1\" class=\"data row1 col1\" >0.728357</td>\n",
       "      <td id=\"T_4525d_row1_col2\" class=\"data row1 col2\" >0.732454</td>\n",
       "      <td id=\"T_4525d_row1_col3\" class=\"data row1 col3\" >0.714156</td>\n",
       "      <td id=\"T_4525d_row1_col4\" class=\"data row1 col4\" >0.266076</td>\n",
       "      <td id=\"T_4525d_row1_col5\" class=\"data row1 col5\" >0.274703</td>\n",
       "      <td id=\"T_4525d_row1_col6\" class=\"data row1 col6\" >0.750739</td>\n",
       "    </tr>\n",
       "    <tr>\n",
       "      <th id=\"T_4525d_level0_row2\" class=\"row_heading level0 row2\" >6051 (6051)</th>\n",
       "      <td id=\"T_4525d_row2_col0\" class=\"data row2 col0\" >0.721079</td>\n",
       "      <td id=\"T_4525d_row2_col1\" class=\"data row2 col1\" >0.772563</td>\n",
       "      <td id=\"T_4525d_row2_col2\" class=\"data row2 col2\" >0.770108</td>\n",
       "      <td id=\"T_4525d_row2_col3\" class=\"data row2 col3\" >0.288221</td>\n",
       "      <td id=\"T_4525d_row2_col4\" class=\"data row2 col4\" >0.754661</td>\n",
       "      <td id=\"T_4525d_row2_col5\" class=\"data row2 col5\" >0.286505</td>\n",
       "      <td id=\"T_4525d_row2_col6\" class=\"data row2 col6\" >0.275103</td>\n",
       "    </tr>\n",
       "    <tr>\n",
       "      <th id=\"T_4525d_level0_row3\" class=\"row_heading level0 row3\" >774 (774)</th>\n",
       "      <td id=\"T_4525d_row3_col0\" class=\"data row3 col0\" >0.286575</td>\n",
       "      <td id=\"T_4525d_row3_col1\" class=\"data row3 col1\" >0.731734</td>\n",
       "      <td id=\"T_4525d_row3_col2\" class=\"data row3 col2\" >0.744844</td>\n",
       "      <td id=\"T_4525d_row3_col3\" class=\"data row3 col3\" >0.722876</td>\n",
       "      <td id=\"T_4525d_row3_col4\" class=\"data row3 col4\" >0.272437</td>\n",
       "      <td id=\"T_4525d_row3_col5\" class=\"data row3 col5\" >0.241045</td>\n",
       "      <td id=\"T_4525d_row3_col6\" class=\"data row3 col6\" >0.759189</td>\n",
       "    </tr>\n",
       "    <tr>\n",
       "      <th id=\"T_4525d_level0_row4\" class=\"row_heading level0 row4\" >2547 (2547)</th>\n",
       "      <td id=\"T_4525d_row4_col0\" class=\"data row4 col0\" >0.252399</td>\n",
       "      <td id=\"T_4525d_row4_col1\" class=\"data row4 col1\" >0.721460</td>\n",
       "      <td id=\"T_4525d_row4_col2\" class=\"data row4 col2\" >0.684580</td>\n",
       "      <td id=\"T_4525d_row4_col3\" class=\"data row4 col3\" >0.716750</td>\n",
       "      <td id=\"T_4525d_row4_col4\" class=\"data row4 col4\" >0.264038</td>\n",
       "      <td id=\"T_4525d_row4_col5\" class=\"data row4 col5\" >0.281948</td>\n",
       "      <td id=\"T_4525d_row4_col6\" class=\"data row4 col6\" >0.205114</td>\n",
       "    </tr>\n",
       "    <tr>\n",
       "      <th id=\"T_4525d_level0_row5\" class=\"row_heading level0 row5\" >1622 (1622)</th>\n",
       "      <td id=\"T_4525d_row5_col0\" class=\"data row5 col0\" >0.269606</td>\n",
       "      <td id=\"T_4525d_row5_col1\" class=\"data row5 col1\" >0.703921</td>\n",
       "      <td id=\"T_4525d_row5_col2\" class=\"data row5 col2\" >0.712597</td>\n",
       "      <td id=\"T_4525d_row5_col3\" class=\"data row5 col3\" >0.733703</td>\n",
       "      <td id=\"T_4525d_row5_col4\" class=\"data row5 col4\" >0.309112</td>\n",
       "      <td id=\"T_4525d_row5_col5\" class=\"data row5 col5\" >0.259670</td>\n",
       "      <td id=\"T_4525d_row5_col6\" class=\"data row5 col6\" >0.750598</td>\n",
       "    </tr>\n",
       "  </tbody>\n",
       "</table>\n"
      ],
      "text/plain": [
       "<pandas.io.formats.style.Styler at 0x7fe900ac72b0>"
      ]
     },
     "metadata": {},
     "output_type": "display_data"
    },
    {
     "name": "stdout",
     "output_type": "stream",
     "text": [
      "---- Normalized Feature Values\n",
      " \n"
     ]
    },
    {
     "data": {
      "text/html": [
       "<div>\n",
       "<style scoped>\n",
       "    .dataframe tbody tr th:only-of-type {\n",
       "        vertical-align: middle;\n",
       "    }\n",
       "\n",
       "    .dataframe tbody tr th {\n",
       "        vertical-align: top;\n",
       "    }\n",
       "\n",
       "    .dataframe thead th {\n",
       "        text-align: right;\n",
       "    }\n",
       "</style>\n",
       "<table border=\"1\" class=\"dataframe\">\n",
       "  <thead>\n",
       "    <tr style=\"text-align: right;\">\n",
       "      <th></th>\n",
       "      <th>in_degree</th>\n",
       "      <th>out_degree</th>\n",
       "      <th>send_amount</th>\n",
       "      <th>send_min</th>\n",
       "      <th>recv_amount</th>\n",
       "      <th>recv_min</th>\n",
       "      <th>pagerank</th>\n",
       "    </tr>\n",
       "  </thead>\n",
       "  <tbody>\n",
       "    <tr>\n",
       "      <th>3012</th>\n",
       "      <td>0.00000</td>\n",
       "      <td>0.465116</td>\n",
       "      <td>0.232558</td>\n",
       "      <td>0.232558</td>\n",
       "      <td>0.000000</td>\n",
       "      <td>0.00000</td>\n",
       "      <td>0.069767</td>\n",
       "    </tr>\n",
       "    <tr>\n",
       "      <th>3012</th>\n",
       "      <td>0.02368</td>\n",
       "      <td>0.363093</td>\n",
       "      <td>0.434995</td>\n",
       "      <td>0.000020</td>\n",
       "      <td>0.149237</td>\n",
       "      <td>0.00058</td>\n",
       "      <td>0.028394</td>\n",
       "    </tr>\n",
       "    <tr>\n",
       "      <th>3012</th>\n",
       "      <td>0.00000</td>\n",
       "      <td>0.465116</td>\n",
       "      <td>0.232558</td>\n",
       "      <td>0.232558</td>\n",
       "      <td>0.000000</td>\n",
       "      <td>0.00000</td>\n",
       "      <td>0.069767</td>\n",
       "    </tr>\n",
       "    <tr>\n",
       "      <th>3012</th>\n",
       "      <td>0.00000</td>\n",
       "      <td>0.363636</td>\n",
       "      <td>0.290909</td>\n",
       "      <td>0.290909</td>\n",
       "      <td>0.000000</td>\n",
       "      <td>0.00000</td>\n",
       "      <td>0.054545</td>\n",
       "    </tr>\n",
       "    <tr>\n",
       "      <th>3012</th>\n",
       "      <td>0.00000</td>\n",
       "      <td>0.465116</td>\n",
       "      <td>0.232558</td>\n",
       "      <td>0.232558</td>\n",
       "      <td>0.000000</td>\n",
       "      <td>0.00000</td>\n",
       "      <td>0.069767</td>\n",
       "    </tr>\n",
       "  </tbody>\n",
       "</table>\n",
       "</div>"
      ],
      "text/plain": [
       "      in_degree  out_degree  send_amount  send_min  recv_amount  recv_min  \\\n",
       "3012    0.00000    0.465116     0.232558  0.232558     0.000000   0.00000   \n",
       "3012    0.02368    0.363093     0.434995  0.000020     0.149237   0.00058   \n",
       "3012    0.00000    0.465116     0.232558  0.232558     0.000000   0.00000   \n",
       "3012    0.00000    0.363636     0.290909  0.290909     0.000000   0.00000   \n",
       "3012    0.00000    0.465116     0.232558  0.232558     0.000000   0.00000   \n",
       "\n",
       "      pagerank  \n",
       "3012  0.069767  \n",
       "3012  0.028394  \n",
       "3012  0.069767  \n",
       "3012  0.054545  \n",
       "3012  0.069767  "
      ]
     },
     "metadata": {},
     "output_type": "display_data"
    },
    {
     "data": {
      "image/png": "[encoded data removed]",
      "text/plain": [
       "<Figure size 432x288 with 1 Axes>"
      ]
     },
     "metadata": {},
     "output_type": "display_data"
    }
   ],
   "source": [
    "import pandas as pd\n",
    "from IPython.display import display\n",
    "\n",
    "ax, G = explainer.visualize_subgraph(node_idx, edge_index, edge_mask, y = batch.y)\n",
    "feature_values = list()\n",
    "feature_values.append([\"{}\".format(node_idx)] + node_feat_mask.tolist())  # Center ID\n",
    "important_accounts = set()\n",
    "for src, dst, attr in G.edges(data=True):\n",
    "    edge_importance = attr[\"att\"]\n",
    "    if edge_importance >= 0.001:\n",
    "        if src == node_idx:\n",
    "            important_accounts.add(dst)\n",
    "        elif dst == node_idx:\n",
    "            important_accounts.add(src)\n",
    "\n",
    "subg_accts = list(important_accounts)\n",
    "for acct_idx in important_accounts:\n",
    "    target_id = acct_idx\n",
    "    node_feat_mask, _ = explainer.explain_node(acct_idx, x, edge_index)\n",
    "    feature_values.append([\"{} ({})\".format(target_id, acct_idx)] + node_feat_mask.tolist())\n",
    "feature_names = ['in_degree', 'out_degree', 'send_amount', 'send_min', 'recv_amount', 'recv_min', 'pagerank']\n",
    "df = pd.DataFrame(feature_values, columns=[\"Account ID\"] + feature_names).set_index(\"Account ID\")\n",
    "print(\"---- Normalized Feature Importance\")\n",
    "print(\" \")\n",
    "display(df.style.background_gradient(axis=1))\n",
    "print(\"---- Normalized Feature Values\")\n",
    "print(\" \")\n",
    "feature_df = pd.DataFrame(batch.x.cpu().numpy(), columns = feature_names)\n",
    "display(feature_df.loc[subg_accts].rename(index=lambda acct: \"{}\".format(node_idx)))"
   ]
  },
  {
   "cell_type": "code",
   "execution_count": null,
   "id": "eb6921a4",
   "metadata": {},
   "outputs": [],
   "source": []
  }
 ],
 "metadata": {
  "kernelspec": {
   "display_name": "Python 3.9.12 ('pytg-pyg-test')",
   "language": "python",
   "name": "python3"
  },
  "language_info": {
   "codemirror_mode": {
    "name": "ipython",
    "version": 3
   },
   "file_extension": ".py",
   "mimetype": "text/x-python",
   "name": "python",
   "nbconvert_exporter": "python",
   "pygments_lexer": "ipython3",
   "version": "3.9.12"
  },
  "vscode": {
   "interpreter": {
    "hash": "241cd557769fa998e5389722c5bb2b70caa7297f9b55039907d28a2a4b1662b5"
   }
  }
 },
 "nbformat": 4,
 "nbformat_minor": 5
}
