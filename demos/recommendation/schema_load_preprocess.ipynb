{
 "cells": [
  {
   "cell_type": "markdown",
   "id": "192699aa-389d-4a5b-be28-daba93e0383e",
   "metadata": {},
   "source": [
    "# Load Recommendation Data\n",
    "\n",
    "We will load the LastFM dataset."
   ]
  },
  {
   "cell_type": "markdown",
   "id": "1fd890d5-2500-4b68-9a96-0e9d4d88596b",
   "metadata": {},
   "source": [
    "## Instantiate Connection to Database and Create Graph"
   ]
  },
  {
   "cell_type": "code",
   "execution_count": 1,
   "id": "13452beb-8296-4a77-9653-8335aaf6db62",
   "metadata": {},
   "outputs": [
    {
     "name": "stdout",
     "output_type": "stream",
     "text": [
      "The graph LastFM is created.\n"
     ]
    }
   ],
   "source": [
    "from pyTigerGraph import TigerGraphConnection\n",
    "conn = TigerGraphConnection(\n",
    "    host=\"http://127.0.0.1\", # Change the address to your database server's\n",
    "    graphname=\"LastFM\",\n",
    "    username=\"tigergraph\",\n",
    "    password=\"tigergraph\",\n",
    "    useCert=False\n",
    ")\n",
    "print(conn.gsql(\"CREATE GRAPH LastFM()\"))"
   ]
  },
  {
   "cell_type": "markdown",
   "id": "02cf7f32-46ad-4ead-9ebc-fa2016188d83",
   "metadata": {},
   "source": [
    "## Create Schema And Load data"
   ]
  },
  {
   "cell_type": "code",
   "execution_count": 2,
   "id": "ebfa7a8c-8bbe-483b-870d-d257514bff2b",
   "metadata": {},
   "outputs": [
    {
     "name": "stdout",
     "output_type": "stream",
     "text": [
      "Using graph 'LastFM'\n",
      "Successfully created schema change jobs: [lastfm_schema].\n",
      "Kick off schema change job lastfm_schema\n",
      "Doing schema change on graph 'LastFM' (current version: 0)\n",
      "Trying to add local vertex 'User' to the graph 'LastFM'.\n",
      "Trying to add local vertex 'Item' to the graph 'LastFM'.\n",
      "Trying to add local edge 'Interact' to the graph 'LastFM'.\n",
      "\n",
      "Graph LastFM updated to new version 1\n",
      "The job lastfm_schema completes in 4.911 seconds!\n"
     ]
    }
   ],
   "source": [
    "print(conn.gsql(open(\"./gsql/schema.gsql\", \"r\").read()))"
   ]
  },
  {
   "cell_type": "code",
   "execution_count": 3,
   "id": "90bfc52d-1cd9-4030-91d6-5dacfb7c4259",
   "metadata": {},
   "outputs": [
    {
     "name": "stdout",
     "output_type": "stream",
     "text": [
      "Using graph 'LastFM'\n",
      "Successfully created loading jobs: [Load_LastFM_User].\n",
      "Successfully created loading jobs: [Load_LastFM_Item].\n",
      "Successfully created loading jobs: [Load_LastFM_Interact].\n"
     ]
    }
   ],
   "source": [
    "print(conn.gsql(open(\"./gsql/load.gsql\", \"r\").read()))"
   ]
  },
  {
   "cell_type": "code",
   "execution_count": 4,
   "id": "f36975ae-6420-4b3c-94f2-cd957acfb649",
   "metadata": {},
   "outputs": [
    {
     "data": {
      "text/plain": [
       "[{'sourceFileName': 'Online_POST',\n",
       "  'statistics': {'validLine': 92835,\n",
       "   'rejectLine': 0,\n",
       "   'failedConditionLine': 0,\n",
       "   'notEnoughToken': 0,\n",
       "   'invalidJson': 0,\n",
       "   'oversizeToken': 0,\n",
       "   'vertex': [],\n",
       "   'edge': [{'typeName': 'Interact',\n",
       "     'validObject': 92834,\n",
       "     'noIdFound': 0,\n",
       "     'invalidAttribute': 1,\n",
       "     'invalidAttributeLines': ['1:is_train'],\n",
       "     'invalidAttributeLinesData': ['user,item,is_train,is_test\\n'],\n",
       "     'invalidVertexType': 0,\n",
       "     'invalidPrimaryId': 2,\n",
       "     'invalidSecondaryId': 0,\n",
       "     'incorrectFixedBinaryLength': 0}],\n",
       "   'deleteVertex': [],\n",
       "   'deleteEdge': []}}]"
      ]
     },
     "execution_count": 4,
     "metadata": {},
     "output_type": "execute_result"
    }
   ],
   "source": [
    "conn.runLoadingJobWithFile(\"./data/lastmf.csv\", \"file1\", \"Load_LastFM_User\")\n",
    "\n",
    "conn.runLoadingJobWithFile(\"./data/lastmf.csv\", \"file1\", \"Load_LastFM_Item\")\n",
    "\n",
    "conn.runLoadingJobWithFile(\"./data/lastmf.csv\", \"file1\", \"Load_LastFM_Interact\")"
   ]
  },
  {
   "cell_type": "code",
   "execution_count": null,
   "id": "6d155fe2-ae39-468f-842a-040a7e402fca",
   "metadata": {},
   "outputs": [],
   "source": []
  }
 ],
 "metadata": {
  "kernelspec": {
   "display_name": "Python 3.9.12 ('pytg-pyg-test')",
   "language": "python",
   "name": "python3"
  },
  "language_info": {
   "codemirror_mode": {
    "name": "ipython",
    "version": 3
   },
   "file_extension": ".py",
   "mimetype": "text/x-python",
   "name": "python",
   "nbconvert_exporter": "python",
   "pygments_lexer": "ipython3",
   "version": "3.9.12"
  },
  "vscode": {
   "interpreter": {
    "hash": "241cd557769fa998e5389722c5bb2b70caa7297f9b55039907d28a2a4b1662b5"
   }
  }
 },
 "nbformat": 4,
 "nbformat_minor": 5
}
