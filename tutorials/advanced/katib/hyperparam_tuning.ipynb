{
 "cells": [
  {
   "cell_type": "markdown",
   "id": "1a64fb37-f3b3-4793-9d0b-7e68aaa603c5",
   "metadata": {},
   "source": [
    "# Hyperparameter Tuning with Katib\n",
    "This notebook demonstrates hyperparameter tuning with Katib on TigerGraph's [ML Workbench Cloud](https://ml.tgcloud.io). We will use the Cora dataset and the GraphSAGE model from previous tutorials. It is recommended to go over the [GraphSAGE](https://github.com/TigerGraph-DevLabs/mlworkbench-docs/blob/main/tutorials/gnn_pyg/graphsage_node_classification.ipynb) tutorials first. Now let's see how to automatically optimize the hyperparameters of the GraphSAGE model."
   ]
  },
  {
   "cell_type": "markdown",
   "id": "31c96e75",
   "metadata": {},
   "source": [
    "**NOTE**: Currently, your database needs to be activated (only once) to enjoy all the functions provided by the ML Workbench. If you are using ML Workbench on Cloud, then the activator is included and you can run the cell below (uncomment first) to activate. For other versions of the Workbench, you can download the activator at https://act.tigergraphlabs.com. Detailed instructions are also included on that website. "
   ]
  },
  {
   "cell_type": "code",
   "execution_count": null,
   "id": "24df69b9",
   "metadata": {},
   "outputs": [],
   "source": [
    "# Uncomment below and fill out the necessary information. For detailed instructions, please see https://act.tigergraphlabs.com\n",
    "# !mlwb activate [database address] -u [username] -p [password] -s [secret]"
   ]
  },
  {
   "cell_type": "markdown",
   "id": "3ef079b5-a75a-4206-b664-ff72dc15451f",
   "metadata": {},
   "source": [
    "## Data Processing <a name=\"data_processing\"></a>\n",
    "\n",
    "Here we assume the dataset is already ingested into the TigerGraph database. If not, please refer to the  [data ingestion](https://github.com/TigerGraph-DevLabs/mlworkbench-docs/blob/main/tutorials/basics/0_data_ingestion.ipynb) tutorial first. "
   ]
  },
  {
   "cell_type": "markdown",
   "id": "07b79d79-1a95-4553-adf9-a223435a702d",
   "metadata": {},
   "source": [
    "## Training Script"
   ]
  },
  {
   "cell_type": "markdown",
   "id": "4d0b6b4a-fd33-4a98-95b2-ed8c0ee85d3f",
   "metadata": {},
   "source": [
    "The next step is to prepare the training script. This script should contain the whole process of training a model from model definition to the actual training loop. Hyperparameters of the model should be input arguments to this script, and model performance metrics should be logged for Katib to tune the hyperparameters.\n",
    "\n",
    "An example training script `train.py` is included in this folder. Please read the comments in it closely and make the necessary changes. "
   ]
  },
  {
   "cell_type": "markdown",
   "id": "179ec8cd-0fd7-47ae-af98-77aa88316a11",
   "metadata": {},
   "source": [
    "## Docker Image"
   ]
  },
  {
   "cell_type": "markdown",
   "id": "0e6d4814-d5fd-40f0-a936-e5dca913e864",
   "metadata": {},
   "source": [
    "To run the training script with Katib, we need to containerize it and build a docker image. An example `Dockerfile` is included in this folder.\n",
    "\n",
    "To build the image, run the command below on your terminal. You will need Docker installed.\n",
    "\n",
    "`docker build -t katib-example:latest .` \n",
    "\n",
    "Then push the image to a repo that you have access to instead of `tigergraphml` in this example. \n",
    "\n",
    "`docker tag katib-example:latest tigergraphml/katib-example:latest`\n",
    "\n",
    "`docker push tigergraphml/katib-example:latest`\n"
   ]
  },
  {
   "cell_type": "markdown",
   "id": "dd10537b-109b-4d91-bf33-4f5718d33b32",
   "metadata": {},
   "source": [
    "## Experiment"
   ]
  },
  {
   "cell_type": "markdown",
   "id": "f8414bb1-d940-4714-8771-a888d1312bc1",
   "metadata": {},
   "source": [
    "Finally, we start the tuning process. First, we are going to generate the specs for this experiment. Then we call Katib's API to create and launch the experiment. \n",
    "\n",
    "The code below has to be run on the [ML Workbench Cloud](https://ml.tgcloud.io)."
   ]
  },
  {
   "cell_type": "code",
   "execution_count": 1,
   "id": "a356a9d3-ff58-4ebc-b6f9-7e35168c04c6",
   "metadata": {},
   "outputs": [],
   "source": [
    "from kubeflow.katib import KatibClient\n",
    "from kubernetes.client import V1ObjectMeta\n",
    "from kubeflow.katib import V1beta1Experiment\n",
    "from kubeflow.katib import V1beta1AlgorithmSpec\n",
    "from kubeflow.katib import V1beta1ObjectiveSpec\n",
    "from kubeflow.katib import V1beta1FeasibleSpace\n",
    "from kubeflow.katib import V1beta1ExperimentSpec\n",
    "from kubeflow.katib import V1beta1ObjectiveSpec\n",
    "from kubeflow.katib import V1beta1ParameterSpec\n",
    "from kubeflow.katib import V1beta1TrialTemplate\n",
    "from kubeflow.katib import V1beta1TrialParameterSpec"
   ]
  },
  {
   "cell_type": "markdown",
   "id": "a145f2ec-77fc-4fc9-987c-9ca842b18098",
   "metadata": {},
   "source": [
    "Please read the comments in the code below carefully and make changes to the code as you see fit."
   ]
  },
  {
   "cell_type": "code",
   "execution_count": 18,
   "id": "e4cd2b9d-7973-402a-9580-5bdb6c36cc7a",
   "metadata": {},
   "outputs": [],
   "source": [
    "# Experiment name and namespace.\n",
    "namespace = \"bill-shi\" # Change to your namespace\n",
    "experiment_name = \"katib-example\"\n",
    "\n",
    "metadata = V1ObjectMeta(\n",
    "    name=experiment_name,\n",
    "    namespace=namespace\n",
    ")\n",
    "\n",
    "# Algorithm specification.\n",
    "algorithm_spec=V1beta1AlgorithmSpec(\n",
    "    algorithm_name=\"cmaes\" # Change to the algorithm you want\n",
    ")\n",
    "\n",
    "# Objective specification.\n",
    "objective_spec=V1beta1ObjectiveSpec(\n",
    "    type=\"maximize\",\n",
    "    goal= 0.99,\n",
    "    objective_metric_name=\"valid_accuracy\",\n",
    "    additional_metric_names=[\"train_accuracy\"]\n",
    ")\n",
    "\n",
    "# Experiment search space. In this example we tune learning rate, dropout and L2 regulariztion.\n",
    "parameters=[\n",
    "    V1beta1ParameterSpec(\n",
    "        name=\"lr\",\n",
    "        parameter_type=\"double\",\n",
    "        feasible_space=V1beta1FeasibleSpace(\n",
    "            min=\"0.001\",\n",
    "            max=\"0.1\"\n",
    "        ),\n",
    "    ),\n",
    "    V1beta1ParameterSpec(\n",
    "        name=\"dropout\",\n",
    "        parameter_type=\"double\",\n",
    "        feasible_space=V1beta1FeasibleSpace(\n",
    "            min=\"0\",\n",
    "            max=\"0.6\"\n",
    "        ),\n",
    "    ),\n",
    "    V1beta1ParameterSpec(\n",
    "        name=\"l2\",\n",
    "        parameter_type=\"double\",\n",
    "        feasible_space=V1beta1FeasibleSpace(\n",
    "            min=\"0.0001\",\n",
    "            max=\"0.1\"\n",
    "        ),\n",
    "    ),\n",
    "]\n",
    "\n",
    "\n",
    "\n",
    "# JSON template specification for the Trial's Worker Kubernetes Job.\n",
    "trial_spec={\n",
    "    \"apiVersion\": \"batch/v1\",\n",
    "    \"kind\": \"Job\",\n",
    "    \"spec\": {\n",
    "        \"template\": {\n",
    "            \"metadata\": {\n",
    "                \"annotations\": {\n",
    "                    \"sidecar.istio.io/inject\": \"false\"\n",
    "                }\n",
    "            },\n",
    "            \"spec\": {\n",
    "                \"containers\": [\n",
    "                    {\n",
    "                        \"name\": \"training-container\",\n",
    "                        \"image\": \"docker.io/tigergraphml/katib-example:latest\",\n",
    "                        \"command\": [\n",
    "                            \"python3\",\n",
    "                            \"/opt/mlwb/train.py\",\n",
    "                            \"--epochs=20\",\n",
    "                            \"--embed=64\",\n",
    "                            \"--layers=2\",\n",
    "                            \"--lr=${trialParameters.learningRate}\",\n",
    "                            \"--dropout=${trialParameters.dropout}\",\n",
    "                            \"--l2=${trialParameters.l2}\"\n",
    "                        ]\n",
    "                    }\n",
    "                ],\n",
    "                \"restartPolicy\": \"Never\"\n",
    "            }\n",
    "        }\n",
    "    }\n",
    "}\n",
    "\n",
    "# Configure parameters for the Trial template.\n",
    "trial_template=V1beta1TrialTemplate(\n",
    "    primary_container_name=\"training-container\",\n",
    "    trial_parameters=[\n",
    "        V1beta1TrialParameterSpec(\n",
    "            name=\"learningRate\",\n",
    "            description=\"Learning rate for the training model\",\n",
    "            reference=\"lr\"\n",
    "        ),\n",
    "        V1beta1TrialParameterSpec(\n",
    "            name=\"dropout\",\n",
    "            description=\"Dropout\",\n",
    "            reference=\"dropout\"\n",
    "        ),\n",
    "        V1beta1TrialParameterSpec(\n",
    "            name=\"l2\",\n",
    "            description=\"Weight of L2 regularization\",\n",
    "            reference=\"l2\"\n",
    "        )\n",
    "    ],\n",
    "    trial_spec=trial_spec\n",
    ")\n",
    "\n",
    "\n",
    "# Experiment object.\n",
    "experiment = V1beta1Experiment(\n",
    "    api_version=\"kubeflow.org/v1beta1\",\n",
    "    kind=\"Experiment\",\n",
    "    metadata=metadata,\n",
    "    spec=V1beta1ExperimentSpec(\n",
    "        max_trial_count=10,\n",
    "        parallel_trial_count=2,\n",
    "        max_failed_trial_count=3,\n",
    "        algorithm=algorithm_spec,\n",
    "        objective=objective_spec,\n",
    "        parameters=parameters,\n",
    "        trial_template=trial_template,\n",
    "    )\n",
    ")"
   ]
  },
  {
   "cell_type": "code",
   "execution_count": 19,
   "id": "bc07eb85-d48b-4fe3-9c6a-f419e3035997",
   "metadata": {},
   "outputs": [
    {
     "data": {
      "text/html": [
       "Katib Experiment katib-example link <a href=\"/_/katib/#/katib/hp_monitor/bill-shi/katib-example\" target=\"_blank\">here</a>"
      ],
      "text/plain": [
       "<IPython.core.display.HTML object>"
      ]
     },
     "metadata": {},
     "output_type": "display_data"
    },
    {
     "data": {
      "text/plain": [
       "{'apiVersion': 'kubeflow.org/v1beta1',\n",
       " 'kind': 'Experiment',\n",
       " 'metadata': {'creationTimestamp': '2022-08-11T18:13:03Z',\n",
       "  'generation': 1,\n",
       "  'managedFields': [{'apiVersion': 'kubeflow.org/v1beta1',\n",
       "    'fieldsType': 'FieldsV1',\n",
       "    'fieldsV1': {'f:spec': {'.': {},\n",
       "      'f:algorithm': {'.': {}, 'f:algorithmName': {}},\n",
       "      'f:maxFailedTrialCount': {},\n",
       "      'f:maxTrialCount': {},\n",
       "      'f:objective': {'.': {},\n",
       "       'f:additionalMetricNames': {},\n",
       "       'f:goal': {},\n",
       "       'f:objectiveMetricName': {},\n",
       "       'f:type': {}},\n",
       "      'f:parallelTrialCount': {},\n",
       "      'f:parameters': {},\n",
       "      'f:trialTemplate': {'.': {},\n",
       "       'f:primaryContainerName': {},\n",
       "       'f:trialParameters': {},\n",
       "       'f:trialSpec': {'.': {},\n",
       "        'f:apiVersion': {},\n",
       "        'f:kind': {},\n",
       "        'f:spec': {'.': {},\n",
       "         'f:template': {'.': {},\n",
       "          'f:metadata': {'.': {},\n",
       "           'f:annotations': {'.': {}, 'f:sidecar.istio.io/inject': {}}},\n",
       "          'f:spec': {'.': {}, 'f:containers': {}, 'f:restartPolicy': {}}}}}}}},\n",
       "    'manager': 'OpenAPI-Generator',\n",
       "    'operation': 'Update',\n",
       "    'time': '2022-08-11T18:13:03Z'}],\n",
       "  'name': 'katib-example',\n",
       "  'namespace': 'bill-shi',\n",
       "  'resourceVersion': '61276667',\n",
       "  'uid': '1add7933-4948-4fa1-9231-9aed0d6f78c2'},\n",
       " 'spec': {'algorithm': {'algorithmName': 'cmaes'},\n",
       "  'maxFailedTrialCount': 3,\n",
       "  'maxTrialCount': 10,\n",
       "  'metricsCollectorSpec': {'collector': {'kind': 'StdOut'}},\n",
       "  'objective': {'additionalMetricNames': ['train_accuracy'],\n",
       "   'goal': 0.99,\n",
       "   'metricStrategies': [{'name': 'valid_accuracy', 'value': 'max'},\n",
       "    {'name': 'train_accuracy', 'value': 'max'}],\n",
       "   'objectiveMetricName': 'valid_accuracy',\n",
       "   'type': 'maximize'},\n",
       "  'parallelTrialCount': 2,\n",
       "  'parameters': [{'feasibleSpace': {'max': '0.1', 'min': '0.001'},\n",
       "    'name': 'lr',\n",
       "    'parameterType': 'double'},\n",
       "   {'feasibleSpace': {'max': '0.6', 'min': '0'},\n",
       "    'name': 'dropout',\n",
       "    'parameterType': 'double'},\n",
       "   {'feasibleSpace': {'max': '0.1', 'min': '0.0001'},\n",
       "    'name': 'l2',\n",
       "    'parameterType': 'double'}],\n",
       "  'resumePolicy': 'LongRunning',\n",
       "  'trialTemplate': {'failureCondition': 'status.conditions.#(type==\"Failed\")#|#(status==\"True\")#',\n",
       "   'primaryContainerName': 'training-container',\n",
       "   'successCondition': 'status.conditions.#(type==\"Complete\")#|#(status==\"True\")#',\n",
       "   'trialParameters': [{'description': 'Learning rate for the training model',\n",
       "     'name': 'learningRate',\n",
       "     'reference': 'lr'},\n",
       "    {'description': 'Dropout', 'name': 'dropout', 'reference': 'dropout'},\n",
       "    {'description': 'Weight of L2 regularization',\n",
       "     'name': 'l2',\n",
       "     'reference': 'l2'}],\n",
       "   'trialSpec': {'apiVersion': 'batch/v1',\n",
       "    'kind': 'Job',\n",
       "    'spec': {'template': {'metadata': {'annotations': {'sidecar.istio.io/inject': 'false'}},\n",
       "      'spec': {'containers': [{'command': ['python3',\n",
       "          '/opt/mlwb/train.py',\n",
       "          '--epochs=20',\n",
       "          '--embed=64',\n",
       "          '--layers=2',\n",
       "          '--lr=${trialParameters.learningRate}',\n",
       "          '--dropout=${trialParameters.dropout}',\n",
       "          '--l2=${trialParameters.l2}'],\n",
       "         'image': 'docker.io/tigergraphml/katib-example:latest',\n",
       "         'name': 'training-container'}],\n",
       "       'restartPolicy': 'Never'}}}}}}}"
      ]
     },
     "execution_count": 19,
     "metadata": {},
     "output_type": "execute_result"
    }
   ],
   "source": [
    "# Create client.\n",
    "kclient = KatibClient()\n",
    "\n",
    "# Create your Experiment.\n",
    "kclient.create_experiment(experiment,namespace=namespace)"
   ]
  },
  {
   "cell_type": "code",
   "execution_count": null,
   "id": "bf7ebdba-9c6c-4e4f-b86d-bb4a09e8f237",
   "metadata": {},
   "outputs": [],
   "source": []
  }
 ],
 "metadata": {
  "kernelspec": {
   "display_name": "Python 3.9.13 ('tigergraph-torch-cpu')",
   "language": "python",
   "name": "python3"
  },
  "language_info": {
   "codemirror_mode": {
    "name": "ipython",
    "version": 3
   },
   "file_extension": ".py",
   "mimetype": "text/x-python",
   "name": "python",
   "nbconvert_exporter": "python",
   "pygments_lexer": "ipython3",
   "version": "3.9.13"
  },
  "vscode": {
   "interpreter": {
    "hash": "fc5eadac82f5951e7eb836bb06f3c9df8e6d1eda5537a95773af6c6ed24cb2d0"
   }
  }
 },
 "nbformat": 4,
 "nbformat_minor": 5
}
