{
 "cells": [
  {
   "cell_type": "markdown",
   "id": "5acd0f87-69b7-4696-8d30-a68218279bdc",
   "metadata": {},
   "source": [
    "# 데이터 처리 "
   ]
  },
  {
   "cell_type": "markdown",
   "id": "6bb9e3e6-502b-422a-8dc2-51bcf13a3762",
   "metadata": {},
   "source": [
    "이 노트북은 `TigerGraph`에 저장된 그래프에서 일반적인 데이터 처리 작업에 `pyTigerGraph`를 사용하는 방법을 보여줍니다."
   ]
  },
  {
   "cell_type": "markdown",
   "id": "41083b3a",
   "metadata": {},
   "source": [
    "**NOTE**: 현재 ML Workbench에서 제공하는 모든 기능을 사용하려면 데이터베이스를 한 번만 활성화(activate)해야 합니다. ML Workbench on Cloud를 사용하는 경우 활성기가 포함되며 아래 셀을 실행(먼저 주석 해제)하여 활성화할 수 있습니다. 다른 버전의 Workbench의 경우 https://act.tigergraphlabs.com 에서 activator를 다운로드할 수 있습니다. 자세한 지침은 해당 웹사이트에도 포함되어 있습니다."
   ]
  },
  {
   "cell_type": "code",
   "execution_count": null,
   "id": "7d5344b9",
   "metadata": {},
   "outputs": [],
   "source": [
    "# 아래 주석을 제거하고 필요한 정보를 입력하십시오. 자세한 지침은 https://act.tigergraphlabs.com을 참조하십시오.\n",
    "# !mlwb activate [database address] -u [username] -p [password] -s [secret]"
   ]
  },
  {
   "cell_type": "markdown",
   "id": "b1c820d8-7919-481a-a9a6-36a4fbc9c43f",
   "metadata": {},
   "source": [
    "### 데이터베이스 연결 "
   ]
  },
  {
   "cell_type": "markdown",
   "id": "8d2211e5-7eda-4f80-87ad-d0dea6fbdf7a",
   "metadata": {},
   "source": [
    "이 `TigerGraphConnection` 클래스는 TigerGraph 데이터베이스에 대한 연결을 나타냅니다. 후드 아래에는 데이터베이스와 통신하는 데 필요한 정보가 저장됩니다. 꽤 많은 데이터베이스 작업을 수행할 수 있습니다. 자세한 내용은 해당 [문서](https://docs.tigergraph.com/pytigergraph/current/intro/) 를 참조하십시오.\n",
    "\n",
    "**Note**: 2022년 7월 5일 이후에 생성된 TG 클라우드 DB는 사용자 username/password 대신 secret가 필요합니다. 그렇지 않으면 비워 둘 수 있습니다.\n"
   ]
  },
  {
   "cell_type": "code",
   "execution_count": 1,
   "id": "0013466e-83ec-4932-b17b-32ffd56e9695",
   "metadata": {},
   "outputs": [],
   "source": [
    "from pyTigerGraph import TigerGraphConnection"
   ]
  },
  {
   "cell_type": "code",
   "execution_count": 2,
   "id": "1cf261f1-f0b5-40de-ac56-7578c675b1ce",
   "metadata": {},
   "outputs": [],
   "source": [
    "conn = TigerGraphConnection(\n",
    "    host=\"http://127.0.0.1\", # 데이터베이스 서버의 주소로 변경\n",
    "    graphname=\"Cora\",\n",
    "    username=\"tigergraph\",\n",
    "    password=\"tigergraph\",\n",
    "    gsqlSecret=\"\" # 2022년 7월 5일 이후에 생성된 TG 클라우드 DB에는 user/pass 대신 secret이 필요합니다.  \n",
    ")"
   ]
  },
  {
   "cell_type": "markdown",
   "id": "2aade600",
   "metadata": {},
   "source": [
    "<span style=\"color:red\">아래 셀의 주석을 제거하고 토큰 인증이 활성화된 경우 토큰을 가져오고 설정하기 위해 실행합니다.</span>. \n",
    "* 이것은 tgcloud의 모든 데이터베이스에 필요합니다.\n",
    "* `<secret>`은 사용자 암호입니다. 자세한 내용은 https://docs.tigergraph.com/tigergraph-server/current/user-access/managing-credentials#_secrets 를 참조하세요.\n",
    "* secret을 모르는 경우  `secret=conn.createSecret()`를 사용하여 secret을 만들 수 있습니다."
   ]
  },
  {
   "cell_type": "code",
   "execution_count": null,
   "id": "5ecc2947",
   "metadata": {},
   "outputs": [],
   "source": [
    "#conn.getToken(<secret>)"
   ]
  },
  {
   "cell_type": "code",
   "execution_count": 3,
   "id": "938a7022-98f2-49ca-98cd-9569eb434e13",
   "metadata": {},
   "outputs": [
    {
     "name": "stdout",
     "output_type": "stream",
     "text": [
      "---- Graph Cora\n",
      "Vertex Types:\n",
      "- VERTEX Paper(PRIMARY_ID id INT, x LIST<INT>, y INT, train_mask BOOL, val_mask BOOL, test_mask BOOL) WITH STATS=\"OUTDEGREE_BY_EDGETYPE\", PRIMARY_ID_AS_ATTRIBUTE=\"true\"\n",
      "Edge Types:\n",
      "- DIRECTED EDGE Cite(FROM Paper, TO Paper, time INT, is_train BOOL, is_val BOOL)\n",
      "\n",
      "Graphs:\n",
      "- Graph Cora(Paper:v, Cite:e)\n",
      "Jobs:\n",
      "- CREATE LOADING JOB load_cora_data FOR GRAPH Cora {\n",
      "DEFINE FILENAME edge_csv = \"./edges.csv\";\n",
      "DEFINE FILENAME node_csv = \"./nodes.csv\";\n",
      "LOAD node_csv TO VERTEX Paper VALUES($\"id\", SPLIT($\"x\", \" \"), $\"y\", $\"train\", $\"valid\", $\"test\") USING SEPARATOR=\",\", HEADER=\"true\", EOL=\"\\n\";\n",
      "LOAD edge_csv TO EDGE Cite VALUES($\"source\", $\"target\", _, _, _) USING SEPARATOR=\",\", HEADER=\"true\", EOL=\"\\n\";\n",
      "}\n",
      "\n",
      "- CREATE SCHEMA_CHANGE JOB Cora_job FOR GRAPH Cora {\n",
      "ADD VERTEX Paper(PRIMARY_ID id INT, x LIST<INT>, y INT, train_mask BOOL, val_mask BOOL, test_mask BOOL) WITH STATS=\"OUTDEGREE_BY_EDGETYPE\", PRIMARY_ID_AS_ATTRIBUTE=\"true\";\n",
      "ADD DIRECTED EDGE Cite(FROM Paper, TO Paper, time INT, is_train BOOL, is_val BOOL);\n",
      "}\n",
      "\n",
      "Queries:\n",
      "\n",
      "\n",
      "\n",
      "\n"
     ]
    }
   ],
   "source": [
    "# 그래프 스키마 및 기타 정보.\n",
    "print(conn.gsql(\"ls\"))"
   ]
  },
  {
   "cell_type": "code",
   "execution_count": 4,
   "id": "0c64295a-aa75-4fc7-9579-601d3b22b1cf",
   "metadata": {},
   "outputs": [
    {
     "data": {
      "text/plain": [
       "{'Paper': 2708}"
      ]
     },
     "execution_count": 4,
     "metadata": {},
     "output_type": "execute_result"
    }
   ],
   "source": [
    "# 모든 정점 유형에 대한 정점 수\n",
    "conn.getVertexCount('*')"
   ]
  },
  {
   "cell_type": "code",
   "execution_count": 5,
   "id": "34956134-548b-4627-b3d2-f10a0b07f008",
   "metadata": {},
   "outputs": [
    {
     "data": {
      "text/plain": [
       "2708"
      ]
     },
     "execution_count": 5,
     "metadata": {},
     "output_type": "execute_result"
    }
   ],
   "source": [
    "# 특정 유형의 정점 수\n",
    "conn.getVertexCount(\"Paper\")"
   ]
  },
  {
   "cell_type": "code",
   "execution_count": 6,
   "id": "2b1e3c01-f4d3-4405-a3d8-6ca6802f4f8b",
   "metadata": {},
   "outputs": [
    {
     "data": {
      "text/plain": [
       "{'Cite': 10556}"
      ]
     },
     "execution_count": 6,
     "metadata": {},
     "output_type": "execute_result"
    }
   ],
   "source": [
    "# 모든 유형의 가장자리 수\n",
    "conn.getEdgeCount()"
   ]
  },
  {
   "cell_type": "code",
   "execution_count": 7,
   "id": "05b1aabd-9615-4bb1-b134-7859cb3b4a47",
   "metadata": {},
   "outputs": [
    {
     "data": {
      "text/plain": [
       "10556"
      ]
     },
     "execution_count": 7,
     "metadata": {},
     "output_type": "execute_result"
    }
   ],
   "source": [
    "# 특정 유형의 간선 수\n",
    "conn.getEdgeCount(\"Cite\")"
   ]
  },
  {
   "cell_type": "markdown",
   "id": "e62f1cb8-4112-4874-8f53-2265495f9613",
   "metadata": {
    "tags": []
   },
   "source": [
    "### 무작위 정점 분할(Random Vertex Split)"
   ]
  },
  {
   "cell_type": "markdown",
   "id": "d934ae5a-50af-45f1-ad10-2910d04ada78",
   "metadata": {},
   "source": [
    "`VertexSplitter`는 무작위로 정점을 최대 3개의 부분으로 분할합니다. 분할 결과는 제공된 정점 속성에 저장됩니다. 각 부울 속성은 정점이 속한 부분을 나타냅니다. 예를 들어 정점을 80% 훈련, 10% 검증 및 10% 테스트로 분할하려는 경우 `train_mask=0.8, val_mask=0.1, test_mask=0.1`로 splitter에 인수로 제공할 수 있습니다. 3개의 속성 `train_mask`, `val_mask`, `test_mask`는 그래프에 존재해야 합니다. 정점의 80%는 `train_mask=True`, 10%는 `val_mask=True`, 10%는 `test_mask=True` 무작위로 설정됩니다. 파티션 간에 겹치는 부분이 없습니다."
   ]
  },
  {
   "cell_type": "code",
   "execution_count": 8,
   "id": "9c86a13a-bbf6-4da3-809e-8646efba1925",
   "metadata": {},
   "outputs": [
    {
     "name": "stdout",
     "output_type": "stream",
     "text": [
      "Installing and optimizing queries. It might take a minute if this is the first time you use this loader.\n",
      "Query installation finished.\n",
      "CPU times: user 309 ms, sys: 201 ms, total: 509 ms\n",
      "Wall time: 2min 2s\n"
     ]
    }
   ],
   "source": [
    "%%time\n",
    "split = conn.gds.vertexSplitter(train_mask=0.8, val_mask=0.1, test_mask=0.1)\n"
   ]
  },
  {
   "cell_type": "code",
   "execution_count": 9,
   "id": "2aef530a",
   "metadata": {},
   "outputs": [
    {
     "name": "stdout",
     "output_type": "stream",
     "text": [
      "Splitting vertices...\n",
      "Vertex split finished successfully.\n",
      "CPU times: user 4.86 ms, sys: 3.05 ms, total: 7.91 ms\n",
      "Wall time: 62.8 ms\n"
     ]
    }
   ],
   "source": [
    "%%time\n",
    "split.run()"
   ]
  },
  {
   "cell_type": "markdown",
   "id": "ad3191d5-d043-4e39-95cc-87d499f4f467",
   "metadata": {},
   "source": [
    "이제 분할이 완료되었습니다. 모든 정점을 로드하고 분할이 올바른지 확인합니다. `VertexLoader`및 기타 데이터 로더 에 대한 자세한 내용은 다음 튜토리얼을 참조하세요 ."
   ]
  },
  {
   "cell_type": "code",
   "execution_count": 10,
   "id": "259b65af-0f43-46cb-9f3e-0786f2f7fb41",
   "metadata": {},
   "outputs": [
    {
     "name": "stdout",
     "output_type": "stream",
     "text": [
      "Installing and optimizing queries. It might take a minute if this is the first time you use this loader.\n",
      "Query installation finished.\n",
      "CPU times: user 5.47 ms, sys: 3.94 ms, total: 9.41 ms\n",
      "Wall time: 28.1 s\n"
     ]
    }
   ],
   "source": [
    "%%time\n",
    "vertex_loader = conn.gds.vertexLoader(attributes=[\"train_mask\", \"val_mask\", \"test_mask\"])"
   ]
  },
  {
   "cell_type": "code",
   "execution_count": 11,
   "id": "ce88477c-f298-49d9-8411-9d33b6a174f1",
   "metadata": {},
   "outputs": [
    {
     "name": "stdout",
     "output_type": "stream",
     "text": [
      "CPU times: user 19 ms, sys: 1.25 ms, total: 20.2 ms\n",
      "Wall time: 44.5 ms\n"
     ]
    }
   ],
   "source": [
    "%%time\n",
    "data = vertex_loader.data"
   ]
  },
  {
   "cell_type": "code",
   "execution_count": 12,
   "id": "9737291d-304f-43bb-83e8-50cef365a754",
   "metadata": {},
   "outputs": [
    {
     "data": {
      "text/plain": [
       "(0.7950516986706057, 0.10118168389955687, 0.10376661742983752)"
      ]
     },
     "execution_count": 12,
     "metadata": {},
     "output_type": "execute_result"
    }
   ],
   "source": [
    "data.train_mask.sum()/len(data), data.val_mask.sum()/len(data), data.test_mask.sum()/len(data)"
   ]
  },
  {
   "cell_type": "markdown",
   "id": "c3d8b7c4",
   "metadata": {},
   "source": [
    "### 무작위 간선 분할(Random Edge Split)"
   ]
  },
  {
   "cell_type": "markdown",
   "id": "8dbe9608",
   "metadata": {},
   "source": [
    "`EdgeSplitter`는 무작위로 에지를 최대 3개의 부분으로 분할합니다. 분할 결과는 제공된 에지 속성에 저장됩니다. 각 부울 속성은 간선이 속한 부분을 나타냅니다. 예를 들어 에지를 80% 훈련과 20% 검증으로 분할하려는 경우 `is_train=0.8, is_val=0.2`를 splitter에 인수로 제공할 수 있습니다. 2개의 속성 `is_train`, `is_val`이 그래프에 존재해야 합니다. 간선의 80%는 `is_train=True`로 설정되고 20%는 무작위로 `is_val=True`로 설정됩니다. 파티션 간에 겹치는 부분이 없습니다."
   ]
  },
  {
   "cell_type": "code",
   "execution_count": 13,
   "id": "c36a0c57",
   "metadata": {},
   "outputs": [
    {
     "name": "stdout",
     "output_type": "stream",
     "text": [
      "Installing and optimizing queries. It might take a minute if this is the first time you use this loader.\n",
      "Query installation finished.\n",
      "CPU times: user 6.87 ms, sys: 3.78 ms, total: 10.7 ms\n",
      "Wall time: 28.8 s\n"
     ]
    }
   ],
   "source": [
    "%%time\n",
    "splitter = conn.gds.edgeSplitter(is_train=0.8, is_val=0.2)"
   ]
  },
  {
   "cell_type": "code",
   "execution_count": 14,
   "id": "dfcced92",
   "metadata": {},
   "outputs": [
    {
     "name": "stdout",
     "output_type": "stream",
     "text": [
      "Splitting edges...\n",
      "Edge split finished successfully.\n",
      "CPU times: user 4.56 ms, sys: 247 µs, total: 4.81 ms\n",
      "Wall time: 82.3 ms\n"
     ]
    }
   ],
   "source": [
    "%%time\n",
    "splitter.run()"
   ]
  },
  {
   "cell_type": "markdown",
   "id": "8c5f3bab",
   "metadata": {},
   "source": [
    "이제 분할이 완료되었습니다. 모든 에지를 로드하고 분할이 올바른지 확인합니다. `EdgeLoader` 및 기타 데이터 로더 에 대한 자세한 내용은 다음 x튜토리얼을 참조하세요 ."
   ]
  },
  {
   "cell_type": "code",
   "execution_count": 15,
   "id": "f6bf6d11",
   "metadata": {},
   "outputs": [
    {
     "name": "stdout",
     "output_type": "stream",
     "text": [
      "Installing and optimizing queries. It might take a minute if this is the first time you use this loader.\n",
      "Query installation finished.\n",
      "CPU times: user 7.02 ms, sys: 3.56 ms, total: 10.6 ms\n",
      "Wall time: 32.8 s\n"
     ]
    }
   ],
   "source": [
    "%%time\n",
    "edge_loader = conn.gds.edgeLoader(attributes=[\"is_train\", \"is_val\"])"
   ]
  },
  {
   "cell_type": "code",
   "execution_count": 16,
   "id": "fadd0237",
   "metadata": {},
   "outputs": [
    {
     "name": "stdout",
     "output_type": "stream",
     "text": [
      "CPU times: user 11.3 ms, sys: 1.69 ms, total: 12.9 ms\n",
      "Wall time: 37.3 ms\n"
     ]
    }
   ],
   "source": [
    "%%time\n",
    "data = edge_loader.data"
   ]
  },
  {
   "cell_type": "code",
   "execution_count": 17,
   "id": "c986b474",
   "metadata": {},
   "outputs": [
    {
     "data": {
      "text/plain": [
       "(0.8020083364910952, 0.19799166350890487)"
      ]
     },
     "execution_count": 17,
     "metadata": {},
     "output_type": "execute_result"
    }
   ],
   "source": [
    "data.is_train.sum()/len(data), data.is_val.sum()/len(data)"
   ]
  },
  {
   "cell_type": "code",
   "execution_count": null,
   "id": "d32dc9d8-600d-42b1-871b-399379556bd4",
   "metadata": {},
   "outputs": [],
   "source": []
  }
 ],
 "metadata": {
  "environment": {
   "name": "pytorch-gpu.1-9.m81",
   "type": "gcloud",
   "uri": "gcr.io/deeplearning-platform-release/pytorch-gpu.1-9:m81"
  },
  "kernelspec": {
   "display_name": "Python 3 (ipykernel)",
   "language": "python",
   "name": "python3"
  },
  "language_info": {
   "codemirror_mode": {
    "name": "ipython",
    "version": 3
   },
   "file_extension": ".py",
   "mimetype": "text/x-python",
   "name": "python",
   "nbconvert_exporter": "python",
   "pygments_lexer": "ipython3",
   "version": "3.9.12"
  }
 },
 "nbformat": 4,
 "nbformat_minor": 5
}
