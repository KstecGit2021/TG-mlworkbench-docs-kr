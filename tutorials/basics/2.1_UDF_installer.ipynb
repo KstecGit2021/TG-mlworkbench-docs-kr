{
 "cells": [
  {
   "cell_type": "markdown",
   "id": "a0753d0e-9062-409d-8308-3d536bfa9d1c",
   "metadata": {},
   "source": [
    "# UDFinstaller #\n",
    "This notebook demonstrates how to use `pyTigerGraph` for installing UDF to be able to install those algorithmms that requires these UDF and do preproccessing tasks on graphs stored in `TigerGraph`."
   ]
  },
  {
   "cell_type": "markdown",
   "id": "c9f16295-3f06-48a6-83ec-bd5692b3990c",
   "metadata": {},
   "source": [
    "## Connection to Database ##\n",
    "The `TigerGraphConnection` class represents a connection to the TigerGraph database. Under the hood, it stores the necessary information to communicate with the database. Please see its [documentation](https://docs.tigergraph.com/pytigergraph/current/intro/) for details."
   ]
  },
  {
   "cell_type": "code",
   "execution_count": 1,
   "id": "675895f2-d60d-4c7a-a988-32e296ca93e3",
   "metadata": {},
   "outputs": [],
   "source": [
    "from pyTigerGraph import TigerGraphConnection"
   ]
  },
  {
   "cell_type": "code",
   "execution_count": 3,
   "id": "95391f04-3b1c-4c3b-ba2f-165b36dc82b7",
   "metadata": {},
   "outputs": [],
   "source": [
    "conn = TigerGraphConnection(\n",
    "    host=\"http://127.0.0.1\", # Change the address to your database server's\n",
    "    graphname=\"Cora\",\n",
    "    username=\"tigergraph\",\n",
    "    password=\"tigergraph\",\n",
    "    useCert=False\n",
    ")"
   ]
  },
  {
   "cell_type": "markdown",
   "id": "db677d52",
   "metadata": {},
   "source": [
    "# Install UDF\n",
    "Install the desired UDF by providing the address where it is located."
   ]
  },
  {
   "cell_type": "code",
   "execution_count": 10,
   "id": "81b39501",
   "metadata": {},
   "outputs": [
    {
     "name": "stdout",
     "output_type": "stream",
     "text": [
      "ExprFunctions installed succesfully !\n",
      "ExprFunctions installed succesfully !\n"
     ]
    }
   ],
   "source": [
    "conn.installUDF(\"/Users/neda.zarayeneh/pyTigerGraph/tests/ExprFunctions.hpp\")\n",
    "conn.installUDF(\"/Users/neda.zarayeneh/pyTigerGraph/tests/ExprUtil.hpp\")"
   ]
  },
  {
   "cell_type": "markdown",
   "id": "f53df280-c428-40da-b3ec-32de0a3cd673",
   "metadata": {},
   "source": [
    "## Get fastRP as a feature ##\n",
    "The fastRP algorithm is available in GDS library called tg_fastRP under the class of community detection algorithms  https://github.com/tigergraph/gsql-graph-algorithms/blob/master/algorithms/GraphML/Embeddings/FastRP/tg_fastRP.gsql. fastRP needs UDF to be installed before being able to install and run it. In the previous cell, the required UDF gets installed and now fastRP can be used to creat feature."
   ]
  },
  {
   "cell_type": "code",
   "execution_count": 13,
   "id": "6d64019f-64a0-4d8c-a1d1-41dcafb29d3a",
   "metadata": {},
   "outputs": [
    {
     "data": {
      "text/plain": [
       "'tg_fastRP'"
      ]
     },
     "execution_count": 13,
     "metadata": {},
     "output_type": "execute_result"
    }
   ],
   "source": [
    "f = conn.gds.featurizer()\n",
    "f.installAlgorithm(\"tg_fastRP\")"
   ]
  },
  {
   "cell_type": "code",
   "execution_count": 16,
   "id": "9a0d0b1c-9ab4-4af7-8025-439f5876ab04",
   "metadata": {},
   "outputs": [
    {
     "name": "stdout",
     "output_type": "stream",
     "text": [
      "[]\n"
     ]
    }
   ],
   "source": [
    "params = {'v_type': 'Paper', 'e_type': ['Cite','reverse_Cite'], 'weights': '1,1,2', 'beta': -0.85, 'k': 3, 'reduced_dim': 128, \n",
    "          'sampling_constant': 1, 'random_seed': 42, 'print_accum': False,'result_attr':\"\",'file_path' :\"\"}\n",
    "f.runAlgorithm('tg_fastRP',params,feat_name =\"fastrp_embedding\")"
   ]
  }
 ],
 "metadata": {
  "interpreter": {
   "hash": "86339a571aa1685b1bf33ba9ca33ff3e2e27be4a4a583dd76d4cb23b04832e59"
  },
  "kernelspec": {
   "display_name": "Python 3.9.12",
   "language": "python",
   "name": "python3"
  },
  "language_info": {
   "codemirror_mode": {
    "name": "ipython",
    "version": 3
   },
   "file_extension": ".py",
   "mimetype": "text/x-python",
   "name": "python",
   "nbconvert_exporter": "python",
   "pygments_lexer": "ipython3",
   "version": "3.9.7"
  }
 },
 "nbformat": 4,
 "nbformat_minor": 5
}
