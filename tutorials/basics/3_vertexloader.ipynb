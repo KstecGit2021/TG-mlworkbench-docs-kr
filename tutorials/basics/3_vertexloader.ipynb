{
 "cells": [
  {
   "cell_type": "markdown",
   "id": "31a41fec-c7f0-4752-b57a-efb428327343",
   "metadata": {
    "tags": []
   },
   "source": [
    "## Data Loaders"
   ]
  },
  {
   "cell_type": "markdown",
   "id": "85d51c63-ed05-43d4-9e02-7d13763b5011",
   "metadata": {},
   "source": [
    "This notebook demonstrates the use of vertex loader in `pyTigerGraph`. The job of a data loader is to pull data from the TigerGraph database. Currently, the following data loaders are provided:\n",
    "* EdgeLoader, which returns batches of edges.\n",
    "* VertexLoader, which returns batches of vertices.\n",
    "* GraphLoader, which returns randomly sampled (probably disconnected) subgraphs in pandas `dataframe`, `PyG` or `DGL` format.\n",
    "* NeighborLoader, which returns subgraphs using neighbor sampling in `dataframe`, `PyG` or `DGL` format.\n",
    "\n",
    "Every data loader above can either get all the batches as a HTTP response (default) or stream every batch through Kafka. The former mechanism is good for testing with small graphs and it is fast, but it subjects to a data size limit of 2GB. For large graphs, the HTTP channel will likely fail due to size limit and network connectivity issues. Streaming via Kafka is offered for data robustness and scalability. Also, Kafka excels at multi-consumer use cases, and it is efficient for model search or hyperparameter tuning when there are multiiple consumers of the same data. \n",
    "\n",
    "Note: For the data loaders to work, a few UDFs (User Defined Functions) have to be installed into the TigerGraph database."
   ]
  },
  {
   "cell_type": "markdown",
   "id": "ee9243a4-69ae-4a04-ab82-dc6d393e0cb7",
   "metadata": {},
   "source": [
    "### Connection to Database"
   ]
  },
  {
   "cell_type": "markdown",
   "id": "9ff08e15-5d93-4f30-8a9d-6b101b1604e4",
   "metadata": {},
   "source": [
    "The `TigerGraphConnection` class represents a connection to the TigerGraph database. Under the hood, it stores the necessary information to communicate with the database. It is able to perform quite a few database tasks. Please see its documentation for details."
   ]
  },
  {
   "cell_type": "code",
   "execution_count": 1,
   "id": "b94e2237-5050-4c58-91de-c86b804d19f6",
   "metadata": {},
   "outputs": [],
   "source": [
    "from pyTigerGraph import TigerGraphConnection"
   ]
  },
  {
   "cell_type": "code",
   "execution_count": 2,
   "id": "c2c4b1e8-a0e2-4026-9bb1-218cdc7ca4b9",
   "metadata": {},
   "outputs": [],
   "source": [
    "conn = TigerGraphConnection(\n",
    "    host=\"http://127.0.0.1\", # Change the address to your database server's\n",
    "    graphname=\"Cora\",\n",
    "    username=\"tigergraph\",\n",
    "    password=\"tigergraph\",\n",
    "    useCert=False\n",
    ")"
   ]
  },
  {
   "cell_type": "code",
   "execution_count": 3,
   "id": "a1dd0252-a5e5-47ee-acce-b843571c78cc",
   "metadata": {},
   "outputs": [
    {
     "data": {
      "text/plain": [
       "{'Paper': 2708}"
      ]
     },
     "execution_count": 3,
     "metadata": {},
     "output_type": "execute_result"
    }
   ],
   "source": [
    "# Number of vertices for every vertex type\n",
    "conn.getVertexCount('*')"
   ]
  },
  {
   "cell_type": "code",
   "execution_count": 4,
   "id": "318f1998-1179-4ae2-9f1b-d1b032076c03",
   "metadata": {},
   "outputs": [
    {
     "data": {
      "text/plain": [
       "{'Cite': 10556}"
      ]
     },
     "execution_count": 4,
     "metadata": {},
     "output_type": "execute_result"
    }
   ],
   "source": [
    "# Number of edges for every type\n",
    "conn.getEdgeCount()"
   ]
  },
  {
   "cell_type": "markdown",
   "id": "7ad2cc34-545d-4220-8938-e3eda1797fda",
   "metadata": {},
   "source": [
    "### Vertex Loader"
   ]
  },
  {
   "cell_type": "markdown",
   "id": "b490831c-409e-4234-9c7c-775273ca698b",
   "metadata": {},
   "source": [
    "VertexLoader pulls batches of vertices from database. Specifically, it divides vertices into `num_batches` and returns each batch separately. The boolean attribute provided to `filter_by` indicates which vertices are included. If you need random batches, set `shuffle` to True.\n",
    "\n",
    "**Note**: For the first time you initialize the loader on a graph in TigerGraph, the initialization might take a minute as it installs the corresponding query to the database and optimizes it. However, the query installation only needs to be done once, so it will take no time when you initialize the loader on the same TG graph again.\n",
    "\n",
    "There are two ways to use the data loader. See [here](https://github.com/TigerGraph-DevLabs/mlworkbench-docs/blob/main/tutorials/basics/2_dataloaders.ipynb) for examples.\n",
    "* First, it can be used as an iterable, which means you can loop through it to get every batch of data. If you load all vertices at once (`num_batches=1`), there will be only one batch (of all the vertices) in the iterator.\n",
    "* Second, you can access the `data` property of the class directly. If there is only one batch of data to load, it will give you the batch directly instead of an iterator, which might make more sense in that case. If there are multiple batches of data to load, it will return the loader again.\n",
    "\n",
    "Args:\n",
    "* attributes (list, optional):\n",
    "                Vertex attributes to be included. Defaults to None.\n",
    "* batch_size (int, optional):\n",
    "                Number of vertices in each batch.\n",
    "                Defaults to None.\n",
    "* num_batches (int, optional):\n",
    "                Number of batches to split the vertices.\n",
    "                Defaults to 1.\n",
    "* shuffle (bool, optional):\n",
    "                Whether to shuffle the vertices before loading data.\n",
    "                Defaults to False.\n",
    "* filter_by (str, optional):\n",
    "                A boolean attribute used to indicate which vertices\n",
    "                can be included. Defaults to None.\n",
    "* output_format (str, optional):\n",
    "                Format of the output data of the loader. Only\n",
    "                \"dataframe\" is supported. Defaults to \"dataframe\".\n",
    "* loader_id (str, optional):\n",
    "                An identifier of the loader which can be any string. It is\n",
    "                also used as the Kafka topic name. If `None`, a random string will be generated\n",
    "                for it. Defaults to None.\n",
    "* buffer_size (int, optional):\n",
    "                Number of data batches to prefetch and store in memory. Defaults to 4.\n",
    "* kafka_address (str, optional):\n",
    "                Address of the kafka broker. Defaults to None.\n",
    "* kafka_max_msg_size (int, optional):\n",
    "                Maximum size of a Kafka message in bytes.\n",
    "                Defaults to 104857600.\n",
    "* kafka_num_partitions (int, optional):\n",
    "                Number of partitions for the topic created by this loader.\n",
    "                Defaults to 1.\n",
    "* kafka_replica_factor (int, optional):\n",
    "                Number of replications for the topic created by this loader.\n",
    "                Defaults to 1.\n",
    "* kafka_retention_ms (int, optional):\n",
    "                Retention time for messages in the topic created by this\n",
    "                loader in milliseconds. Defaults to 60000.\n",
    "* kafka_auto_del_topic (bool, optional):\n",
    "                Whether to delete the Kafka topic once the\n",
    "                loader finishes pulling data. Defaults to True.\n",
    "* kafka_address_consumer (str, optional):\n",
    "                Address of the kafka broker that a consumer\n",
    "                should use. Defaults to be the same as `kafkaAddress`.\n",
    "* kafka_address_producer (str, optional):\n",
    "                Address of the kafka broker that a producer\n",
    "                should use. Defaults to be the same as `kafkaAddress`.\n",
    "* timeout (int, optional):\n",
    "                Timeout value for GSQL queries, in ms. Defaults to 300000."
   ]
  },
  {
   "cell_type": "markdown",
   "id": "c87676b8-ca4f-403d-87a6-9763be1eb12e",
   "metadata": {},
   "source": [
    "#### Load all vertices at once directly to local. Default."
   ]
  },
  {
   "cell_type": "code",
   "execution_count": 5,
   "id": "5c97ade5-c5f3-41e2-b089-b55b578af5bd",
   "metadata": {},
   "outputs": [
    {
     "name": "stdout",
     "output_type": "stream",
     "text": [
      "Installing and optimizing queries. It might take a minute if this is the first time you use this loader.\n",
      "Query installation finished.\n",
      "CPU times: user 208 ms, sys: 42.5 ms, total: 251 ms\n",
      "Wall time: 37.9 s\n"
     ]
    }
   ],
   "source": [
    "%%time\n",
    "vertex_loader = conn.gds.vertexLoader(\n",
    "    num_batches=1, \n",
    "    attributes=[\"id\", \"x\", \"y\"])\n",
    "# Note: an unique ID of each vertex will be automatically generated and extracted. \n",
    "# If you want the primary ID of each vertex, specify it as an attribute."
   ]
  },
  {
   "cell_type": "code",
   "execution_count": 6,
   "id": "8fdb27e5-6816-4b56-b570-1af1d5179978",
   "metadata": {},
   "outputs": [
    {
     "name": "stdout",
     "output_type": "stream",
     "text": [
      "CPU times: user 92.2 ms, sys: 28.7 ms, total: 121 ms\n",
      "Wall time: 233 ms\n"
     ]
    },
    {
     "data": {
      "text/plain": [
       "(2708, 4)"
      ]
     },
     "execution_count": 6,
     "metadata": {},
     "output_type": "execute_result"
    }
   ],
   "source": [
    "%%time\n",
    "# Get the only batch of data via the `data` property\n",
    "data = vertex_loader.data\n",
    "data.shape"
   ]
  },
  {
   "cell_type": "code",
   "execution_count": 7,
   "id": "84f7c0a0-2770-4ceb-82b1-3ab8e511f920",
   "metadata": {},
   "outputs": [
    {
     "data": {
      "text/html": [
       "<div>\n",
       "<style scoped>\n",
       "    .dataframe tbody tr th:only-of-type {\n",
       "        vertical-align: middle;\n",
       "    }\n",
       "\n",
       "    .dataframe tbody tr th {\n",
       "        vertical-align: top;\n",
       "    }\n",
       "\n",
       "    .dataframe thead th {\n",
       "        text-align: right;\n",
       "    }\n",
       "</style>\n",
       "<table border=\"1\" class=\"dataframe\">\n",
       "  <thead>\n",
       "    <tr style=\"text-align: right;\">\n",
       "      <th></th>\n",
       "      <th>vid</th>\n",
       "      <th>id</th>\n",
       "      <th>x</th>\n",
       "      <th>y</th>\n",
       "    </tr>\n",
       "  </thead>\n",
       "  <tbody>\n",
       "    <tr>\n",
       "      <th>0</th>\n",
       "      <td>31457312</td>\n",
       "      <td>2374</td>\n",
       "      <td>0 0 0 0 1 0 0 0 0 0 0 0 0 0 0 0 0 0 0 0 0 0 1 ...</td>\n",
       "      <td>5</td>\n",
       "    </tr>\n",
       "    <tr>\n",
       "      <th>1</th>\n",
       "      <td>6291542</td>\n",
       "      <td>1100</td>\n",
       "      <td>1 0 0 0 0 0 0 0 0 0 0 0 0 0 0 0 0 0 1 0 0 0 0 ...</td>\n",
       "      <td>3</td>\n",
       "    </tr>\n",
       "    <tr>\n",
       "      <th>2</th>\n",
       "      <td>31457311</td>\n",
       "      <td>391</td>\n",
       "      <td>0 0 0 0 0 0 0 0 0 0 0 0 0 0 0 0 0 0 0 0 0 0 0 ...</td>\n",
       "      <td>2</td>\n",
       "    </tr>\n",
       "    <tr>\n",
       "      <th>3</th>\n",
       "      <td>6291541</td>\n",
       "      <td>1800</td>\n",
       "      <td>0 0 0 0 0 0 0 0 0 0 0 0 0 0 0 0 0 0 0 0 0 0 0 ...</td>\n",
       "      <td>1</td>\n",
       "    </tr>\n",
       "    <tr>\n",
       "      <th>4</th>\n",
       "      <td>31457310</td>\n",
       "      <td>2355</td>\n",
       "      <td>0 0 0 0 0 0 0 0 0 0 0 0 0 0 0 0 0 0 0 0 0 0 0 ...</td>\n",
       "      <td>4</td>\n",
       "    </tr>\n",
       "  </tbody>\n",
       "</table>\n",
       "</div>"
      ],
      "text/plain": [
       "        vid    id                                                  x  y\n",
       "0  31457312  2374  0 0 0 0 1 0 0 0 0 0 0 0 0 0 0 0 0 0 0 0 0 0 1 ...  5\n",
       "1   6291542  1100  1 0 0 0 0 0 0 0 0 0 0 0 0 0 0 0 0 0 1 0 0 0 0 ...  3\n",
       "2  31457311   391  0 0 0 0 0 0 0 0 0 0 0 0 0 0 0 0 0 0 0 0 0 0 0 ...  2\n",
       "3   6291541  1800  0 0 0 0 0 0 0 0 0 0 0 0 0 0 0 0 0 0 0 0 0 0 0 ...  1\n",
       "4  31457310  2355  0 0 0 0 0 0 0 0 0 0 0 0 0 0 0 0 0 0 0 0 0 0 0 ...  4"
      ]
     },
     "execution_count": 7,
     "metadata": {},
     "output_type": "execute_result"
    }
   ],
   "source": [
    "data.head()"
   ]
  },
  {
   "cell_type": "markdown",
   "id": "cfa8148f-7b40-4b5b-ab48-22cbacae090e",
   "metadata": {},
   "source": [
    "#### Get batches of vertices through http"
   ]
  },
  {
   "cell_type": "code",
   "execution_count": 8,
   "id": "be7bada1-6c98-42ec-a5c5-e72a593615f6",
   "metadata": {},
   "outputs": [
    {
     "name": "stdout",
     "output_type": "stream",
     "text": [
      "CPU times: user 6.7 ms, sys: 139 µs, total: 6.84 ms\n",
      "Wall time: 7.59 ms\n"
     ]
    }
   ],
   "source": [
    "%%time\n",
    "vertex_loader = conn.gds.vertexLoader( \n",
    "    num_batches=20, \n",
    "    attributes=[\"id\", \"x\", \"y\"],\n",
    "    shuffle=True,\n",
    "    filter_by=None\n",
    ")"
   ]
  },
  {
   "cell_type": "code",
   "execution_count": 9,
   "id": "b03b264a-5649-4d6d-a320-292f5f8890cc",
   "metadata": {},
   "outputs": [
    {
     "name": "stdout",
     "output_type": "stream",
     "text": [
      "----Batch 0: Shape (124, 4)----\n",
      "        vid   id                                                  x  y\n",
      "0  12582928  573  0 1 0 0 1 0 0 0 0 0 0 0 0 0 0 0 0 0 0 0 0 0 0 ...  5\n",
      "----Batch 1: Shape (159, 4)----\n",
      "        vid    id                                                  x  y\n",
      "0  15728690  1412  0 0 0 0 0 0 0 0 0 0 0 0 0 0 0 0 0 0 0 0 0 0 0 ...  2\n",
      "----Batch 2: Shape (156, 4)----\n",
      "        vid    id                                                  x  y\n",
      "0  13631574  1810  0 0 0 0 0 0 0 0 0 0 0 0 0 0 0 0 0 0 0 1 0 0 0 ...  3\n",
      "----Batch 3: Shape (138, 4)----\n",
      "        vid  id                                                  x  y\n",
      "0  20971543  20  0 0 0 0 0 0 0 0 0 0 0 0 0 0 0 0 0 0 0 0 0 0 0 ...  5\n",
      "----Batch 4: Shape (126, 4)----\n",
      "        vid   id                                                  x  y\n",
      "0  13631493  912  0 0 0 0 0 0 0 0 0 0 0 0 0 0 0 0 0 0 0 0 0 0 0 ...  4\n",
      "----Batch 5: Shape (128, 4)----\n",
      "        vid   id                                                  x  y\n",
      "0  31457292  255  0 0 0 0 0 0 0 0 0 0 0 0 0 0 0 0 0 0 0 1 0 0 0 ...  4\n",
      "----Batch 6: Shape (133, 4)----\n",
      "        vid    id                                                  x  y\n",
      "0  28311590  1791  0 0 0 0 0 0 0 0 0 0 0 0 0 0 0 0 0 0 0 0 0 0 0 ...  1\n",
      "----Batch 7: Shape (142, 4)----\n",
      "       vid   id                                                  x  y\n",
      "0  7340121  845  0 0 0 0 0 0 0 0 0 0 0 0 0 0 0 0 0 0 0 1 0 0 0 ...  3\n",
      "----Batch 8: Shape (133, 4)----\n",
      "        vid    id                                                  x  y\n",
      "0  30408730  1807  0 0 0 0 0 0 0 0 0 0 0 0 0 0 0 0 0 0 0 0 0 0 0 ...  3\n",
      "----Batch 9: Shape (128, 4)----\n",
      "        vid   id                                                  x  y\n",
      "0  17825795  108  0 0 0 0 0 0 0 0 0 0 0 0 0 0 0 0 0 0 0 0 0 0 0 ...  6\n",
      "----Batch 10: Shape (136, 4)----\n",
      "        vid    id                                                  x  y\n",
      "0  30408729  2169  0 0 0 0 0 0 0 0 0 0 0 0 0 0 0 0 0 0 0 1 0 0 0 ...  2\n",
      "----Batch 11: Shape (149, 4)----\n",
      "        vid    id                                                  x  y\n",
      "0  30408718  2053  0 0 0 0 0 0 0 0 0 0 0 0 0 0 0 0 0 0 0 0 0 0 0 ...  0\n",
      "----Batch 12: Shape (146, 4)----\n",
      "        vid   id                                                  x  y\n",
      "0  26214441  672  0 0 0 0 0 0 0 0 1 0 0 0 0 0 0 0 0 0 0 0 0 0 0 ...  2\n",
      "----Batch 13: Shape (124, 4)----\n",
      "        vid    id                                                  x  y\n",
      "0  28311572  2167  0 0 0 0 0 0 0 0 0 0 0 0 0 0 0 0 0 0 0 0 0 0 0 ...  2\n",
      "----Batch 14: Shape (132, 4)----\n",
      "        vid   id                                                  x  y\n",
      "0  20971601  412  0 0 0 0 0 0 0 0 0 0 0 0 0 0 0 0 0 0 0 0 0 0 0 ...  6\n",
      "----Batch 15: Shape (148, 4)----\n",
      "       vid    id                                                  x  y\n",
      "0  5242953  1034  0 0 0 1 0 0 0 0 0 0 0 0 0 0 0 0 0 0 0 0 0 0 0 ...  2\n",
      "----Batch 16: Shape (129, 4)----\n",
      "        vid   id                                                  x  y\n",
      "0  20971542  608  0 0 0 0 0 0 0 0 0 0 0 0 0 0 0 0 0 0 0 0 0 0 0 ...  1\n",
      "----Batch 17: Shape (126, 4)----\n",
      "        vid   id                                                  x  y\n",
      "0  14680069  846  0 0 0 0 0 0 0 0 0 0 0 0 0 0 0 0 0 0 0 0 0 0 0 ...  3\n",
      "----Batch 18: Shape (117, 4)----\n",
      "        vid   id                                                  x  y\n",
      "0  22020128  996  0 0 0 0 0 0 0 0 0 0 0 0 0 0 0 0 0 0 0 0 0 0 0 ...  4\n",
      "----Batch 19: Shape (134, 4)----\n",
      "        vid    id                                                  x  y\n",
      "0  15728692  2580  0 0 0 0 0 0 0 0 0 0 0 0 0 0 0 0 0 0 0 1 0 0 0 ...  0\n",
      "CPU times: user 146 ms, sys: 13.6 ms, total: 160 ms\n",
      "Wall time: 287 ms\n"
     ]
    }
   ],
   "source": [
    "%%time\n",
    "for i, batch in enumerate(vertex_loader):\n",
    "    print(\"----Batch {}: Shape {}----\".format(i, batch.shape))\n",
    "    print(batch.head(1))"
   ]
  },
  {
   "cell_type": "markdown",
   "id": "aef437fe",
   "metadata": {},
   "source": [
    "#### Stream batches of vertices through Kafka"
   ]
  },
  {
   "cell_type": "code",
   "execution_count": 10,
   "id": "cba77c66",
   "metadata": {},
   "outputs": [
    {
     "name": "stderr",
     "output_type": "stream",
     "text": [
      "WARNING:kafka.coordinator.consumer:group_id is None: disabling auto-commit.\n"
     ]
    },
    {
     "name": "stdout",
     "output_type": "stream",
     "text": [
      "Installing and optimizing queries. It might take a minute if this is the first time you use this loader.\n",
      "Query installation finished.\n",
      "CPU times: user 37.1 ms, sys: 11.9 ms, total: 48.9 ms\n",
      "Wall time: 25.8 s\n"
     ]
    }
   ],
   "source": [
    "%%time\n",
    "vertex_loader = conn.gds.vertexLoader(\n",
    "    num_batches=20, \n",
    "    attributes=[\"id\", \"x\", \"y\"],\n",
    "    shuffle=True,\n",
    "    filter_by=None,\n",
    "    kafka_address=\"127.0.0.1:9092\",\n",
    ")"
   ]
  },
  {
   "cell_type": "code",
   "execution_count": 11,
   "id": "166a2478",
   "metadata": {},
   "outputs": [
    {
     "name": "stdout",
     "output_type": "stream",
     "text": [
      "----Batch 0: Shape (157, 4)----\n",
      "   vid    id                                                  x  y\n",
      "0    9  1341  0 0 0 0 0 0 0 0 0 0 0 0 0 0 0 0 0 0 0 0 0 0 0 ...  0\n",
      "----Batch 1: Shape (121, 4)----\n",
      "       vid    id                                                  x  y\n",
      "0  7340080  2332  0 0 0 0 0 0 0 0 0 0 0 0 0 0 1 0 0 0 0 0 0 0 0 ...  0\n",
      "----Batch 2: Shape (131, 4)----\n",
      "        vid   id                                                  x  y\n",
      "0  11534338  562  0 0 0 0 0 0 0 0 0 0 0 0 0 0 0 0 0 0 0 0 0 0 0 ...  2\n",
      "----Batch 3: Shape (143, 4)----\n",
      "        vid  id                                                  x  y\n",
      "0  19922966  66  0 0 0 0 0 0 0 0 0 0 0 0 0 0 0 1 0 0 0 0 0 0 0 ...  4\n",
      "----Batch 4: Shape (149, 4)----\n",
      "       vid    id                                                  x  y\n",
      "0  1048585  1443  0 0 0 0 0 0 0 0 0 0 0 0 0 0 0 0 0 0 0 0 0 0 0 ...  4\n",
      "----Batch 5: Shape (125, 4)----\n",
      "       vid    id                                                  x  y\n",
      "0  8388625  2477  0 0 0 0 0 0 0 0 0 0 0 0 0 0 0 0 0 0 0 1 0 0 0 ...  3\n",
      "----Batch 6: Shape (155, 4)----\n",
      "       vid   id                                                  x  y\n",
      "0  2097173  367  0 0 0 0 0 0 0 0 0 0 0 0 0 0 0 0 0 0 0 0 0 0 0 ...  2\n",
      "----Batch 7: Shape (134, 4)----\n",
      "       vid    id                                                  x  y\n",
      "0  2097180  2385  0 0 0 0 0 0 0 0 0 0 0 0 0 0 0 0 0 0 0 1 0 0 0 ...  4\n",
      "----Batch 8: Shape (133, 4)----\n",
      "        vid    id                                                  x  y\n",
      "0  12582916  1768  0 0 0 0 0 0 0 0 0 0 1 0 0 0 0 0 0 0 0 1 0 0 0 ...  1\n",
      "----Batch 9: Shape (128, 4)----\n",
      "       vid   id                                                  x  y\n",
      "0  5242880  641  0 0 0 0 0 0 0 0 0 0 0 0 0 0 0 0 0 0 0 0 0 0 0 ...  3\n",
      "----Batch 10: Shape (131, 4)----\n",
      "        vid    id                                                  x  y\n",
      "0  14680100  1598  0 0 0 0 0 0 0 0 0 0 0 0 0 0 0 0 0 0 0 1 0 0 1 ...  3\n",
      "----Batch 11: Shape (131, 4)----\n",
      "       vid   id                                                  x  y\n",
      "0  3145733  658  0 0 0 0 0 0 0 0 0 0 0 0 0 0 0 0 0 0 0 0 0 0 0 ...  3\n",
      "----Batch 12: Shape (122, 4)----\n",
      "       vid   id                                                  x  y\n",
      "0  4194312  177  0 0 0 0 0 0 0 0 0 0 0 0 0 0 0 0 0 0 0 0 0 0 0 ...  4\n",
      "----Batch 13: Shape (152, 4)----\n",
      "        vid    id                                                  x  y\n",
      "0  12582926  2120  0 0 0 0 0 0 0 0 0 0 0 0 0 0 0 0 0 0 0 0 0 0 0 ...  4\n",
      "----Batch 14: Shape (142, 4)----\n",
      "       vid    id                                                  x  y\n",
      "0  4194304  1203  0 0 0 0 1 0 0 0 0 0 0 0 0 0 0 0 0 0 0 0 0 0 0 ...  0\n",
      "----Batch 15: Shape (132, 4)----\n",
      "        vid   id                                                  x  y\n",
      "0  15728646  409  0 0 0 1 0 0 0 0 0 0 0 0 0 0 0 0 0 0 0 0 0 0 0 ...  1\n",
      "----Batch 16: Shape (132, 4)----\n",
      "        vid    id                                                  x  y\n",
      "0  13631511  2056  0 0 0 0 0 0 0 0 0 0 0 0 0 0 0 0 0 0 0 0 0 0 0 ...  0\n",
      "----Batch 17: Shape (113, 4)----\n",
      "        vid    id                                                  x  y\n",
      "0  28311557  1378  0 0 0 0 0 0 0 0 0 0 0 0 0 0 0 0 0 0 0 0 0 0 0 ...  2\n",
      "----Batch 18: Shape (139, 4)----\n",
      "       vid    id                                                  x  y\n",
      "0  9437186  2348  0 0 0 0 0 0 0 0 0 0 1 0 0 0 0 0 0 0 0 0 0 0 0 ...  3\n",
      "----Batch 19: Shape (138, 4)----\n",
      "       vid   id                                                  x  y\n",
      "0  2097176  718  0 0 0 0 0 0 0 0 0 0 0 0 0 0 0 0 0 0 0 0 0 0 0 ...  0\n",
      "CPU times: user 161 ms, sys: 14.4 ms, total: 175 ms\n",
      "Wall time: 562 ms\n"
     ]
    }
   ],
   "source": [
    "%%time\n",
    "for i, batch in enumerate(vertex_loader):\n",
    "    print(\"----Batch {}: Shape {}----\".format(i, batch.shape))\n",
    "    print(batch.head(1))"
   ]
  },
  {
   "cell_type": "code",
   "execution_count": null,
   "id": "4917e4af-392d-4c90-bc20-5d40324a30c4",
   "metadata": {},
   "outputs": [],
   "source": []
  }
 ],
 "metadata": {
  "environment": {
   "name": "pytorch-gpu.1-9.m81",
   "type": "gcloud",
   "uri": "gcr.io/deeplearning-platform-release/pytorch-gpu.1-9:m81"
  },
  "kernelspec": {
   "display_name": "Tigergraph Pytorch",
   "language": "python",
   "name": "python3"
  },
  "language_info": {
   "codemirror_mode": {
    "name": "ipython",
    "version": 3
   },
   "file_extension": ".py",
   "mimetype": "text/x-python",
   "name": "python",
   "nbconvert_exporter": "python",
   "pygments_lexer": "ipython3",
   "version": "3.9.10"
  },
  "toc-autonumbering": false,
  "toc-showtags": false
 },
 "nbformat": 4,
 "nbformat_minor": 5
}
