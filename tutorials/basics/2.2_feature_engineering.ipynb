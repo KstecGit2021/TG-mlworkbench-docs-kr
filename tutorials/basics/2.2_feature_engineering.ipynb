{
 "cells": [
  {
   "cell_type": "markdown",
   "id": "a0753d0e-9062-409d-8308-3d536bfa9d1c",
   "metadata": {},
   "source": [
    "# Featurizer #\n",
    "This notebook demonstrates how to use `pyTigerGraph` for common data processing and feature engineering tasks on graphs stored in `TigerGraph`."
   ]
  },
  {
   "cell_type": "markdown",
   "id": "c9f16295-3f06-48a6-83ec-bd5692b3990c",
   "metadata": {},
   "source": [
    "## Connection to Database ##\n",
    "The `TigerGraphConnection` class represents a connection to the TigerGraph database. Under the hood, it stores the necessary information to communicate with the database. Please see its [documentation](https://docs.tigergraph.com/pytigergraph/current/intro/) for details."
   ]
  },
  {
   "cell_type": "code",
   "execution_count": 1,
   "id": "675895f2-d60d-4c7a-a988-32e296ca93e3",
   "metadata": {},
   "outputs": [],
   "source": [
    "from pyTigerGraph import TigerGraphConnection"
   ]
  },
  {
   "cell_type": "code",
   "execution_count": 2,
   "id": "95391f04-3b1c-4c3b-ba2f-165b36dc82b7",
   "metadata": {},
   "outputs": [],
   "source": [
    "conn = TigerGraphConnection(\n",
    "    host=\"http://127.0.0.1\", # Change the address to your database server's\n",
    "    graphname=\"Cora\",\n",
    "    username=\"tigergraph\",\n",
    "    password=\"tigergraph\",\n",
    "    useCert=False\n",
    ")"
   ]
  },
  {
   "cell_type": "code",
   "execution_count": 3,
   "id": "857a0f72-abf7-426a-b556-c41ae69a81a7",
   "metadata": {},
   "outputs": [
    {
     "name": "stdout",
     "output_type": "stream",
     "text": [
      "---- Graph Cora\n",
      "Vertex Types:\n",
      "- VERTEX Paper(PRIMARY_ID id INT, x LIST<INT>, y INT, train_mask BOOL, val_mask BOOL, test_mask BOOL, fastrp_embedding LIST<DOUBLE>) WITH STATS=\"OUTDEGREE_BY_EDGETYPE\", PRIMARY_ID_AS_ATTRIBUTE=\"true\"\n",
      "Edge Types:\n",
      "- DIRECTED EDGE Cite(FROM Paper, TO Paper)\n",
      "\n",
      "Graphs:\n",
      "- Graph Cora(Paper:v, Cite:e)\n",
      "Jobs:\n",
      "Queries:\n",
      "\n",
      "\n",
      "\n",
      "\n"
     ]
    }
   ],
   "source": [
    "# Graph schema and other information.\n",
    "print(conn.gsql(\"ls\"))"
   ]
  },
  {
   "cell_type": "code",
   "execution_count": 4,
   "id": "21c77ec0-c6a8-474b-ac4e-526b562d7f59",
   "metadata": {},
   "outputs": [
    {
     "data": {
      "text/plain": [
       "{'Paper': 2708}"
      ]
     },
     "execution_count": 4,
     "metadata": {},
     "output_type": "execute_result"
    }
   ],
   "source": [
    "# Number of vertices for every vertex type\n",
    "conn.getVertexCount('*')"
   ]
  },
  {
   "cell_type": "code",
   "execution_count": 5,
   "id": "0209af7a-f2e0-4e23-88e4-bd7573246bc9",
   "metadata": {},
   "outputs": [
    {
     "data": {
      "text/plain": [
       "2708"
      ]
     },
     "execution_count": 5,
     "metadata": {},
     "output_type": "execute_result"
    }
   ],
   "source": [
    "# Number of vertices of a specific type\n",
    "conn.getVertexCount(\"Paper\")"
   ]
  },
  {
   "cell_type": "code",
   "execution_count": 6,
   "id": "8299b1b2-49f4-4c2f-8054-b824eb77c42c",
   "metadata": {},
   "outputs": [
    {
     "data": {
      "text/plain": [
       "{'Cite': 10556}"
      ]
     },
     "execution_count": 6,
     "metadata": {},
     "output_type": "execute_result"
    }
   ],
   "source": [
    "# Number of edges for every type\n",
    "conn.getEdgeCount()"
   ]
  },
  {
   "cell_type": "code",
   "execution_count": 7,
   "id": "a197b0e5-0ed1-4158-9a54-270db3d72670",
   "metadata": {},
   "outputs": [
    {
     "data": {
      "text/plain": [
       "10556"
      ]
     },
     "execution_count": 7,
     "metadata": {},
     "output_type": "execute_result"
    }
   ],
   "source": [
    "# Number of edges of a specific type\n",
    "conn.getEdgeCount(\"Cite\")"
   ]
  },
  {
   "cell_type": "markdown",
   "id": "4d4e2dcf-8c6f-43e1-9f58-1040cd503b9b",
   "metadata": {},
   "source": [
    "## Feature Engineering ##\n",
    "The ML Workbench includes quite a few graph algorithms to perform feature engineering tasks. The key functions are:\n",
    "\n",
    "1. `listAlgorithm()`: If it gets the class of algorithms (e.g. Centrality) as an input, it will print the available algorithms for    the specified category; otherwise will print the entire available algorithms. \n",
    "2. `installAlgorithm()`: Gets tha name of the algorithmm as input and installs the algorithm if it is not already installed. \n",
    "3. `runAlgorithmm()`: Gets the algorithm name, schema type (e.g. vertex/edge, by default it is vertex), attribute name (if the result needs to be stored as an attribute in the database), and a list of schema type names (list of vertices/edges that the attribute needs to be saved in, by default it is for all vertices/edges).  "
   ]
  },
  {
   "cell_type": "code",
   "execution_count": 8,
   "id": "8fef49ee-d207-4d80-ac77-e93c111cf067",
   "metadata": {},
   "outputs": [],
   "source": [
    "f = conn.gds.featurizer()"
   ]
  },
  {
   "cell_type": "code",
   "execution_count": 9,
   "id": "8dc84a85-1d89-42c3-8362-129d48fe9d7b",
   "metadata": {},
   "outputs": [
    {
     "name": "stdout",
     "output_type": "stream",
     "text": [
      "The list of the categories for available algorithms in the GDS (https://github.com/tigergraph/gsql-graph-algorithms):\n",
      "Centrality: \n",
      " pagerank: \n",
      "  global: \n",
      "   weigthed: \n",
      "    https://github.com/tigergraph/gsql-graph-algorithms/blob/master/algorithms/Centrality/pagerank/global/weighted/tg_pagerank_wt.gsql. \n",
      "   unweighted: \n",
      "    https://github.com/tigergraph/gsql-graph-algorithms/blob/master/algorithms/Centrality/pagerank/global/unweighted/tg_pagerank.gsql. \n",
      " article_rank: \n",
      "  https://github.com/tigergraph/gsql-graph-algorithms/blob/master/algorithms/Centrality/article_rank/tg_article_rank.gsql. \n",
      " Betweenness: \n",
      "  https://github.com/tigergraph/gsql-graph-algorithms/blob/master/algorithms/Centrality/betweenness/tg_betweenness_cent.gsql. \n",
      " closeness: \n",
      "  approximate: \n",
      "   https://github.com/tigergraph/gsql-graph-algorithms/blob/master/algorithms/Centrality/closeness/approximate/tg_closeness_cent_approx.gsql. \n",
      "  exact: \n",
      "   https://github.com/tigergraph/gsql-graph-algorithms/blob/master/algorithms/Centrality/closeness/exact/tg_closeness_cent.gsql. \n",
      " degree: \n",
      "  https://github.com/tigergraph/gsql-graph-algorithms/blob/master/algorithms/Centrality/degree/tg_degree_cent.gsql. \n",
      " eigenvector: \n",
      "  https://github.com/tigergraph/gsql-graph-algorithms/blob/master/algorithms/Centrality/eigenvector/tg_eigenvector_cent.gsql. \n",
      " harmonic: \n",
      "  https://github.com/tigergraph/gsql-graph-algorithms/blob/master/algorithms/Centrality/harmonic/tg_harmonic_cent.gsql. \n",
      "Classification: \n",
      " maximal_independent_set: \n",
      "  deterministic: \n",
      "   https://github.com/tigergraph/gsql-graph-algorithms/blob/master/algorithms/Classification/maximal_independent_set/deterministic/tg_maximal_indep_set.gsql. \n",
      "Community: \n",
      " connected_components: \n",
      "  strongly_connected_components: \n",
      "   standard: \n",
      "    https://github.com/tigergraph/gsql-graph-algorithms/blob/master/algorithms/Community/connected_components/strongly_connected_components/standard/tg_scc.gsql. \n",
      " k_core: \n",
      "  https://github.com/tigergraph/gsql-graph-algorithms/blob/master/algorithms/Community/k_core/tg_kcore.gsql. \n",
      " label_propagation: \n",
      "  https://github.com/tigergraph/gsql-graph-algorithms/blob/master/algorithms/Community/label_propagation/tg_label_prop.gsql. \n",
      " local_clustering_coefficient: \n",
      "  https://github.com/tigergraph/gsql-graph-algorithms/blob/master/algorithms/Community/local_clustering_coefficient/tg_lcc.gsql. \n",
      " louvain: \n",
      "  https://github.com/tigergraph/gsql-graph-algorithms/blob/master/algorithms/Community/louvain/tg_louvain.gsql. \n",
      " triangle_counting: \n",
      "  fast: \n",
      "   https://github.com/tigergraph/gsql-graph-algorithms/blob/master/algorithms/Community/triangle_counting/fast/tg_tri_count_fast.gsql. \n",
      "Embeddings: \n",
      " FastRP: \n",
      "  https://github.com/tigergraph/gsql-graph-algorithms/blob/master/algorithms/GraphML/Embeddings/FastRP/tg_fastRP.gsql. \n",
      "Path: \n",
      " bfs: \n",
      "  https://github.com/tigergraph/gsql-graph-algorithms/blob/master/algorithms/Path/bfs/tg_bfs.gsql. \n",
      " cycle_detection: \n",
      "  count: \n",
      "   https://github.com/tigergraph/gsql-graph-algorithms/blob/master/algorithms/Path/cycle_detection/count/tg_cycle_detection_count.gsql. \n",
      " shortest_path: \n",
      "  unweighted: \n",
      "   https://github.com/tigergraph/gsql-graph-algorithms/blob/master/algorithms/Path/shortest_path/unweighted/tg_shortest_ss_no_wt.gsql. \n",
      "Topological Link Prediction: \n",
      " common_neighbors: \n",
      "  https://github.com/tigergraph/gsql-graph-algorithms/blob/master/algorithms/Topological%20Link%20Prediction/common_neighbors/tg_common_neighbors.gsql. \n",
      " preferential_attachment: \n",
      "  https://github.com/tigergraph/gsql-graph-algorithms/blob/master/algorithms/Topological%20Link%20Prediction/preferential_attachment/tg_preferential_attachment.gsql. \n",
      " same_community: \n",
      "  https://github.com/tigergraph/gsql-graph-algorithms/blob/master/algorithms/Topological%20Link%20Prediction/same_community/tg_same_community.gsql. \n",
      " total_neighbors: \n",
      "  https://github.com/tigergraph/gsql-graph-algorithms/blob/master/algorithms/Topological%20Link%20Prediction/total_neighbors/tg_total_neighbors.gsql. \n"
     ]
    }
   ],
   "source": [
    "f.listAlgorithms()"
   ]
  },
  {
   "cell_type": "markdown",
   "id": "fbf9b776-8f90-4a98-92b4-9220333ba819",
   "metadata": {},
   "source": [
    "## Examples of running graph algorithms from GDS library ##\n",
    "In the following, one example of each class of algoeirhms are provided. Some algorithms will generate a feature per vertex/edge;however, some other algorithms will calculates a number or statistics information about the graph. For example, the common neighbor algorithm calculates the number of common neighbors between two vertices."
   ]
  },
  {
   "cell_type": "markdown",
   "id": "8b56f301-3982-4118-8fbf-dfc34fe06708",
   "metadata": {},
   "source": [
    "## Get Pagerank as a feature ##\n",
    "The pagerank is available in GDS library called tg_pagerank under the class of centrality algorithms https://github.com/tigergraph/gsql-graph-algorithms/blob/master/algorithms/Centrality/pagerank/global/unweighted/tg_pagerank.gsql."
   ]
  },
  {
   "cell_type": "code",
   "execution_count": 10,
   "id": "193c865e-e061-4a91-82ab-df666b304df5",
   "metadata": {},
   "outputs": [
    {
     "name": "stdout",
     "output_type": "stream",
     "text": [
      "Installing and optimizing the queries, it might take a minute\n"
     ]
    },
    {
     "data": {
      "text/plain": [
       "'tg_pagerank'"
      ]
     },
     "execution_count": 10,
     "metadata": {},
     "output_type": "execute_result"
    }
   ],
   "source": [
    "f.installAlgorithm(\"tg_pagerank\")"
   ]
  },
  {
   "cell_type": "code",
   "execution_count": 11,
   "id": "ba833564-b0e5-4782-a941-2a02f475f0b8",
   "metadata": {},
   "outputs": [
    {
     "name": "stdout",
     "output_type": "stream",
     "text": [
      "Global schema change succeeded.\n"
     ]
    },
    {
     "data": {
      "text/plain": [
       "[{'@@top_scores_heap': [{'Vertex_ID': '1358', 'score': 33.06401},\n",
       "   {'Vertex_ID': '1701', 'score': 16.8922},\n",
       "   {'Vertex_ID': '1986', 'score': 14.46646},\n",
       "   {'Vertex_ID': '306', 'score': 13.72521},\n",
       "   {'Vertex_ID': '1810', 'score': 9.81973},\n",
       "   {'Vertex_ID': '2034', 'score': 8.61615},\n",
       "   {'Vertex_ID': '1623', 'score': 7.57608},\n",
       "   {'Vertex_ID': '88', 'score': 7.24722},\n",
       "   {'Vertex_ID': '598', 'score': 7.13392},\n",
       "   {'Vertex_ID': '1013', 'score': 6.85707}]}]"
      ]
     },
     "execution_count": 11,
     "metadata": {},
     "output_type": "execute_result"
    }
   ],
   "source": [
    "params = {'v_type':'Paper','e_type':'Cite','max_change':0.001, 'max_iter': 25, 'damping': 0.85, \n",
    "         'top_k': 10, 'print_accum': True, 'result_attr':'','file_path':'','display_edges': False}\n",
    "\n",
    "f.runAlgorithm('tg_pagerank',params=params,feat_name=\"pagerank\",timeout=2147480,sizeLimit = 2000000)"
   ]
  },
  {
   "cell_type": "markdown",
   "id": "b68be5d7-794d-48b8-98c6-a4c90bd4981b",
   "metadata": {},
   "source": [
    "## Run Maximal Independent Set ##\n",
    "The Maximal Independent Set algorithm is available in GDS library called tg_maximal_indep_set under the class of classification algorithms https://github.com/tigergraph/gsql-graph-algorithms/blob/master/algorithms/Classification/maximal_independent_set/deterministic/tg_maximal_indep_set.gsql."
   ]
  },
  {
   "cell_type": "code",
   "execution_count": 12,
   "id": "26652f72-0bb9-45d7-bdff-3ad1c95cc13a",
   "metadata": {},
   "outputs": [
    {
     "name": "stdout",
     "output_type": "stream",
     "text": [
      "Installing and optimizing the queries, it might take a minute\n"
     ]
    },
    {
     "data": {
      "text/plain": [
       "'tg_maximal_indep_set'"
      ]
     },
     "execution_count": 12,
     "metadata": {},
     "output_type": "execute_result"
    }
   ],
   "source": [
    "f.installAlgorithm(\"tg_maximal_indep_set\")"
   ]
  },
  {
   "cell_type": "code",
   "execution_count": 13,
   "id": "734f4859-ac44-4f0e-ad45-685175850d4b",
   "metadata": {},
   "outputs": [
    {
     "data": {
      "text/plain": [
       "[]"
      ]
     },
     "execution_count": 13,
     "metadata": {},
     "output_type": "execute_result"
    }
   ],
   "source": [
    "params = {'v_type': 'Paper', 'e_type': 'Cite','max_iter': 100,'print_accum': False,'file_path':''}\n",
    "\n",
    "f.runAlgorithm('tg_maximal_indep_set',params=params)"
   ]
  },
  {
   "cell_type": "markdown",
   "id": "1d7dd25c-b73f-4f4f-89de-97b2318ae7fd",
   "metadata": {},
   "source": [
    "## Get Louvain as a feature ##\n",
    "The Louvain algorithm is available in GDS library called tg_louvain under the class of community detection algorithms  https://github.com/tigergraph/gsql-graph-algorithms/blob/master/algorithms/Community/louvain/tg_louvain.gsql."
   ]
  },
  {
   "cell_type": "code",
   "execution_count": 14,
   "id": "fdfa669c-4d41-4a49-b824-c90231d3bae6",
   "metadata": {},
   "outputs": [
    {
     "name": "stdout",
     "output_type": "stream",
     "text": [
      "Installing and optimizing the queries, it might take a minute\n"
     ]
    },
    {
     "data": {
      "text/plain": [
       "'tg_louvain'"
      ]
     },
     "execution_count": 14,
     "metadata": {},
     "output_type": "execute_result"
    }
   ],
   "source": [
    "f.installAlgorithm(query_name='tg_louvain')"
   ]
  },
  {
   "cell_type": "code",
   "execution_count": 15,
   "id": "33787c45-1b8f-4c12-ad61-95a6ca66132e",
   "metadata": {},
   "outputs": [
    {
     "name": "stdout",
     "output_type": "stream",
     "text": [
      "Global schema change succeeded.\n"
     ]
    },
    {
     "data": {
      "text/plain": [
       "[{'AllVertexCount': 2708},\n",
       " {'InitChangeCount': 0},\n",
       " {'VertexFollowedToCommunity': 371},\n",
       " {'VertexFollowedToVertex': 114},\n",
       " {'VertexAssignedToItself': 0},\n",
       " {'FinalCommunityCount': 2280}]"
      ]
     },
     "execution_count": 15,
     "metadata": {},
     "output_type": "execute_result"
    }
   ],
   "source": [
    "params = {'v_type': 'Paper', 'e_type':['Cite','reverse_Cite'],'wt_attr':\"\",'max_iter':10,'result_attr':\"cid\",'file_path' :\"\",'print_info':True}\n",
    "\n",
    "f.runAlgorithm('tg_louvain',params,feat_name=\"cid\")"
   ]
  },
  {
   "cell_type": "markdown",
   "id": "f53df280-c428-40da-b3ec-32de0a3cd673",
   "metadata": {},
   "source": [
    "## Get fastRP as a feature ##\n",
    "The fastRP algorithm is available in GDS library called tg_fastRP under the class of community detection algorithms  https://github.com/tigergraph/gsql-graph-algorithms/blob/master/algorithms/GraphML/Embeddings/FastRP/tg_fastRP.gsql"
   ]
  },
  {
   "cell_type": "code",
   "execution_count": 16,
   "id": "6d64019f-64a0-4d8c-a1d1-41dcafb29d3a",
   "metadata": {},
   "outputs": [
    {
     "name": "stdout",
     "output_type": "stream",
     "text": [
      "Installing and optimizing the queries, it might take a minute\n"
     ]
    },
    {
     "data": {
      "text/plain": [
       "'tg_fastRP'"
      ]
     },
     "execution_count": 16,
     "metadata": {},
     "output_type": "execute_result"
    }
   ],
   "source": [
    "f.installAlgorithm(\"tg_fastRP\")"
   ]
  },
  {
   "cell_type": "code",
   "execution_count": 17,
   "id": "9a0d0b1c-9ab4-4af7-8025-439f5876ab04",
   "metadata": {},
   "outputs": [
    {
     "data": {
      "text/plain": [
       "[]"
      ]
     },
     "execution_count": 17,
     "metadata": {},
     "output_type": "execute_result"
    }
   ],
   "source": [
    "params = {'v_type': 'Paper', 'e_type': ['Cite','reverse_Cite'], 'weights': '1,1,2', 'beta': -0.85, 'k': 3, 'reduced_dim': 128, \n",
    "          'sampling_constant': 1, 'random_seed': 42, 'print_accum': False,'result_attr':\"\",'file_path' :\"\"}\n",
    "f.runAlgorithm('tg_fastRP',params,feat_name =\"fastrp_embedding\")"
   ]
  },
  {
   "cell_type": "markdown",
   "id": "c97c9c3a-91b3-4f20-83aa-35dd838cbf93",
   "metadata": {},
   "source": [
    "## Run Breadth-First Search Algorithm from a single source node ##\n",
    "The Breadth-First Search algorithm is available in GDS library called tg_bfs under the class of Path algorithms https://github.com/tigergraph/gsql-graph-algorithms/blob/master/algorithms/Path/bfs/tg_bfs.gsql."
   ]
  },
  {
   "cell_type": "code",
   "execution_count": 18,
   "id": "61608118-07f1-4fdf-b279-a49deedb2546",
   "metadata": {},
   "outputs": [
    {
     "name": "stdout",
     "output_type": "stream",
     "text": [
      "Installing and optimizing the queries, it might take a minute\n"
     ]
    },
    {
     "data": {
      "text/plain": [
       "'tg_bfs'"
      ]
     },
     "execution_count": 18,
     "metadata": {},
     "output_type": "execute_result"
    }
   ],
   "source": [
    "f.installAlgorithm(query_name='tg_bfs')"
   ]
  },
  {
   "cell_type": "code",
   "execution_count": 19,
   "id": "93d282e8-dc33-49c7-9a85-7f823929cd71",
   "metadata": {},
   "outputs": [
    {
     "name": "stdout",
     "output_type": "stream",
     "text": [
      "Global schema change succeeded.\n"
     ]
    },
    {
     "data": {
      "text/plain": [
       "[]"
      ]
     },
     "execution_count": 19,
     "metadata": {},
     "output_type": "execute_result"
    }
   ],
   "source": [
    "params = {'v_type': 'Paper', 'e_type':['Cite','reverse_Cite'],'max_hops':10,\"v_start\":(\"2180\",\"Paper\"),\n",
    "          'print_accum':False,'result_attr':\"\",'file_path' :\"\",'display_edges':False}\n",
    "\n",
    "f.runAlgorithm('tg_bfs',params,feat_name=\"bfs\")"
   ]
  },
  {
   "cell_type": "markdown",
   "id": "c31fe4dd-6b1f-4e8c-adb2-6a0cee5b5097",
   "metadata": {},
   "source": [
    "## Calculates the number of common neighbors between two vertices ##\n",
    "The common neighbors algorithm is available in GDS library called tg_common_neighbors under the class of Topological Link Prediction algorithms https://github.com/tigergraph/gsql-graph-algorithms/blob/master/algorithms/Topological%20Link%20Prediction/common_neighbors/tg_common_neighbors.gsql\n"
   ]
  },
  {
   "cell_type": "code",
   "execution_count": 20,
   "id": "da474ae2-26d2-4849-a4f5-f79ddd4a51e5",
   "metadata": {},
   "outputs": [
    {
     "name": "stdout",
     "output_type": "stream",
     "text": [
      "Installing and optimizing the queries, it might take a minute\n"
     ]
    },
    {
     "data": {
      "text/plain": [
       "'tg_common_neighbors'"
      ]
     },
     "execution_count": 20,
     "metadata": {},
     "output_type": "execute_result"
    }
   ],
   "source": [
    "f.installAlgorithm(query_name='tg_common_neighbors')  "
   ]
  },
  {
   "cell_type": "code",
   "execution_count": 21,
   "id": "d72b37a5-70bd-4d79-b493-ee8f236e7cf1",
   "metadata": {},
   "outputs": [
    {
     "data": {
      "text/plain": [
       "[{'closeness': 0}]"
      ]
     },
     "execution_count": 21,
     "metadata": {},
     "output_type": "execute_result"
    }
   ],
   "source": [
    "params={\"a\":(\"2180\",\"Paper\"),\"b\":(\"431\",\"Paper\"),\"e_type\":\"Cite\",\"print_res\":True}\n",
    "\n",
    "f.runAlgorithm('tg_common_neighbors',params)"
   ]
  },
  {
   "cell_type": "code",
   "execution_count": null,
   "id": "f403346b-9520-4070-8e2e-43c96769d631",
   "metadata": {},
   "outputs": [],
   "source": []
  }
 ],
 "metadata": {
  "interpreter": {
   "hash": "86339a571aa1685b1bf33ba9ca33ff3e2e27be4a4a583dd76d4cb23b04832e59"
  },
  "kernelspec": {
   "display_name": "Python 3.9.12",
   "language": "python",
   "name": "python3"
  },
  "language_info": {
   "codemirror_mode": {
    "name": "ipython",
    "version": 3
   },
   "file_extension": ".py",
   "mimetype": "text/x-python",
   "name": "python",
   "nbconvert_exporter": "python",
   "pygments_lexer": "ipython3",
   "version": "3.9.12"
  }
 },
 "nbformat": 4,
 "nbformat_minor": 5
}
