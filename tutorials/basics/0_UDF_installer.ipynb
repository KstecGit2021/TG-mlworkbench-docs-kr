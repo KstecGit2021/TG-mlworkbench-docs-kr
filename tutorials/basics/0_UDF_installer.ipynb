{
 "cells": [
  {
   "cell_type": "markdown",
   "id": "a0753d0e-9062-409d-8308-3d536bfa9d1c",
   "metadata": {},
   "source": [
    "# UDF Installer\n",
    "This notebook demonstrates how to use `pyTigerGraph` to install User Defined Functions (UDFs). UDFs are required for some graph algorithms and the data loaders (introduced later) to work. See https://docs.tigergraph.com/gsql-ref/current/querying/func/query-user-defined-functions for details on UDFs. \n",
    "\n",
    "**Note**: Installing UDF will overwrite any existing UDF in the database. Please back up your existing UDFs before installation."
   ]
  },
  {
   "cell_type": "markdown",
   "id": "4c6c851a-0070-4ab5-986c-9163dd5dae0c",
   "metadata": {},
   "source": [
    "### Connection to Database"
   ]
  },
  {
   "cell_type": "markdown",
   "id": "c9f16295-3f06-48a6-83ec-bd5692b3990c",
   "metadata": {},
   "source": [
    "The `TigerGraphConnection` class represents a connection to the TigerGraph database. Under the hood, it stores the necessary information to communicate with the database. It is able to perform quite a few database tasks. Please see its [documentation](https://docs.tigergraph.com/pytigergraph/current/intro/) for details.\n",
    "\n",
    "**Note**: Secret instead of username/password is required for TG cloud DBs created after 7/5/2022. Otherwise, you can leave it blank."
   ]
  },
  {
   "cell_type": "code",
   "execution_count": null,
   "id": "675895f2-d60d-4c7a-a988-32e296ca93e3",
   "metadata": {},
   "outputs": [],
   "source": [
    "from pyTigerGraph import TigerGraphConnection"
   ]
  },
  {
   "cell_type": "code",
   "execution_count": null,
   "id": "95391f04-3b1c-4c3b-ba2f-165b36dc82b7",
   "metadata": {},
   "outputs": [],
   "source": [
    "conn = TigerGraphConnection(\n",
    "    host=\"http://127.0.0.1\", # Change the address to your database server's\n",
    "    graphname=\"Cora\",\n",
    "    username=\"tigergraph\",\n",
    "    password=\"tigergraph\",\n",
    "    gsqlSecret=\"\" # secret instead of user/pass is required for TG cloud DBs created after 7/5/2022  \n",
    ")"
   ]
  },
  {
   "cell_type": "markdown",
   "id": "d26b0aea",
   "metadata": {},
   "source": [
    "<span style=\"color:red\">Uncomment cell below and run to get and set token if token authentication is enabled</span>. \n",
    "* This is required for all databases on tgcloud.\n",
    "* `<secret>` is your user secret. See https://docs.tigergraph.com/tigergraph-server/current/user-access/managing-credentials#_secrets for details.\n",
    "* If you don't know your secret, you can use `secret=conn.createSecret()` to create one."
   ]
  },
  {
   "cell_type": "code",
   "execution_count": null,
   "id": "0a0d6a63",
   "metadata": {},
   "outputs": [],
   "source": [
    "#conn.getToken(<secret>)"
   ]
  },
  {
   "cell_type": "markdown",
   "id": "db677d52",
   "metadata": {},
   "source": [
    "## Install UDF\n",
    "Install the desired UDF by providing the address where it is located. The address can be the path to a local file or the URL of a file online. Below we demonstrate the usage of the UDF installer by installing the UDFs for the builtin graph algorithms and the data loaders respectively. But don't run the two subsections below at the same time, as they will overwrite each other! Rather, install the UDF for graph algorithms when you need to use the featurizer, or the UDF for data loaders when you need the data loaders."
   ]
  },
  {
   "cell_type": "markdown",
   "id": "4f150ef8-8b4d-4439-b096-d895a38aca47",
   "metadata": {},
   "source": [
    "### UDF for data loaders"
   ]
  },
  {
   "cell_type": "code",
   "execution_count": null,
   "id": "d3a21f72-6721-4783-8f7c-9fe8d39a3ef6",
   "metadata": {},
   "outputs": [],
   "source": [
    "ExprFunctions=\"https://tg-mlworkbench.s3.us-west-1.amazonaws.com/udf/1.0/ExprFunctions.hpp\"  # For enterprise users, please use the link you received.\n",
    "ExprUtil=\"\"  # For enterprise users, please use the link you received.\n",
    "conn.installUDF(ExprFunctions, ExprUtil)"
   ]
  },
  {
   "cell_type": "code",
   "execution_count": null,
   "id": "97ab1a40-0c11-4d57-83c5-6e257b4a3287",
   "metadata": {},
   "outputs": [],
   "source": [
    "neighbor_loader = conn.gds.neighborLoader(\n",
    "    num_batches=10,\n",
    "    num_neighbors = 10,\n",
    "    num_hops =2,\n",
    "    v_in_feats = [\"x\"],\n",
    "    v_out_labels = [\"y\"],\n",
    "    v_extra_feats = [\"train_mask\", \"val_mask\", \"test_mask\"],\n",
    "    e_in_feats=[\"time\"],\n",
    "    e_out_labels=[],\n",
    "    e_extra_feats=[\"is_train\", \"is_val\"],\n",
    "    output_format = \"PyG\",\n",
    "    shuffle=True,\n",
    "    filter_by=None\n",
    ")"
   ]
  },
  {
   "cell_type": "code",
   "execution_count": null,
   "id": "d1459754-dee5-4267-aa61-01114de70d22",
   "metadata": {},
   "outputs": [],
   "source": [
    "%%time\n",
    "for i, batch in enumerate(neighbor_loader):\n",
    "    print(\"----Batch {}----\".format(i))\n",
    "    print(batch)"
   ]
  },
  {
   "cell_type": "markdown",
   "id": "dd1fcf0b-6d8d-430d-acfc-e7cf4b809003",
   "metadata": {},
   "source": [
    "### UDF for builtin graph algorithms (Optional)"
   ]
  },
  {
   "cell_type": "markdown",
   "id": "c7713d5d",
   "metadata": {},
   "source": [
    "**Note**: Those UDFs come pre-installed with TigerGraph database 3.6 and above. Do NOT run the cell below to reinstall the UDFs or you will get an error. However, if you are using database 3.5 and below, those UDFs are required."
   ]
  },
  {
   "cell_type": "code",
   "execution_count": null,
   "id": "81b39501",
   "metadata": {},
   "outputs": [],
   "source": [
    "ExprFunctions=\"https://raw.githubusercontent.com/tigergraph/gsql-graph-algorithms/ML_Workbench_3.5/UDF/tg_ExprFunctions.hpp\"\n",
    "ExprUtil=\"https://raw.githubusercontent.com/tigergraph/gsql-graph-algorithms/ML_Workbench_3.5/UDF/tg_ExprUtil.hpp\"\n",
    "conn.installUDF(ExprFunctions, ExprUtil)"
   ]
  },
  {
   "cell_type": "markdown",
   "id": "f53df280-c428-40da-b3ec-32de0a3cd673",
   "metadata": {},
   "source": [
    "With the UDF installd, we can use any builtin graph algorithm. Here we use fastRP as an example. The fastRP algorithm is available in GDS library called tg_fastRP under the class of embedding algorithms  https://github.com/tigergraph/gsql-graph-algorithms/blob/master/algorithms/GraphML/Embeddings/FastRP/tg_fastRP.gsql. Now fastRP can be used to create features."
   ]
  },
  {
   "cell_type": "code",
   "execution_count": null,
   "id": "6d64019f-64a0-4d8c-a1d1-41dcafb29d3a",
   "metadata": {},
   "outputs": [],
   "source": [
    "f = conn.gds.featurizer()\n",
    "f.installAlgorithm(\n",
    "    \"tg_fastRP\", \n",
    "    global_change = False # If a global schema change is needed to add an attribute, set it to True.\n",
    ")"
   ]
  },
  {
   "cell_type": "code",
   "execution_count": null,
   "id": "9a0d0b1c-9ab4-4af7-8025-439f5876ab04",
   "metadata": {},
   "outputs": [],
   "source": [
    "params = {'v_type': 'Paper', 'e_type': ['Cite','reverse_Cite'], 'weights': '1,1,2', 'beta': -0.85, 'k': 3, 'reduced_dim': 128, \n",
    "          'sampling_constant': 1, 'random_seed': 42, 'print_accum': False,'result_attr':\"\",'file_path' :\"\"}\n",
    "f.runAlgorithm('tg_fastRP', params, feat_name =\"fastrp_embedding\")"
   ]
  }
 ],
 "metadata": {
  "interpreter": {
   "hash": "86339a571aa1685b1bf33ba9ca33ff3e2e27be4a4a583dd76d4cb23b04832e59"
  },
  "kernelspec": {
   "display_name": "TigerGraph Pytorch",
   "language": "python",
   "name": "python3"
  },
  "language_info": {
   "codemirror_mode": {
    "name": "ipython",
    "version": 3
   },
   "file_extension": ".py",
   "mimetype": "text/x-python",
   "name": "python",
   "nbconvert_exporter": "python",
   "pygments_lexer": "ipython3",
   "version": "3.9.13"
  }
 },
 "nbformat": 4,
 "nbformat_minor": 5
}
