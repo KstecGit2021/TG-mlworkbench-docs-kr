{
 "cells": [
  {
   "cell_type": "markdown",
   "id": "300b2d48-024f-4d54-8688-8ac2cf7c10e0",
   "metadata": {},
   "source": [
    "# 데이터 수집"
   ]
  },
  {
   "cell_type": "markdown",
   "id": "122d8f47-a77e-4c70-8bfd-9e1692620ebf",
   "metadata": {},
   "source": [
    "이 노트북은 3개의 예제 데이터세트를 TigerGraph 데이터베이스에 로드하는 방법을 보여줍니다. 데이터 파일은 github [repo](https://github.com/TigerGraph-DevLabs/mlworkbench-docs/tree/main/tutorials/basics/data) 에 포함되어 있습니다. 이 노트북을 실행하려면 저장소를 복제하거나 해당 파일을 다운로드해야 합니다.\n",
    "\n",
    "**Cora** 데이터 세트에는 2708개의 기계 학습 논문과 10556개의 논문 간 인용 링크가 포함되어 있습니다 . 데이터 세트의 각 출판물은 사전에서 해당 단어의 부재/존재를 나타내는 0/1 값 단어 벡터로 설명됩니다. 사전은 1433개의 고유한 단어로 구성되어 있습니다. 각 논문은 주제에 따라 7개의 클래스 중 하나로 분류됩니다.\n",
    "\n",
    "**IMDB** 데이터 세트에는 3가지 유형의 정점 이 포함되어 있습니다. 4278개의 영화, 5257명의 배우 및 2081명의 감독이 있습니다. 4가지 유형의 에지: 12828 배우 대 영화 에지, 12828 영화 대 배우 에지, 4278 감독 대 영화 에지, 4278 영화 대 감독 에지. 각 정점은 해당 키워드의 부재/존재를 나타내는 0/1 값 단어 벡터로 설명됩니다. 영화의 경우 키워드는 플롯에서 추출됩니다. 배우와 감독의 경우 참여한 영화의 줄거리에서 키워드를 추출합니다. 각 영화는 장르에 따라 액션, 코미디, 드라마의 세 가지 클래스로 분류됩니다. 목표는 그래프에서 각 영화의 클래스를 예측하는 것입니다.\n",
    "\n",
    "**hetero** 데이터 세트 에는 작고 설명을 위한 합성 이종 그래프가 포함되어 있습니다."
   ]
  },
  {
   "cell_type": "markdown",
   "id": "711a4850",
   "metadata": {},
   "source": [
    "**NOTE** : 데이터 수집 절차는 TigerGraph 온프레미스 데이터베이스와 2022년 7월 5일 이후에 생성된 tgcloud 데이터베이스 간에 약간 다릅니다. 데이터베이스에 해당하는 섹션을 실행하되 둘 다 실행하지 마십시오."
   ]
  },
  {
   "cell_type": "markdown",
   "id": "706cf86a",
   "metadata": {},
   "source": [
    "### TigerGraph On-Prem(및 2022년 7월 5일 이전에 생성된 TGCloud 데이터베이스) "
   ]
  },
  {
   "cell_type": "markdown",
   "id": "df1ecc9a-f9b7-4477-9a17-d92e9651efed",
   "metadata": {},
   "source": [
    "자신의 데이터베이스 인스턴스에 연결하려면 `TigerGraphConnection` 개체를 수정해야 합니다. 자세한 내용은 [여기](https://docs.tigergraph.com/pytigergraph/current/getting-started/connection) 에서 문서를 확인 하십시오."
   ]
  },
  {
   "cell_type": "code",
   "execution_count": null,
   "id": "ac8dc0be",
   "metadata": {},
   "outputs": [],
   "source": [
    "from pyTigerGraph import TigerGraphConnection\n",
    "\n",
    "conn = TigerGraphConnection(\n",
    "    host=\"http://127.0.0.1\", # 데이터베이스의 주소를 변경\n",
    "    username=\"tigergraph\", # 사용자 이름으로 변경\n",
    "    password=\"tigergraph\" # 비밀번호 변경\n",
    ")"
   ]
  },
  {
   "cell_type": "code",
   "execution_count": null,
   "id": "078df6cd",
   "metadata": {},
   "outputs": [],
   "source": [
    "# 연결이 작동하는지 확인하기 위해 데이터베이스의 메타데이터를 확인합니다.\n",
    "print(conn.gsql(\"LS\"))"
   ]
  },
  {
   "cell_type": "markdown",
   "id": "e4ac461b",
   "metadata": {},
   "source": [
    "#### Cora Dataset"
   ]
  },
  {
   "cell_type": "code",
   "execution_count": null,
   "id": "ee4aba67",
   "metadata": {},
   "outputs": [],
   "source": [
    "print(conn.gsql(\"CREATE GRAPH Cora()\"))\n",
    "\n",
    "conn.graphname = \"Cora\"\n",
    "# 스키마 변경 작업 생성 및 실행\n",
    "print(conn.gsql(open(\"./data/cora/gsql/schema.gsql\", \"r\").read()))\n",
    "\n",
    "# 로딩 작업 생성\n",
    "print(conn.gsql(open(\"./data/cora/gsql/load.gsql\", \"r\").read()))"
   ]
  },
  {
   "cell_type": "code",
   "execution_count": null,
   "id": "e869935a",
   "metadata": {},
   "outputs": [],
   "source": [
    "# 토큰 인증이 필요한 그래프를 사용하지 않거나 오류가 발생하는 경우 아래 행을 주석 처리합니다.\n",
    "conn.getToken(conn.createSecret())"
   ]
  },
  {
   "cell_type": "code",
   "execution_count": null,
   "id": "6796ed8c",
   "metadata": {},
   "outputs": [],
   "source": [
    "# 데이터 로드\n",
    "conn.runLoadingJobWithFile(\"./data/cora/nodes.csv\", \"node_csv\", \"load_cora_data\")\n",
    "conn.runLoadingJobWithFile(\"./data/cora/edges.csv\", \"edge_csv\", \"load_cora_data\")"
   ]
  },
  {
   "cell_type": "markdown",
   "id": "05e3e854",
   "metadata": {},
   "source": [
    "#### IMDB Dataset"
   ]
  },
  {
   "cell_type": "code",
   "execution_count": null,
   "id": "2da48291",
   "metadata": {},
   "outputs": [],
   "source": [
    "print(conn.gsql(\"CREATE GRAPH imdb()\"))\n",
    "\n",
    "conn.graphname = \"imdb\"\n",
    "# 그래프 스키마 생성\n",
    "print(conn.gsql(open(\"./data/imdb/gsql/schema.gsql\", \"r\").read()))\n",
    "# 로딩 작업 생성\n",
    "print(conn.gsql(open(\"./data/imdb/gsql/load.gsql\", \"r\").read()))"
   ]
  },
  {
   "cell_type": "code",
   "execution_count": null,
   "id": "6efa51f2",
   "metadata": {},
   "outputs": [],
   "source": [
    "# 토큰 인증이 필요한 그래프를 사용하지 않는 경우 아래 행을 주석 처리하십시오.\n",
    "conn.getToken(conn.createSecret())"
   ]
  },
  {
   "cell_type": "code",
   "execution_count": null,
   "id": "3a3a7a64",
   "metadata": {},
   "outputs": [],
   "source": [
    "# 데이터 로드\n",
    "conn.runLoadingJobWithFile(\"./data/imdb/director.csv\", \"director_csv\", \"load_imdb_data\")\n",
    "conn.runLoadingJobWithFile(\"./data/imdb/actor.csv\", \"actor_csv\", \"load_imdb_data\")\n",
    "conn.runLoadingJobWithFile(\"./data/imdb/movie.csv\", \"movie_csv\", \"load_imdb_data\")\n",
    "conn.runLoadingJobWithFile(\"./data/imdb/actor_movie.csv\", \"actor_movie_csv\", \"load_imdb_data\")\n",
    "conn.runLoadingJobWithFile(\"./data/imdb/director_movie.csv\", \"director_movie_csv\", \"load_imdb_data\")\n",
    "conn.runLoadingJobWithFile(\"./data/imdb/movie_actor.csv\", \"movie_actor_csv\", \"load_imdb_data\")\n",
    "conn.runLoadingJobWithFile(\"./data/imdb/movie_director.csv\", \"movie_director_csv\", \"load_imdb_data\")"
   ]
  },
  {
   "cell_type": "markdown",
   "id": "1f81117f",
   "metadata": {},
   "source": [
    "#### Heterogenous Graph Example"
   ]
  },
  {
   "cell_type": "code",
   "execution_count": null,
   "id": "464292f5",
   "metadata": {},
   "outputs": [],
   "source": [
    "print(conn.gsql(\"CREATE GRAPH hetero()\"))\n",
    "\n",
    "conn.graphname=\"hetero\"\n",
    "# 그래프 스키마 생성\n",
    "print(conn.gsql(open(\"./data/heterogenous/gsql/schema.gsql\", \"r\").read()))\n",
    "# 로딩 작업 생성\n",
    "print(conn.gsql(open(\"./data/heterogenous/gsql/load.gsql\", \"r\").read()))"
   ]
  },
  {
   "cell_type": "code",
   "execution_count": null,
   "id": "fb80d192",
   "metadata": {},
   "outputs": [],
   "source": [
    "# 토큰 인증이 필요한 그래프를 사용하지 않는 경우 아래 행을 주석 처리하십시오.\n",
    "conn.getToken(conn.createSecret())"
   ]
  },
  {
   "cell_type": "code",
   "execution_count": null,
   "id": "5bcabb40",
   "metadata": {},
   "outputs": [],
   "source": [
    "# 데이터 로드\n",
    "conn.runLoadingJobWithFile(\"./data/heterogenous/v0.csv\", \"v0_csv\", \"load_hetero_data\")\n",
    "conn.runLoadingJobWithFile(\"./data/heterogenous/v1.csv\", \"v1_csv\", \"load_hetero_data\")\n",
    "conn.runLoadingJobWithFile(\"./data/heterogenous/v2.csv\", \"v2_csv\", \"load_hetero_data\")\n",
    "conn.runLoadingJobWithFile(\"./data/heterogenous/v0v0.csv\", \"v0v0_csv\", \"load_hetero_data\")\n",
    "conn.runLoadingJobWithFile(\"./data/heterogenous/v1v1.csv\", \"v1v1_csv\", \"load_hetero_data\")\n",
    "conn.runLoadingJobWithFile(\"./data/heterogenous/v1v2.csv\", \"v1v2_csv\", \"load_hetero_data\")\n",
    "conn.runLoadingJobWithFile(\"./data/heterogenous/v2v0.csv\", \"v2v0_csv\", \"load_hetero_data\")\n",
    "conn.runLoadingJobWithFile(\"./data/heterogenous/v2v1.csv\", \"v2v1_csv\", \"load_hetero_data\")\n",
    "conn.runLoadingJobWithFile(\"./data/heterogenous/v2v2.csv\", \"v2v2_csv\", \"load_hetero_data\")"
   ]
  },
  {
   "cell_type": "markdown",
   "id": "f6c8f106",
   "metadata": {},
   "source": [
    "### 2022년 7월 5일 이후에 생성된 TGCloud 데이터베이스 "
   ]
  },
  {
   "cell_type": "markdown",
   "id": "0ab3cd70",
   "metadata": {},
   "source": [
    "#### Cora Dataset"
   ]
  },
  {
   "cell_type": "markdown",
   "id": "64cb4f92",
   "metadata": {},
   "source": [
    "Cora 그래프를 생성하고 그래프에 대한 secret을 생성 **해야** 합니다 ."
   ]
  },
  {
   "cell_type": "code",
   "execution_count": null,
   "id": "07f7c31b",
   "metadata": {},
   "outputs": [],
   "source": [
    "from pyTigerGraph import TigerGraphConnection\n",
    "\n",
    "gsqlSecret=\"YOUR_GSQL_SECRET_HERE\", # 그래프에 대한 비밀로 변경\n",
    "\n",
    "conn = TigerGraphConnection(\n",
    "    host=\"https://mydb.i.tgcloud.io\", # 주소를 데이터베이스의 주소로 변경\n",
    "    graphname=\"Cora\",\n",
    "    gsqlSecret=gsqlSecret,\n",
    ")\n",
    "\n",
    "conn.getToken(gsqlSecret)"
   ]
  },
  {
   "cell_type": "code",
   "execution_count": null,
   "id": "ab4d9e33",
   "metadata": {},
   "outputs": [],
   "source": [
    "# 연결이 작동하는지 확인하기 위해 데이터베이스의 메타데이터를 확인합니다.\n",
    "print(conn.gsql(\"LS\"))"
   ]
  },
  {
   "cell_type": "code",
   "execution_count": null,
   "id": "c336a99d",
   "metadata": {},
   "outputs": [],
   "source": [
    "# 스키마 변경 작업 생성 및 실행\n",
    "print(conn.gsql(open(\"./data/cora/gsql/schema.gsql\", \"r\").read()))\n",
    "\n",
    "# 로딩 작업 생성\n",
    "print(conn.gsql(open(\"./data/cora/gsql/load.gsql\", \"r\").read()))"
   ]
  },
  {
   "cell_type": "code",
   "execution_count": null,
   "id": "3ee2e597",
   "metadata": {},
   "outputs": [],
   "source": [
    "# 데이터 로드\n",
    "conn.runLoadingJobWithFile(\"./data/cora/nodes.csv\", \"node_csv\", \"load_cora_data\")\n",
    "conn.runLoadingJobWithFile(\"./data/cora/edges.csv\", \"edge_csv\", \"load_cora_data\")"
   ]
  },
  {
   "cell_type": "markdown",
   "id": "237b0f5a",
   "metadata": {},
   "source": [
    "#### IMDB Dataset"
   ]
  },
  {
   "cell_type": "markdown",
   "id": "35de3455",
   "metadata": {},
   "source": [
    "imdb 그래프를 생성하고 그래프에 대한 secret을 생성 **해야** 합니다."
   ]
  },
  {
   "cell_type": "code",
   "execution_count": null,
   "id": "fbaa36c5",
   "metadata": {},
   "outputs": [],
   "source": [
    "from pyTigerGraph import TigerGraphConnection\n",
    "\n",
    "gsqlSecret=\"YOUR_GSQL_SECRET_HERE\", # 그래프에 대한 secret로 변경\n",
    "\n",
    "conn = TigerGraphConnection(\n",
    "    host=\"https://mydb.i.tgcloud.io\", # 주소를 데이터베이스의 주소로 변경\n",
    "    graphname=\"imdb\",\n",
    "    gsqlSecret=gsqlSecret,\n",
    ")\n",
    "\n",
    "conn.getToken(gsqlSecret)"
   ]
  },
  {
   "cell_type": "code",
   "execution_count": null,
   "id": "fa1dab94",
   "metadata": {},
   "outputs": [],
   "source": [
    "# 그래프 스키마 생성\n",
    "print(conn.gsql(open(\"./data/imdb/gsql/schema.gsql\", \"r\").read()))\n",
    "# 로딩 작업 생성\n",
    "print(conn.gsql(open(\"./data/imdb/gsql/load.gsql\", \"r\").read()))"
   ]
  },
  {
   "cell_type": "code",
   "execution_count": null,
   "id": "bef7ed6d",
   "metadata": {},
   "outputs": [],
   "source": [
    "# 데이터 로드\n",
    "conn.runLoadingJobWithFile(\"./data/imdb/director.csv\", \"director_csv\", \"load_imdb_data\")\n",
    "conn.runLoadingJobWithFile(\"./data/imdb/actor.csv\", \"actor_csv\", \"load_imdb_data\")\n",
    "conn.runLoadingJobWithFile(\"./data/imdb/movie.csv\", \"movie_csv\", \"load_imdb_data\")\n",
    "conn.runLoadingJobWithFile(\"./data/imdb/actor_movie.csv\", \"actor_movie_csv\", \"load_imdb_data\")\n",
    "conn.runLoadingJobWithFile(\"./data/imdb/director_movie.csv\", \"director_movie_csv\", \"load_imdb_data\")\n",
    "conn.runLoadingJobWithFile(\"./data/imdb/movie_actor.csv\", \"movie_actor_csv\", \"load_imdb_data\")\n",
    "conn.runLoadingJobWithFile(\"./data/imdb/movie_director.csv\", \"movie_director_csv\", \"load_imdb_data\")"
   ]
  },
  {
   "cell_type": "markdown",
   "id": "bf8b7b24",
   "metadata": {},
   "source": [
    "#### Heterogenous Graph Example"
   ]
  },
  {
   "cell_type": "markdown",
   "id": "2055e2d5",
   "metadata": {},
   "source": [
    "Heterogenous 그래프를 생성하고 그래프에 대한 secret을 생성 **해야** 합니다."
   ]
  },
  {
   "cell_type": "code",
   "execution_count": null,
   "id": "528ba0cb",
   "metadata": {},
   "outputs": [],
   "source": [
    "from pyTigerGraph import TigerGraphConnection\n",
    "\n",
    "gsqlSecret=\"YOUR_GSQL_SECRET_HERE\", # 그래프에 대한 secret로 변경\n",
    "\n",
    "conn = TigerGraphConnection(\n",
    "    host=\"https://mydb.i.tgcloud.io\", # 주소를 데이터베이스의 주소로 변경\n",
    "    graphname=\"hetero\",\n",
    "    gsqlSecret=gsqlSecret,\n",
    ")\n",
    "\n",
    "conn.getToken(gsqlSecret)"
   ]
  },
  {
   "cell_type": "code",
   "execution_count": null,
   "id": "926691b4",
   "metadata": {},
   "outputs": [],
   "source": [
    "# 그래프 스키마 생성\n",
    "print(conn.gsql(open(\"./data/heterogenous/gsql/schema.gsql\", \"r\").read()))\n",
    "# 로딩 작업 생성\n",
    "print(conn.gsql(open(\"./data/heterogenous/gsql/load.gsql\", \"r\").read()))"
   ]
  },
  {
   "cell_type": "code",
   "execution_count": null,
   "id": "3a7c75ab",
   "metadata": {},
   "outputs": [],
   "source": [
    "# 데이터 로드\n",
    "conn.runLoadingJobWithFile(\"./data/heterogenous/v0.csv\", \"v0_csv\", \"load_hetero_data\")\n",
    "conn.runLoadingJobWithFile(\"./data/heterogenous/v1.csv\", \"v1_csv\", \"load_hetero_data\")\n",
    "conn.runLoadingJobWithFile(\"./data/heterogenous/v2.csv\", \"v2_csv\", \"load_hetero_data\")\n",
    "conn.runLoadingJobWithFile(\"./data/heterogenous/v0v0.csv\", \"v0v0_csv\", \"load_hetero_data\")\n",
    "conn.runLoadingJobWithFile(\"./data/heterogenous/v1v1.csv\", \"v1v1_csv\", \"load_hetero_data\")\n",
    "conn.runLoadingJobWithFile(\"./data/heterogenous/v1v2.csv\", \"v1v2_csv\", \"load_hetero_data\")\n",
    "conn.runLoadingJobWithFile(\"./data/heterogenous/v2v0.csv\", \"v2v0_csv\", \"load_hetero_data\")\n",
    "conn.runLoadingJobWithFile(\"./data/heterogenous/v2v1.csv\", \"v2v1_csv\", \"load_hetero_data\")\n",
    "conn.runLoadingJobWithFile(\"./data/heterogenous/v2v2.csv\", \"v2v2_csv\", \"load_hetero_data\")"
   ]
  }
 ],
 "metadata": {
  "kernelspec": {
   "display_name": "Python 3 (ipykernel)",
   "language": "python",
   "name": "python3"
  },
  "language_info": {
   "codemirror_mode": {
    "name": "ipython",
    "version": 3
   },
   "file_extension": ".py",
   "mimetype": "text/x-python",
   "name": "python",
   "nbconvert_exporter": "python",
   "pygments_lexer": "ipython3",
   "version": "3.9.12"
  },
  "vscode": {
   "interpreter": {
    "hash": "fc5eadac82f5951e7eb836bb06f3c9df8e6d1eda5537a95773af6c6ed24cb2d0"
   }
  }
 },
 "nbformat": 4,
 "nbformat_minor": 5
}
