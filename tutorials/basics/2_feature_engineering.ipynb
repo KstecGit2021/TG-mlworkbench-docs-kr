{
 "cells": [
  {
   "cell_type": "markdown",
   "id": "5acd0f87-69b7-4696-8d30-a68218279bdc",
   "metadata": {},
   "source": [
    "# Feature Engineering"
   ]
  },
  {
   "cell_type": "markdown",
   "id": "6bb9e3e6-502b-422a-8dc2-51bcf13a3762",
   "metadata": {},
   "source": [
    "This notebook demonstrates how to use `pyTigerGraph` for common data processing tasks on graphs stored in `TigerGraph`."
   ]
  },
  {
   "cell_type": "markdown",
   "id": "b1c820d8-7919-481a-a9a6-36a4fbc9c43f",
   "metadata": {},
   "source": [
    "## Connection to Database"
   ]
  },
  {
   "cell_type": "markdown",
   "id": "8d2211e5-7eda-4f80-87ad-d0dea6fbdf7a",
   "metadata": {},
   "source": [
    "The `TigerGraphConnection` class represents a connection to the TigerGraph database. Under the hood, it stores the necessary information to communicate with the database. Please see its documentation for details."
   ]
  },
  {
   "cell_type": "code",
   "execution_count": 1,
   "id": "0013466e-83ec-4932-b17b-32ffd56e9695",
   "metadata": {},
   "outputs": [],
   "source": [
    "from pyTigerGraph import TigerGraphConnection"
   ]
  },
  {
   "cell_type": "code",
   "execution_count": 2,
   "id": "1cf261f1-f0b5-40de-ac56-7578c675b1ce",
   "metadata": {},
   "outputs": [
    {
     "name": "stdout",
     "output_type": "stream",
     "text": [
      "Initializing the graph. It might take a minute if this is the first time you run it.\n"
     ]
    }
   ],
   "source": [
    "conn = TigerGraphConnection(\n",
    "    host=\"http://127.0.0.1\", # Change the address to your database server's\n",
    "    graphname=\"Cora\",\n",
    "    username=\"tigergraph\",\n",
    "    password=\"tigergraph\",\n",
    "    useCert=False\n",
    ")"
   ]
  },
  {
   "cell_type": "code",
   "execution_count": 3,
   "id": "938a7022-98f2-49ca-98cd-9569eb434e13",
   "metadata": {},
   "outputs": [
    {
     "name": "stdout",
     "output_type": "stream",
     "text": [
      "Using graph 'Cora'\n",
      "---- Graph Cora\n",
      "Vertex Types: \n",
      "  - VERTEX Paper(PRIMARY_ID id INT, x LIST<INT>, y INT, train_mask BOOL, val_mask BOOL, test_mask BOOL, tmp_id INT, tmp_id2 INT, tmp_id3 INT, train BOOL, val BOOL, test BOOL, bool_attr BOOL DEFAULT \"false\") WITH STATS=\"OUTDEGREE_BY_EDGETYPE\", PRIMARY_ID_AS_ATTRIBUTE=\"true\"\n",
      "Edge Types: \n",
      "  - DIRECTED EDGE Cite(FROM Paper, TO Paper)\n",
      "\n",
      "Graphs: \n",
      "  - Graph Cora(Paper:v, Cite:e)\n",
      "Jobs: \n",
      "Queries: \n",
      "  - export_edge(string output_path) (installed v2)\n",
      "  - export_vertex_train_val_test(string output_path) (installed v2)\n",
      "  - export_vertex_x_y_train_mask_val_mask_test_mask(string output_path) (installed v2)\n",
      "  - get_vertex_number(string v_type, string filter_by) (installed v2)\n",
      "  - shuffle_vertices(string tmp_id) (installed v2)\n",
      "  - tg_neighbor_sampler_x(set<vertex> input_vertices, string vertex_filename, string edge_filename, int batch_id, int num_batches, int num_neighbors, int num_hops, string filter_by, string tmp_id) (installed v2)\n",
      "  - tg_neighbor_sampler_x_y_train_mask_val_mask_test_mask(set<vertex> input_vertices, string vertex_filename, string edge_filename, int batch_id, int num_batches, int num_neighbors, int num_hops, string filter_by, string tmp_id) (installed v2)\n",
      "  - train_test_vertex_split(string train_attr, string test_attr, string val_attr, double train_ratio, double test_ratio) (installed v2)\n",
      "\n",
      "\n",
      "\n",
      "\n"
     ]
    }
   ],
   "source": [
    "# Graph schema and other information.\n",
    "print(conn.gsql(\"ls\"))"
   ]
  },
  {
   "cell_type": "code",
   "execution_count": 4,
   "id": "0c64295a-aa75-4fc7-9579-601d3b22b1cf",
   "metadata": {},
   "outputs": [
    {
     "data": {
      "text/plain": [
       "2708"
      ]
     },
     "execution_count": 4,
     "metadata": {},
     "output_type": "execute_result"
    }
   ],
   "source": [
    "# Number of vertices for every vertex type\n",
    "conn.getVertexCount('*')"
   ]
  },
  {
   "cell_type": "code",
   "execution_count": 5,
   "id": "34956134-548b-4627-b3d2-f10a0b07f008",
   "metadata": {},
   "outputs": [
    {
     "data": {
      "text/plain": [
       "2708"
      ]
     },
     "execution_count": 5,
     "metadata": {},
     "output_type": "execute_result"
    }
   ],
   "source": [
    "# Number of vertices of a specific type\n",
    "conn.getVertexCount(\"Paper\")"
   ]
  },
  {
   "cell_type": "code",
   "execution_count": 6,
   "id": "2b1e3c01-f4d3-4405-a3d8-6ca6802f4f8b",
   "metadata": {},
   "outputs": [
    {
     "data": {
      "text/plain": [
       "10556"
      ]
     },
     "execution_count": 6,
     "metadata": {},
     "output_type": "execute_result"
    }
   ],
   "source": [
    "# Number of edges for every type\n",
    "conn.getEdgeCount()"
   ]
  },
  {
   "cell_type": "code",
   "execution_count": 7,
   "id": "05b1aabd-9615-4bb1-b134-7859cb3b4a47",
   "metadata": {},
   "outputs": [
    {
     "data": {
      "text/plain": [
       "10556"
      ]
     },
     "execution_count": 7,
     "metadata": {},
     "output_type": "execute_result"
    }
   ],
   "source": [
    "# Number of edges of a specific type\n",
    "conn.getEdgeCount(\"Cite\")"
   ]
  },
  {
   "cell_type": "markdown",
   "id": "524bc0b4-f73e-4e7f-b902-eb5cd91be9a6",
   "metadata": {},
   "source": [
    "## Feature Engineering"
   ]
  },
  {
   "cell_type": "markdown",
   "id": "3007ed55-d6d2-4602-8429-253ac58c6c20",
   "metadata": {},
   "source": [
    "We are adding graph algorithms to the workbench to perform feature engineering tasks. Currently we are experimenting with PageRank and a preview is given below. The interface might change when we roll out the full feature engineering function."
   ]
  },
  {
   "cell_type": "markdown",
   "id": "8e69d12b-a975-47db-aec2-d4fcfcd75f25",
   "metadata": {},
   "source": [
    "### PageRank\n",
    "PageRank is the algorithm that originally ran Google's search engine, where it ranked the most influential webpages higher than less influential ones. A page was determined to be influential through its PageRank score, which is based off the importance of the pages that linked to it. Generalizing this, PageRank finds the most influential vertices in a graph based upon how influential the vertices that have edges to the desired vertex are.\n",
    "\n",
    "The documentation of the PageRank query is found here: https://docs.tigergraph.com/graph-algorithm-library/centrality/pagerank."
   ]
  },
  {
   "cell_type": "code",
   "execution_count": 15,
   "id": "83be6dfb-c2aa-4d67-9840-8ef7ba0aaa7c",
   "metadata": {},
   "outputs": [],
   "source": [
    "from tgml.featurizer import PageRank"
   ]
  },
  {
   "cell_type": "code",
   "execution_count": 16,
   "id": "85e2acc2-40b1-4a48-a5aa-e8b1e5d5cce2",
   "metadata": {},
   "outputs": [],
   "source": [
    "feat = PageRank(tgraph, \n",
    "                result_attr = \"pagerank\", # Name of the attribute that will store results.\n",
    "                timeout = 300000, # Timeout threshold in millisecond when running this algorithm, doesn't apply to the initializations including query installation and schema change.\n",
    "                )"
   ]
  },
  {
   "cell_type": "code",
   "execution_count": 17,
   "id": "f6cc3ad4",
   "metadata": {},
   "outputs": [
    {
     "data": {
      "text/plain": [
       "'PageRank scores saved to attribute pagerank'"
      ]
     },
     "execution_count": 17,
     "metadata": {},
     "output_type": "execute_result"
    }
   ],
   "source": [
    "feat.run(max_change=0.001, max_iter=25, damping=0.85)"
   ]
  }
 ],
 "metadata": {
  "environment": {
   "name": "pytorch-gpu.1-9.m81",
   "type": "gcloud",
   "uri": "gcr.io/deeplearning-platform-release/pytorch-gpu.1-9:m81"
  },
  "kernelspec": {
   "display_name": "Python 3 (TG+PyG)",
   "language": "python",
   "name": "python3"
  },
  "language_info": {
   "codemirror_mode": {
    "name": "ipython",
    "version": 3
   },
   "file_extension": ".py",
   "mimetype": "text/x-python",
   "name": "python",
   "nbconvert_exporter": "python",
   "pygments_lexer": "ipython3",
   "version": "3.9.10"
  }
 },
 "nbformat": 4,
 "nbformat_minor": 5
}
