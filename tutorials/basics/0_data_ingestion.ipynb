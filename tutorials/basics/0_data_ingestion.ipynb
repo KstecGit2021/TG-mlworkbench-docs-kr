{
 "cells": [
  {
   "cell_type": "markdown",
   "id": "300b2d48-024f-4d54-8688-8ac2cf7c10e0",
   "metadata": {},
   "source": [
    "# Data Ingestion"
   ]
  },
  {
   "cell_type": "markdown",
   "id": "122d8f47-a77e-4c70-8bfd-9e1692620ebf",
   "metadata": {},
   "source": [
    "This notebook demostrates how to load the example Cora dataset into your TigerGraph database. The dataset contains 2708 machine learning papers and 10556 citation links between the papers.  Each publication in the dataset is described by a 0/1-valued word vector indicating the absence/presence of the corresponding word from a dictionary. The dictionary consists of 1433 unique words. Each paper is classified into one of seven classes based on the topic. \n",
    "\n",
    "There are many ways to ingest data into a TigerGraph database (see the [official doc](https://docs.tigergraph.com/tigergraph-server/current/data-loading/readme)). Here we will take the command line approach. No python code is needed."
   ]
  },
  {
   "cell_type": "markdown",
   "id": "df1ecc9a-f9b7-4477-9a17-d92e9651efed",
   "metadata": {},
   "source": [
    "1. First you need a running TigerGraph database. See the [docs](https://docs.tigergraph.com/tigergraph-server/current/getting-started/docker) to start a TigerGraph database quickly. [tgcloud.io](https://tgcloud.io/) is not supported by the ML workbench for now, because you need SSH access to the database machine to install a component of the workbench.\n",
    "1. SSH into the database server as a database user. If the database is running in a docker container, SSH into the container. \n",
    "1. On the server terminal, create a folder to store the raw data: `mkdir -p ~/Data/Cora && cd ~/Data/Cora`. \n",
    "1. Download the shell script that ingests data: `wget --no-check-certificate https://tigergraph-public-data.s3.us-west-1.amazonaws.com/Cora/ingest.sh`.\n",
    "1. [Optional] If there is already a graph in your database, you might want to back it up, and then drop everything for a fresh start.\n",
    "1. Run the shell script to ingest data: `bash ingest.sh`, and wait for it to finish.\n",
    "1. To verify that the ingestion is sucessful, open GraphStudio in your browser at `http://<server_ip>:14240/` and select `Cora` for the graph. You should be able to see\n",
    "   - Graph schema and loading results in the `Load Data` section.\n",
    "   - Some randomly picked vertices in the `Explore Graph` section after you click the `Pick vertices` button."
   ]
  }
 ],
 "metadata": {
  "kernelspec": {
   "display_name": "Python 3 (TG+PyG)",
   "language": "python",
   "name": "python3"
  },
  "language_info": {
   "codemirror_mode": {
    "name": "ipython",
    "version": 3
   },
   "file_extension": ".py",
   "mimetype": "text/x-python",
   "name": "python",
   "nbconvert_exporter": "python",
   "pygments_lexer": "ipython3",
   "version": "3.9.7"
  }
 },
 "nbformat": 4,
 "nbformat_minor": 5
}
