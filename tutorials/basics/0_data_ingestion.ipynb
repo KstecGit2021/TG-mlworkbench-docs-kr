{
 "cells": [
  {
   "cell_type": "markdown",
   "id": "300b2d48-024f-4d54-8688-8ac2cf7c10e0",
   "metadata": {},
   "source": [
    "# Data Ingestion"
   ]
  },
  {
   "cell_type": "markdown",
   "id": "122d8f47-a77e-4c70-8bfd-9e1692620ebf",
   "metadata": {},
   "source": [
    "This notebook demostrates how to load three example datasets into your TigerGraph database. \n",
    "\n",
    "The Cora dataset contains 2708 machine learning papers and 10556 citation links between the papers.  Each publication in the dataset is described by a 0/1-valued word vector indicating the absence/presence of the corresponding word from a dictionary. The dictionary consists of 1433 unique words. Each paper is classified into one of seven classes based on the topic. \n",
    "\n",
    "The IMDB dataset contains 3 types of vertices: 4278 movies, 5257 actors, and 2081 directors; and 4 types of edges: 12828 actor to movie edges, 12828 movie to actor edges, 4278 director to movie edges, and 4278 movie to director edges. Each vertex is described by a 0/1-valued word vector indicating the absence/presence of the corresponding keywords. For movies, the keywords are extracted from their plots; and for actors and directors, the keywords are extracted from the plots of movies they participated. Each movie is classified into one of three classes, action, comedy, and drama according to their genre. The goal is to predict the class of each movie in the graph.\n",
    "\n",
    "The hetero dataset contains a synthetic heterogenous graph, which is small and for illustration purposes."
   ]
  },
  {
   "cell_type": "markdown",
   "id": "df1ecc9a-f9b7-4477-9a17-d92e9651efed",
   "metadata": {},
   "source": [
    "We will be using `requests` to download the data. Your `TigerGraphConnection` object will need to be modified in order to connect to your own database instance. Check the documentation [here](https://docs.tigergraph.com/pytigergraph/current/getting-started/connection) for more details."
   ]
  },
  {
   "cell_type": "code",
   "execution_count": 3,
   "id": "ac8dc0be",
   "metadata": {},
   "outputs": [],
   "source": [
    "import pyTigerGraph as tg\n",
    "\n",
    "\n",
    "# Set tgCloud to False if you are not using TigerGraph Cloud\n",
    "conn = tg.TigerGraphConnection(host=\"https://f2e46e9727494dc4aa8b83c96df804d5.i.tgcloud.io\", tgCloud=True)"
   ]
  },
  {
   "cell_type": "code",
   "execution_count": 4,
   "id": "078df6cd",
   "metadata": {},
   "outputs": [
    {
     "data": {
      "text/plain": [
       "'---- Global vertices, edges, and all graphs\\nVertex Types:\\nEdge Types:\\n\\nGraphs:\\nJobs:\\n\\n\\nJSON API version: v2\\nSyntax version: v2\\n'"
      ]
     },
     "execution_count": 4,
     "metadata": {},
     "output_type": "execute_result"
    }
   ],
   "source": [
    "conn.gsql(\"LS\")"
   ]
  },
  {
   "cell_type": "markdown",
   "id": "e4ac461b",
   "metadata": {},
   "source": [
    "# Cora Dataset"
   ]
  },
  {
   "cell_type": "code",
   "execution_count": 10,
   "id": "f8e99a73",
   "metadata": {},
   "outputs": [],
   "source": [
    "import requests"
   ]
  },
  {
   "cell_type": "code",
   "execution_count": 7,
   "id": "ee4aba67",
   "metadata": {},
   "outputs": [
    {
     "name": "stdout",
     "output_type": "stream",
     "text": [
      "Successfully created vertex types: [Paper].\n",
      "Successfully created edge types: [Cite].\n",
      "The graph Cora is created.\n"
     ]
    }
   ],
   "source": [
    "print(conn.gsql(open(\"./data/cora/gsql/schema.gsql\", \"r\").read()))"
   ]
  },
  {
   "cell_type": "code",
   "execution_count": 8,
   "id": "2a458b1e",
   "metadata": {},
   "outputs": [
    {
     "name": "stdout",
     "output_type": "stream",
     "text": [
      "Using graph 'Cora'\n",
      "Successfully created loading jobs: [load_cora_data].\n"
     ]
    }
   ],
   "source": [
    "print(conn.gsql(open(\"./data/cora/gsql/load.gsql\", \"r\").read()))"
   ]
  },
  {
   "cell_type": "code",
   "execution_count": 11,
   "id": "283875d2",
   "metadata": {},
   "outputs": [],
   "source": [
    "with open(\"./data/cora/nodes.csv\", \"w\") as f:\n",
    "    data = requests.get(\"https://tigergraph-public-data.s3.us-west-1.amazonaws.com/Cora/nodes.csv\").text\n",
    "    f.write(data)\n",
    "\n",
    "with open(\"./data/cora/edges.csv\", \"w\") as f:\n",
    "    data = requests.get(\"https://tigergraph-public-data.s3.us-west-1.amazonaws.com/Cora/edges.csv\").text\n",
    "    f.write(data)"
   ]
  },
  {
   "cell_type": "code",
   "execution_count": 12,
   "id": "e869935a",
   "metadata": {},
   "outputs": [],
   "source": [
    "conn.graphname = \"Cora\""
   ]
  },
  {
   "cell_type": "code",
   "execution_count": 13,
   "id": "4126d876",
   "metadata": {},
   "outputs": [
    {
     "data": {
      "text/plain": [
       "('7s1vkj05qa5tt12d7vnh3s2q7hibpgv5', 1659124401, '2022-07-29 19:53:21')"
      ]
     },
     "execution_count": 13,
     "metadata": {},
     "output_type": "execute_result"
    }
   ],
   "source": [
    "# Optional if you are using a graph that requires authentication\n",
    "\n",
    "conn.getToken(conn.createSecret())"
   ]
  },
  {
   "cell_type": "code",
   "execution_count": 14,
   "id": "6796ed8c",
   "metadata": {},
   "outputs": [
    {
     "data": {
      "text/plain": [
       "[{'sourceFileName': 'Online_POST',\n",
       "  'statistics': {'validLine': 2709,\n",
       "   'rejectLine': 0,\n",
       "   'failedConditionLine': 0,\n",
       "   'notEnoughToken': 0,\n",
       "   'invalidJson': 0,\n",
       "   'oversizeToken': 0,\n",
       "   'vertex': [{'typeName': 'Paper',\n",
       "     'validObject': 2708,\n",
       "     'noIdFound': 0,\n",
       "     'invalidAttribute': 1,\n",
       "     'invalidAttributeLines': ['1:id'],\n",
       "     'invalidAttributeLinesData': ['id,x,y,train,valid,test\\n'],\n",
       "     'invalidVertexType': 0,\n",
       "     'invalidPrimaryId': 1,\n",
       "     'invalidSecondaryId': 0,\n",
       "     'incorrectFixedBinaryLength': 0}],\n",
       "   'edge': [],\n",
       "   'deleteVertex': [],\n",
       "   'deleteEdge': []}}]"
      ]
     },
     "execution_count": 14,
     "metadata": {},
     "output_type": "execute_result"
    }
   ],
   "source": [
    "conn.runLoadingJobWithFile(\"./data/cora/nodes.csv\", \"node_csv\", \"load_cora_data\")"
   ]
  },
  {
   "cell_type": "code",
   "execution_count": 15,
   "id": "81b61a84",
   "metadata": {},
   "outputs": [
    {
     "data": {
      "text/plain": [
       "[{'sourceFileName': 'Online_POST',\n",
       "  'statistics': {'validLine': 10557,\n",
       "   'rejectLine': 0,\n",
       "   'failedConditionLine': 0,\n",
       "   'notEnoughToken': 0,\n",
       "   'invalidJson': 0,\n",
       "   'oversizeToken': 0,\n",
       "   'vertex': [],\n",
       "   'edge': [{'typeName': 'Cite',\n",
       "     'validObject': 10557,\n",
       "     'noIdFound': 0,\n",
       "     'invalidAttribute': 0,\n",
       "     'invalidVertexType': 0,\n",
       "     'invalidPrimaryId': 2,\n",
       "     'invalidSecondaryId': 0,\n",
       "     'incorrectFixedBinaryLength': 0}],\n",
       "   'deleteVertex': [],\n",
       "   'deleteEdge': []}}]"
      ]
     },
     "execution_count": 15,
     "metadata": {},
     "output_type": "execute_result"
    }
   ],
   "source": [
    "conn.runLoadingJobWithFile(\"./data/cora/edges.csv\", \"edge_csv\", \"load_cora_data\")"
   ]
  },
  {
   "cell_type": "markdown",
   "id": "05e3e854",
   "metadata": {},
   "source": [
    "# IMDB Dataset"
   ]
  },
  {
   "cell_type": "code",
   "execution_count": 17,
   "id": "2da48291",
   "metadata": {},
   "outputs": [
    {
     "name": "stdout",
     "output_type": "stream",
     "text": [
      "Successfully created vertex types: [movie].\n",
      "Successfully created vertex types: [actor].\n",
      "Successfully created vertex types: [director].\n",
      "Successfully created edge types: [actor_movie].\n",
      "Successfully created edge types: [director_movie].\n",
      "Successfully created edge types: [movie_actor].\n",
      "Successfully created edge types: [movie_director].\n",
      "The graph imdb is created.\n"
     ]
    }
   ],
   "source": [
    "print(conn.gsql(open(\"./data/imdb/gsql/schema.gsql\", \"r\").read()))"
   ]
  },
  {
   "cell_type": "code",
   "execution_count": 20,
   "id": "7d234dcd",
   "metadata": {},
   "outputs": [
    {
     "name": "stdout",
     "output_type": "stream",
     "text": [
      "Successfully created loading jobs: [load_imdb_data].\n"
     ]
    }
   ],
   "source": [
    "print(conn.gsql(open(\"./data/imdb/gsql/load.gsql\", \"r\").read()))"
   ]
  },
  {
   "cell_type": "code",
   "execution_count": 19,
   "id": "6b92b96a",
   "metadata": {},
   "outputs": [],
   "source": [
    "urls = [\"https://tigergraph-public-data.s3.us-west-1.amazonaws.com/imdb/actor_movie.csv\",\n",
    "\"https://tigergraph-public-data.s3.us-west-1.amazonaws.com/imdb/actor.csv\",\n",
    "\"https://tigergraph-public-data.s3.us-west-1.amazonaws.com/imdb/director_movie.csv\",\n",
    "\"https://tigergraph-public-data.s3.us-west-1.amazonaws.com/imdb/director.csv\",\n",
    "\"https://tigergraph-public-data.s3.us-west-1.amazonaws.com/imdb/movie_actor.csv\",\n",
    "\"https://tigergraph-public-data.s3.us-west-1.amazonaws.com/imdb/movie_director.csv\",\n",
    "\"https://tigergraph-public-data.s3.us-west-1.amazonaws.com/imdb/movie.csv\"]\n",
    "\n",
    "for url in urls:\n",
    "    with open(\"./data/imdb/\"+url.split(\"/\")[-1], \"w\") as f:\n",
    "        data = requests.get(url).text\n",
    "        f.write(data)"
   ]
  },
  {
   "cell_type": "code",
   "execution_count": 22,
   "id": "6efa51f2",
   "metadata": {},
   "outputs": [],
   "source": [
    "conn.graphname = \"imdb\""
   ]
  },
  {
   "cell_type": "code",
   "execution_count": 25,
   "id": "c964de10",
   "metadata": {},
   "outputs": [
    {
     "data": {
      "text/plain": [
       "('97q2pbgap386ccqseokqrbt16ahi6jqs', 1659126891, '2022-07-29 20:34:51')"
      ]
     },
     "execution_count": 25,
     "metadata": {},
     "output_type": "execute_result"
    }
   ],
   "source": [
    "# Optional if you are using a graph that requires authentication\n",
    "\n",
    "conn.getToken(conn.createSecret())"
   ]
  },
  {
   "cell_type": "code",
   "execution_count": 26,
   "id": "3a3a7a64",
   "metadata": {},
   "outputs": [
    {
     "data": {
      "text/plain": [
       "[{'sourceFileName': 'Online_POST',\n",
       "  'statistics': {'validLine': 2082,\n",
       "   'rejectLine': 0,\n",
       "   'failedConditionLine': 0,\n",
       "   'notEnoughToken': 0,\n",
       "   'invalidJson': 0,\n",
       "   'oversizeToken': 0,\n",
       "   'vertex': [{'typeName': 'director',\n",
       "     'validObject': 2081,\n",
       "     'noIdFound': 0,\n",
       "     'invalidAttribute': 1,\n",
       "     'invalidAttributeLines': ['1:id'],\n",
       "     'invalidAttributeLinesData': ['x,id\\n'],\n",
       "     'invalidVertexType': 0,\n",
       "     'invalidPrimaryId': 1,\n",
       "     'invalidSecondaryId': 0,\n",
       "     'incorrectFixedBinaryLength': 0}],\n",
       "   'edge': [],\n",
       "   'deleteVertex': [],\n",
       "   'deleteEdge': []}}]"
      ]
     },
     "execution_count": 26,
     "metadata": {},
     "output_type": "execute_result"
    }
   ],
   "source": [
    "conn.runLoadingJobWithFile(\"./data/imdb/director.csv\", \"director_csv\", \"load_imdb_data\")"
   ]
  },
  {
   "cell_type": "code",
   "execution_count": 27,
   "id": "1ab04ed9",
   "metadata": {},
   "outputs": [
    {
     "data": {
      "text/plain": [
       "[{'sourceFileName': 'Online_POST',\n",
       "  'statistics': {'validLine': 5258,\n",
       "   'rejectLine': 0,\n",
       "   'failedConditionLine': 0,\n",
       "   'notEnoughToken': 0,\n",
       "   'invalidJson': 0,\n",
       "   'oversizeToken': 0,\n",
       "   'vertex': [{'typeName': 'actor',\n",
       "     'validObject': 5257,\n",
       "     'noIdFound': 0,\n",
       "     'invalidAttribute': 1,\n",
       "     'invalidAttributeLines': ['1:id'],\n",
       "     'invalidAttributeLinesData': ['x,id\\n'],\n",
       "     'invalidVertexType': 0,\n",
       "     'invalidPrimaryId': 1,\n",
       "     'invalidSecondaryId': 0,\n",
       "     'incorrectFixedBinaryLength': 0}],\n",
       "   'edge': [],\n",
       "   'deleteVertex': [],\n",
       "   'deleteEdge': []}}]"
      ]
     },
     "execution_count": 27,
     "metadata": {},
     "output_type": "execute_result"
    }
   ],
   "source": [
    "conn.runLoadingJobWithFile(\"./data/imdb/actor.csv\", \"actor_csv\", \"load_imdb_data\")"
   ]
  },
  {
   "cell_type": "code",
   "execution_count": 28,
   "id": "294e01df",
   "metadata": {},
   "outputs": [
    {
     "data": {
      "text/plain": [
       "[{'sourceFileName': 'Online_POST',\n",
       "  'statistics': {'validLine': 4279,\n",
       "   'rejectLine': 0,\n",
       "   'failedConditionLine': 0,\n",
       "   'notEnoughToken': 0,\n",
       "   'invalidJson': 0,\n",
       "   'oversizeToken': 0,\n",
       "   'vertex': [{'typeName': 'movie',\n",
       "     'validObject': 4278,\n",
       "     'noIdFound': 0,\n",
       "     'invalidAttribute': 1,\n",
       "     'invalidAttributeLines': ['1:id'],\n",
       "     'invalidAttributeLinesData': ['x,id,y,train_mask,val_mask,test_mask\\n'],\n",
       "     'invalidVertexType': 0,\n",
       "     'invalidPrimaryId': 1,\n",
       "     'invalidSecondaryId': 0,\n",
       "     'incorrectFixedBinaryLength': 0}],\n",
       "   'edge': [],\n",
       "   'deleteVertex': [],\n",
       "   'deleteEdge': []}}]"
      ]
     },
     "execution_count": 28,
     "metadata": {},
     "output_type": "execute_result"
    }
   ],
   "source": [
    "conn.runLoadingJobWithFile(\"./data/imdb/movie.csv\", \"movie_csv\", \"load_imdb_data\")"
   ]
  },
  {
   "cell_type": "code",
   "execution_count": 29,
   "id": "fbbda276",
   "metadata": {},
   "outputs": [
    {
     "data": {
      "text/plain": [
       "[{'sourceFileName': 'Online_POST',\n",
       "  'statistics': {'validLine': 12829,\n",
       "   'rejectLine': 0,\n",
       "   'failedConditionLine': 0,\n",
       "   'notEnoughToken': 0,\n",
       "   'invalidJson': 0,\n",
       "   'oversizeToken': 0,\n",
       "   'vertex': [],\n",
       "   'edge': [{'typeName': 'actor_movie',\n",
       "     'validObject': 12829,\n",
       "     'noIdFound': 0,\n",
       "     'invalidAttribute': 0,\n",
       "     'invalidVertexType': 0,\n",
       "     'invalidPrimaryId': 2,\n",
       "     'invalidSecondaryId': 0,\n",
       "     'incorrectFixedBinaryLength': 0}],\n",
       "   'deleteVertex': [],\n",
       "   'deleteEdge': []}}]"
      ]
     },
     "execution_count": 29,
     "metadata": {},
     "output_type": "execute_result"
    }
   ],
   "source": [
    "conn.runLoadingJobWithFile(\"./data/imdb/actor_movie.csv\", \"actor_movie_csv\", \"load_imdb_data\")"
   ]
  },
  {
   "cell_type": "code",
   "execution_count": 30,
   "id": "a20e6396",
   "metadata": {},
   "outputs": [
    {
     "data": {
      "text/plain": [
       "[{'sourceFileName': 'Online_POST',\n",
       "  'statistics': {'validLine': 4279,\n",
       "   'rejectLine': 0,\n",
       "   'failedConditionLine': 0,\n",
       "   'notEnoughToken': 0,\n",
       "   'invalidJson': 0,\n",
       "   'oversizeToken': 0,\n",
       "   'vertex': [],\n",
       "   'edge': [{'typeName': 'director_movie',\n",
       "     'validObject': 4279,\n",
       "     'noIdFound': 0,\n",
       "     'invalidAttribute': 0,\n",
       "     'invalidVertexType': 0,\n",
       "     'invalidPrimaryId': 2,\n",
       "     'invalidSecondaryId': 0,\n",
       "     'incorrectFixedBinaryLength': 0}],\n",
       "   'deleteVertex': [],\n",
       "   'deleteEdge': []}}]"
      ]
     },
     "execution_count": 30,
     "metadata": {},
     "output_type": "execute_result"
    }
   ],
   "source": [
    "conn.runLoadingJobWithFile(\"./data/imdb/director_movie.csv\", \"director_movie_csv\", \"load_imdb_data\")"
   ]
  },
  {
   "cell_type": "code",
   "execution_count": 31,
   "id": "d48f253c",
   "metadata": {},
   "outputs": [
    {
     "data": {
      "text/plain": [
       "[{'sourceFileName': 'Online_POST',\n",
       "  'statistics': {'validLine': 12829,\n",
       "   'rejectLine': 0,\n",
       "   'failedConditionLine': 0,\n",
       "   'notEnoughToken': 0,\n",
       "   'invalidJson': 0,\n",
       "   'oversizeToken': 0,\n",
       "   'vertex': [],\n",
       "   'edge': [{'typeName': 'movie_actor',\n",
       "     'validObject': 12829,\n",
       "     'noIdFound': 0,\n",
       "     'invalidAttribute': 0,\n",
       "     'invalidVertexType': 0,\n",
       "     'invalidPrimaryId': 2,\n",
       "     'invalidSecondaryId': 0,\n",
       "     'incorrectFixedBinaryLength': 0}],\n",
       "   'deleteVertex': [],\n",
       "   'deleteEdge': []}}]"
      ]
     },
     "execution_count": 31,
     "metadata": {},
     "output_type": "execute_result"
    }
   ],
   "source": [
    "conn.runLoadingJobWithFile(\"./data/imdb/movie_actor.csv\", \"movie_actor_csv\", \"load_imdb_data\")"
   ]
  },
  {
   "cell_type": "code",
   "execution_count": 33,
   "id": "1b037c9b",
   "metadata": {},
   "outputs": [
    {
     "data": {
      "text/plain": [
       "[{'sourceFileName': 'Online_POST',\n",
       "  'statistics': {'validLine': 4279,\n",
       "   'rejectLine': 0,\n",
       "   'failedConditionLine': 0,\n",
       "   'notEnoughToken': 0,\n",
       "   'invalidJson': 0,\n",
       "   'oversizeToken': 0,\n",
       "   'vertex': [],\n",
       "   'edge': [{'typeName': 'movie_director',\n",
       "     'validObject': 4279,\n",
       "     'noIdFound': 0,\n",
       "     'invalidAttribute': 0,\n",
       "     'invalidVertexType': 0,\n",
       "     'invalidPrimaryId': 2,\n",
       "     'invalidSecondaryId': 0,\n",
       "     'incorrectFixedBinaryLength': 0}],\n",
       "   'deleteVertex': [],\n",
       "   'deleteEdge': []}}]"
      ]
     },
     "execution_count": 33,
     "metadata": {},
     "output_type": "execute_result"
    }
   ],
   "source": [
    "conn.runLoadingJobWithFile(\"./data/imdb/movie_director.csv\", \"movie_director_csv\", \"load_imdb_data\")"
   ]
  },
  {
   "cell_type": "markdown",
   "id": "1f81117f",
   "metadata": {},
   "source": [
    "# Heterogenous Graph Example"
   ]
  },
  {
   "cell_type": "code",
   "execution_count": 35,
   "id": "464292f5",
   "metadata": {},
   "outputs": [
    {
     "data": {
      "text/plain": [
       "'Successfully created vertex types: [v0].\\nSuccessfully created vertex types: [v1].\\nSuccessfully created vertex types: [v2].\\nSuccessfully created edge types: [v0v0].\\nSuccessfully created edge types: [v1v1].\\nSuccessfully created edge types: [v1v2].\\nSuccessfully created edge types: [v2v0].\\nSuccessfully created edge types: [v2v1].\\nSuccessfully created edge types: [v2v2].\\nThe graph hetero is created.'"
      ]
     },
     "execution_count": 35,
     "metadata": {},
     "output_type": "execute_result"
    }
   ],
   "source": [
    "conn.gsql(open(\"./data/heterogenous/gsql/schema.gsql\", \"r\").read())"
   ]
  },
  {
   "cell_type": "code",
   "execution_count": 36,
   "id": "fb80d192",
   "metadata": {},
   "outputs": [
    {
     "data": {
      "text/plain": [
       "('jk2v7h5g41tho7p58j54h24cdjumh023', 1659127973, '2022-07-29 20:52:53')"
      ]
     },
     "execution_count": 36,
     "metadata": {},
     "output_type": "execute_result"
    }
   ],
   "source": [
    "conn.graphname = \"hetero\"\n",
    "conn.getToken(conn.createSecret())"
   ]
  },
  {
   "cell_type": "code",
   "execution_count": 38,
   "id": "b77bdf7e",
   "metadata": {},
   "outputs": [],
   "source": [
    "urls = [\"https://tigergraph-public-data.s3.us-west-1.amazonaws.com/fake-hetero/v0.csv\",\n",
    "\"https://tigergraph-public-data.s3.us-west-1.amazonaws.com/fake-hetero/v1.csv\",\n",
    "\"https://tigergraph-public-data.s3.us-west-1.amazonaws.com/fake-hetero/v2.csv\",\n",
    "\"https://tigergraph-public-data.s3.us-west-1.amazonaws.com/fake-hetero/v0v0.csv\",\n",
    "\"https://tigergraph-public-data.s3.us-west-1.amazonaws.com/fake-hetero/v1v1.csv\",\n",
    "\"https://tigergraph-public-data.s3.us-west-1.amazonaws.com/fake-hetero/v1v2.csv\",\n",
    "\"https://tigergraph-public-data.s3.us-west-1.amazonaws.com/fake-hetero/v2v0.csv\",\n",
    "\"https://tigergraph-public-data.s3.us-west-1.amazonaws.com/fake-hetero/v2v1.csv\",\n",
    "\"https://tigergraph-public-data.s3.us-west-1.amazonaws.com/fake-hetero/v2v2.csv\"]\n",
    "\n",
    "for url in urls:\n",
    "    with open(\"./data/heterogenous/\"+url.split(\"/\")[-1], \"w\") as f:\n",
    "        data = requests.get(url).text\n",
    "        f.write(data)"
   ]
  },
  {
   "cell_type": "code",
   "execution_count": 39,
   "id": "55e93c05",
   "metadata": {},
   "outputs": [
    {
     "data": {
      "text/plain": [
       "\"Using graph 'hetero'\\nSuccessfully created loading jobs: [load_hetero_data].\""
      ]
     },
     "execution_count": 39,
     "metadata": {},
     "output_type": "execute_result"
    }
   ],
   "source": [
    "conn.gsql(open(\"./data/heterogenous/gsql/load.gsql\", \"r\").read())"
   ]
  },
  {
   "cell_type": "code",
   "execution_count": 40,
   "id": "5bcabb40",
   "metadata": {},
   "outputs": [
    {
     "data": {
      "text/plain": [
       "[{'sourceFileName': 'Online_POST',\n",
       "  'statistics': {'validLine': 967,\n",
       "   'rejectLine': 0,\n",
       "   'failedConditionLine': 0,\n",
       "   'notEnoughToken': 0,\n",
       "   'invalidJson': 0,\n",
       "   'oversizeToken': 0,\n",
       "   'vertex': [],\n",
       "   'edge': [{'typeName': 'v2v2',\n",
       "     'validObject': 967,\n",
       "     'noIdFound': 0,\n",
       "     'invalidAttribute': 0,\n",
       "     'invalidVertexType': 0,\n",
       "     'invalidPrimaryId': 2,\n",
       "     'invalidSecondaryId': 0,\n",
       "     'incorrectFixedBinaryLength': 0}],\n",
       "   'deleteVertex': [],\n",
       "   'deleteEdge': []}}]"
      ]
     },
     "execution_count": 40,
     "metadata": {},
     "output_type": "execute_result"
    }
   ],
   "source": [
    "conn.runLoadingJobWithFile(\"./data/heterogenous/v0.csv\", \"v0_csv\", \"load_hetero_data\")\n",
    "conn.runLoadingJobWithFile(\"./data/heterogenous/v1.csv\", \"v1_csv\", \"load_hetero_data\")\n",
    "conn.runLoadingJobWithFile(\"./data/heterogenous/v2.csv\", \"v2_csv\", \"load_hetero_data\")\n",
    "conn.runLoadingJobWithFile(\"./data/heterogenous/v0v0.csv\", \"v0v0_csv\", \"load_hetero_data\")\n",
    "conn.runLoadingJobWithFile(\"./data/heterogenous/v1v1.csv\", \"v1v1_csv\", \"load_hetero_data\")\n",
    "conn.runLoadingJobWithFile(\"./data/heterogenous/v1v2.csv\", \"v1v2_csv\", \"load_hetero_data\")\n",
    "conn.runLoadingJobWithFile(\"./data/heterogenous/v2v0.csv\", \"v2v0_csv\", \"load_hetero_data\")\n",
    "conn.runLoadingJobWithFile(\"./data/heterogenous/v2v1.csv\", \"v2v1_csv\", \"load_hetero_data\")\n",
    "conn.runLoadingJobWithFile(\"./data/heterogenous/v2v2.csv\", \"v2v2_csv\", \"load_hetero_data\")"
   ]
  },
  {
   "cell_type": "code",
   "execution_count": null,
   "id": "f6c8f106",
   "metadata": {},
   "outputs": [],
   "source": []
  }
 ],
 "metadata": {
  "kernelspec": {
   "display_name": "Python 3.9.12 ('kdd2022')",
   "language": "python",
   "name": "python3"
  },
  "language_info": {
   "codemirror_mode": {
    "name": "ipython",
    "version": 3
   },
   "file_extension": ".py",
   "mimetype": "text/x-python",
   "name": "python",
   "nbconvert_exporter": "python",
   "pygments_lexer": "ipython3",
   "version": "3.9.12"
  },
  "vscode": {
   "interpreter": {
    "hash": "58e1c476a485e41cfbe41589baaac1849e255b67efca409760b0ec34d7f4c191"
   }
  }
 },
 "nbformat": 4,
 "nbformat_minor": 5
}
