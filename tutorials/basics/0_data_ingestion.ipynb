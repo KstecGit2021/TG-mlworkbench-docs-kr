{
 "cells": [
  {
   "cell_type": "markdown",
   "id": "300b2d48-024f-4d54-8688-8ac2cf7c10e0",
   "metadata": {},
   "source": [
    "# Data Ingestion"
   ]
  },
  {
   "cell_type": "markdown",
   "id": "122d8f47-a77e-4c70-8bfd-9e1692620ebf",
   "metadata": {},
   "source": [
    "This notebook demostrates how to load three example datasets into your TigerGraph database. \n",
    "\n",
    "The Cora dataset contains 2708 machine learning papers and 10556 citation links between the papers.  Each publication in the dataset is described by a 0/1-valued word vector indicating the absence/presence of the corresponding word from a dictionary. The dictionary consists of 1433 unique words. Each paper is classified into one of seven classes based on the topic. \n",
    "\n",
    "The IMDB dataset contains 3 types of vertices: 4278 movies, 5257 actors, and 2081 directors; and 4 types of edges: 12828 actor to movie edges, 12828 movie to actor edges, 4278 director to movie edges, and 4278 movie to director edges. Each vertex is described by a 0/1-valued word vector indicating the absence/presence of the corresponding keywords. For movies, the keywords are extracted from their plots; and for actors and directors, the keywords are extracted from the plots of movies they participated. Each movie is classified into one of three classes, action, comedy, and drama according to their genre. The goal is to predict the class of each movie in the graph.\n",
    "\n",
    "The hetero dataset contains a synthetic heterogenous graph, which is small and for illustration purposes."
   ]
  },
  {
   "cell_type": "markdown",
   "id": "df1ecc9a-f9b7-4477-9a17-d92e9651efed",
   "metadata": {},
   "source": [
    "We will be using `requests` to download the data. Your `TigerGraphConnection` object will need to be modified in order to connect to your own database instance. Check the documentation [here](https://docs.tigergraph.com/pytigergraph/current/getting-started/connection) for more details."
   ]
  },
  {
   "cell_type": "code",
   "execution_count": null,
   "id": "ac8dc0be",
   "metadata": {},
   "outputs": [],
   "source": [
    "import pyTigerGraph as tg\n",
    "\n",
    "\n",
    "# Set tgCloud to False if you are not using TigerGraph Cloud\n",
    "conn = tg.TigerGraphConnection(host=\"https://2af53baeed854f7796dfa06efafe09de.i.tgcloud.io\", tgCloud=True)"
   ]
  },
  {
   "cell_type": "code",
   "execution_count": null,
   "id": "078df6cd",
   "metadata": {},
   "outputs": [],
   "source": [
    "conn.gsql(\"LS\")"
   ]
  },
  {
   "cell_type": "markdown",
   "id": "e4ac461b",
   "metadata": {},
   "source": [
    "# Cora Dataset"
   ]
  },
  {
   "cell_type": "code",
   "execution_count": null,
   "id": "f8e99a73",
   "metadata": {},
   "outputs": [],
   "source": [
    "import requests"
   ]
  },
  {
   "cell_type": "code",
<<<<<<< HEAD
   "execution_count": null,
=======
   "execution_count": 7,
>>>>>>> 704eddb06e79b131db32b9048839160cfb619a65
   "id": "ee4aba67",
   "metadata": {},
   "outputs": [],
   "source": [
    "print(conn.gsql(open(\"./data/cora/gsql/schema.gsql\", \"r\").read()))"
   ]
  },
  {
   "cell_type": "code",
   "execution_count": null,
   "id": "2a458b1e",
   "metadata": {},
   "outputs": [],
   "source": [
    "print(conn.gsql(open(\"./data/cora/gsql/load.gsql\", \"r\").read()))"
   ]
  },
  {
   "cell_type": "code",
   "execution_count": null,
   "id": "283875d2",
   "metadata": {},
   "outputs": [],
   "source": [
    "with open(\"./data/cora/nodes.csv\", \"w\") as f:\n",
    "    data = requests.get(\"https://tigergraph-public-data.s3.us-west-1.amazonaws.com/Cora/nodes.csv\").text\n",
    "    f.write(data)\n",
    "\n",
    "with open(\"./data/cora/edges.csv\", \"w\") as f:\n",
    "    data = requests.get(\"https://tigergraph-public-data.s3.us-west-1.amazonaws.com/Cora/edges.csv\").text\n",
    "    f.write(data)"
   ]
  },
  {
   "cell_type": "code",
   "execution_count": null,
   "id": "e869935a",
   "metadata": {},
   "outputs": [],
   "source": [
    "conn.graphname = \"Cora\""
   ]
  },
  {
   "cell_type": "code",
   "execution_count": null,
   "id": "4126d876",
   "metadata": {},
   "outputs": [],
   "source": [
    "# Optional if you are using a graph that requires authentication\n",
    "\n",
    "conn.getToken(conn.createSecret())"
   ]
  },
  {
   "cell_type": "code",
   "execution_count": null,
   "id": "6796ed8c",
   "metadata": {},
   "outputs": [],
   "source": [
    "conn.runLoadingJobWithFile(\"./data/cora/nodes.csv\", \"node_csv\", \"load_cora_data\")"
   ]
  },
  {
   "cell_type": "code",
   "execution_count": null,
   "id": "81b61a84",
   "metadata": {},
   "outputs": [],
   "source": [
    "conn.runLoadingJobWithFile(\"./data/cora/edges.csv\", \"edge_csv\", \"load_cora_data\")"
   ]
  },
  {
   "cell_type": "markdown",
   "id": "05e3e854",
   "metadata": {},
   "source": [
    "# IMDB Dataset"
   ]
  },
  {
   "cell_type": "code",
   "execution_count": null,
   "id": "2da48291",
   "metadata": {},
   "outputs": [],
   "source": [
    "print(conn.gsql(open(\"./data/imdb/gsql/schema.gsql\", \"r\").read()))"
   ]
  },
  {
   "cell_type": "code",
   "execution_count": null,
   "id": "7d234dcd",
   "metadata": {},
   "outputs": [],
   "source": [
    "print(conn.gsql(open(\"./data/imdb/gsql/load.gsql\", \"r\").read()))"
   ]
  },
  {
   "cell_type": "code",
   "execution_count": null,
   "id": "6b92b96a",
   "metadata": {},
   "outputs": [],
   "source": [
    "urls = [\"https://tigergraph-public-data.s3.us-west-1.amazonaws.com/imdb/actor_movie.csv\",\n",
    "\"https://tigergraph-public-data.s3.us-west-1.amazonaws.com/imdb/actor.csv\",\n",
    "\"https://tigergraph-public-data.s3.us-west-1.amazonaws.com/imdb/director_movie.csv\",\n",
    "\"https://tigergraph-public-data.s3.us-west-1.amazonaws.com/imdb/director.csv\",\n",
    "\"https://tigergraph-public-data.s3.us-west-1.amazonaws.com/imdb/movie_actor.csv\",\n",
    "\"https://tigergraph-public-data.s3.us-west-1.amazonaws.com/imdb/movie_director.csv\",\n",
    "\"https://tigergraph-public-data.s3.us-west-1.amazonaws.com/imdb/movie.csv\"]\n",
    "\n",
    "for url in urls:\n",
    "    with open(\"./data/imdb/\"+url.split(\"/\")[-1], \"w\") as f:\n",
    "        data = requests.get(url).text\n",
    "        f.write(data)"
   ]
  },
  {
   "cell_type": "code",
   "execution_count": null,
   "id": "6efa51f2",
   "metadata": {},
   "outputs": [],
   "source": [
    "conn.graphname = \"imdb\""
   ]
  },
  {
   "cell_type": "code",
   "execution_count": null,
   "id": "c964de10",
   "metadata": {},
   "outputs": [],
   "source": [
    "# Optional if you are using a graph that requires authentication\n",
    "\n",
    "conn.getToken(conn.createSecret())"
   ]
  },
  {
   "cell_type": "code",
   "execution_count": null,
   "id": "3a3a7a64",
   "metadata": {},
   "outputs": [],
   "source": [
    "conn.runLoadingJobWithFile(\"./data/imdb/director.csv\", \"director_csv\", \"load_imdb_data\")"
   ]
  },
  {
   "cell_type": "code",
   "execution_count": null,
   "id": "1ab04ed9",
   "metadata": {},
   "outputs": [],
   "source": [
    "conn.runLoadingJobWithFile(\"./data/imdb/actor.csv\", \"actor_csv\", \"load_imdb_data\")"
   ]
  },
  {
   "cell_type": "code",
   "execution_count": null,
   "id": "294e01df",
   "metadata": {},
   "outputs": [],
   "source": [
    "conn.runLoadingJobWithFile(\"./data/imdb/movie.csv\", \"movie_csv\", \"load_imdb_data\")"
   ]
  },
  {
   "cell_type": "code",
   "execution_count": null,
   "id": "fbbda276",
   "metadata": {},
   "outputs": [],
   "source": [
    "conn.runLoadingJobWithFile(\"./data/imdb/actor_movie.csv\", \"actor_movie_csv\", \"load_imdb_data\")"
   ]
  },
  {
   "cell_type": "code",
   "execution_count": null,
   "id": "a20e6396",
   "metadata": {},
   "outputs": [],
   "source": [
    "conn.runLoadingJobWithFile(\"./data/imdb/director_movie.csv\", \"director_movie_csv\", \"load_imdb_data\")"
   ]
  },
  {
   "cell_type": "code",
   "execution_count": null,
   "id": "d48f253c",
   "metadata": {},
   "outputs": [],
   "source": [
    "conn.runLoadingJobWithFile(\"./data/imdb/movie_actor.csv\", \"movie_actor_csv\", \"load_imdb_data\")"
   ]
  },
  {
   "cell_type": "code",
   "execution_count": null,
   "id": "1b037c9b",
   "metadata": {},
   "outputs": [],
   "source": [
    "conn.runLoadingJobWithFile(\"./data/imdb/movie_director.csv\", \"movie_director_csv\", \"load_imdb_data\")"
   ]
  },
  {
   "cell_type": "markdown",
   "id": "1f81117f",
   "metadata": {},
   "source": [
    "# Heterogenous Graph Example"
   ]
  },
  {
   "cell_type": "code",
   "execution_count": null,
   "id": "464292f5",
   "metadata": {},
   "outputs": [],
   "source": [
    "conn.gsql(open(\"./data/heterogenous/gsql/schema.gsql\", \"r\").read())"
   ]
  },
  {
   "cell_type": "code",
   "execution_count": null,
   "id": "fb80d192",
   "metadata": {},
   "outputs": [],
   "source": [
    "conn.graphname = \"hetero\"\n",
    "conn.getToken(conn.createSecret())"
   ]
  },
  {
   "cell_type": "code",
   "execution_count": null,
   "id": "b77bdf7e",
   "metadata": {},
   "outputs": [],
   "source": [
    "urls = [\"https://tigergraph-public-data.s3.us-west-1.amazonaws.com/fake-hetero/v0.csv\",\n",
    "\"https://tigergraph-public-data.s3.us-west-1.amazonaws.com/fake-hetero/v1.csv\",\n",
    "\"https://tigergraph-public-data.s3.us-west-1.amazonaws.com/fake-hetero/v2.csv\",\n",
    "\"https://tigergraph-public-data.s3.us-west-1.amazonaws.com/fake-hetero/v0v0.csv\",\n",
    "\"https://tigergraph-public-data.s3.us-west-1.amazonaws.com/fake-hetero/v1v1.csv\",\n",
    "\"https://tigergraph-public-data.s3.us-west-1.amazonaws.com/fake-hetero/v1v2.csv\",\n",
    "\"https://tigergraph-public-data.s3.us-west-1.amazonaws.com/fake-hetero/v2v0.csv\",\n",
    "\"https://tigergraph-public-data.s3.us-west-1.amazonaws.com/fake-hetero/v2v1.csv\",\n",
    "\"https://tigergraph-public-data.s3.us-west-1.amazonaws.com/fake-hetero/v2v2.csv\"]\n",
    "\n",
    "for url in urls:\n",
    "    with open(\"./data/heterogenous/\"+url.split(\"/\")[-1], \"w\") as f:\n",
    "        data = requests.get(url).text\n",
    "        f.write(data)"
   ]
  },
  {
   "cell_type": "code",
   "execution_count": null,
   "id": "55e93c05",
   "metadata": {},
   "outputs": [],
   "source": [
    "conn.gsql(open(\"./data/heterogenous/gsql/load.gsql\", \"r\").read())"
   ]
  },
  {
   "cell_type": "code",
   "execution_count": null,
   "id": "5bcabb40",
   "metadata": {},
   "outputs": [],
   "source": [
    "conn.runLoadingJobWithFile(\"./data/heterogenous/v0.csv\", \"v0_csv\", \"load_hetero_data\")\n",
    "conn.runLoadingJobWithFile(\"./data/heterogenous/v1.csv\", \"v1_csv\", \"load_hetero_data\")\n",
    "conn.runLoadingJobWithFile(\"./data/heterogenous/v2.csv\", \"v2_csv\", \"load_hetero_data\")\n",
    "conn.runLoadingJobWithFile(\"./data/heterogenous/v0v0.csv\", \"v0v0_csv\", \"load_hetero_data\")\n",
    "conn.runLoadingJobWithFile(\"./data/heterogenous/v1v1.csv\", \"v1v1_csv\", \"load_hetero_data\")\n",
    "conn.runLoadingJobWithFile(\"./data/heterogenous/v1v2.csv\", \"v1v2_csv\", \"load_hetero_data\")\n",
    "conn.runLoadingJobWithFile(\"./data/heterogenous/v2v0.csv\", \"v2v0_csv\", \"load_hetero_data\")\n",
    "conn.runLoadingJobWithFile(\"./data/heterogenous/v2v1.csv\", \"v2v1_csv\", \"load_hetero_data\")\n",
    "conn.runLoadingJobWithFile(\"./data/heterogenous/v2v2.csv\", \"v2v2_csv\", \"load_hetero_data\")"
   ]
  },
  {
   "cell_type": "code",
   "execution_count": null,
   "id": "f6c8f106",
   "metadata": {},
   "outputs": [],
   "source": []
  }
 ],
 "metadata": {
  "kernelspec": {
   "display_name": "Python 3.9.12 ('kdd2022')",
   "language": "python",
   "name": "python3"
  },
  "language_info": {
   "codemirror_mode": {
    "name": "ipython",
    "version": 3
   },
   "file_extension": ".py",
   "mimetype": "text/x-python",
   "name": "python",
   "nbconvert_exporter": "python",
   "pygments_lexer": "ipython3",
   "version": "3.9.12"
  },
  "vscode": {
   "interpreter": {
    "hash": "58e1c476a485e41cfbe41589baaac1849e255b67efca409760b0ec34d7f4c191"
   }
  }
 },
 "nbformat": 4,
 "nbformat_minor": 5
}
