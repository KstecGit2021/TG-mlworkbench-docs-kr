{
 "cells": [
  {
   "cell_type": "markdown",
   "id": "300b2d48-024f-4d54-8688-8ac2cf7c10e0",
   "metadata": {},
   "source": [
    "# Data Ingestion"
   ]
  },
  {
   "cell_type": "markdown",
   "id": "122d8f47-a77e-4c70-8bfd-9e1692620ebf",
   "metadata": {},
   "source": [
    "This notebook demostrates how to load three example datasets into your TigerGraph database. \n",
    "\n",
    "The Cora dataset contains 2708 machine learning papers and 10556 citation links between the papers.  Each publication in the dataset is described by a 0/1-valued word vector indicating the absence/presence of the corresponding word from a dictionary. The dictionary consists of 1433 unique words. Each paper is classified into one of seven classes based on the topic. \n",
    "\n",
    "The IMDB dataset contains 3 types of vertices: 4278 movies, 5257 actors, and 2081 directors; and 4 types of edges: 12828 actor to movie edges, 12828 movie to actor edges, 4278 director to movie edges, and 4278 movie to director edges. Each vertex is described by a 0/1-valued word vector indicating the absence/presence of the corresponding keywords. For movies, the keywords are extracted from their plots; and for actors and directors, the keywords are extracted from the plots of movies they participated. Each movie is classified into one of three classes, action, comedy, and drama according to their genre. The goal is to predict the class of each movie in the graph.\n",
    "\n",
    "The hetero dataset contains a synthetic heterogenous graph, which is small and for illustration purposes."
   ]
  },
  {
   "cell_type": "markdown",
   "id": "df1ecc9a-f9b7-4477-9a17-d92e9651efed",
   "metadata": {},
   "source": [
    "Your `TigerGraphConnection` object will need to be modified in order to connect to your own database instance. Check the documentation [here](https://docs.tigergraph.com/pytigergraph/current/getting-started/connection) for more details."
   ]
  },
  {
   "cell_type": "code",
   "execution_count": null,
   "id": "ac8dc0be",
   "metadata": {},
   "outputs": [],
   "source": [
    "import pyTigerGraph as tg\n",
    "\n",
    "conn = tg.TigerGraphConnection(\n",
    "    host=\"http://127.0.0.1\",\n",
    "    username=\"tigergraph\",\n",
    "    password=\"tigergraph\"\n",
    ")\n",
    "\n",
    "# UNCOMMENT BELOW IF USING TIGERGRAPH CLOUD INSTANCE PROVISIONED AFTER 7/5/2022- You must have created the Cora graph and created a secret\n",
    "# conn = tg.TigerGraphConnection(\n",
    "#     host=\"YOUR_HOST_HERE\",\n",
    "#     graphname=\"Cora\",\n",
    "#     gsqlSecret=\"YOUR_GSQL_SECRET_HERE\",\n",
    "# )"
   ]
  },
  {
   "cell_type": "code",
   "execution_count": null,
   "id": "078df6cd",
   "metadata": {},
   "outputs": [],
   "source": [
    "print(conn.gsql(\"LS\"))"
   ]
  },
  {
   "cell_type": "markdown",
   "id": "e4ac461b",
   "metadata": {},
   "source": [
    "# Cora Dataset"
   ]
  },
  {
   "cell_type": "code",
   "execution_count": null,
   "id": "ee4aba67",
   "metadata": {},
   "outputs": [],
   "source": [
    "# COMMENT OUT THE LINE BELOW IF USING TIGERGRAPH CLOUD INSTANCE PROVISIONED AFTER 7/5/2022\n",
    "print(conn.gsql(\"CREATE GRAPH Cora()\"))\n",
    "\n",
    "conn.graphname = \"Cora\"\n",
    "# Create and run schema change job\n",
    "print(conn.gsql(open(\"./data/cora/gsql/schema.gsql\", \"r\").read()))\n",
    "\n",
    "# Create loading job\n",
    "print(conn.gsql(open(\"./data/cora/gsql/load.gsql\", \"r\").read()))"
   ]
  },
  {
   "cell_type": "code",
   "execution_count": null,
   "id": "e869935a",
   "metadata": {},
   "outputs": [],
   "source": [
    "# COMMENT OUT THE LINE BELOW if you are NOT using a graph that requires token authentication\n",
    "conn.getToken(conn.createSecret())"
   ]
  },
  {
   "cell_type": "code",
   "execution_count": null,
   "id": "6796ed8c",
   "metadata": {},
   "outputs": [],
   "source": [
    "# Load data\n",
    "conn.runLoadingJobWithFile(\"./data/cora/nodes.csv\", \"node_csv\", \"load_cora_data\")\n",
    "conn.runLoadingJobWithFile(\"./data/cora/edges.csv\", \"edge_csv\", \"load_cora_data\")"
   ]
  },
  {
   "cell_type": "markdown",
   "id": "05e3e854",
   "metadata": {},
   "source": [
    "# IMDB Dataset"
   ]
  },
  {
   "cell_type": "code",
   "execution_count": null,
   "id": "2da48291",
   "metadata": {},
   "outputs": [],
   "source": [
    "# COMMENT OUT THE LINE BELOW IF USING TIGERGRAPH CLOUD INSTANCE PROVISIONED AFTER 7/5/2022\n",
    "print(conn.gsql(\"CREATE GRAPH imdb()\"))\n",
    "\n",
    "# UNCOMMENT BELOW IF USING TIGERGRAPH CLOUD INSTANCE PROVISIONED AFTER 7/5/2022 - You must have created the imdb graph and created a secret\n",
    "# conn = tg.TigerGraphConnection(\n",
    "#     host=\"YOUR_HOST_HERE\",\n",
    "#     graphname=\"imdb\",\n",
    "#     gsqlSecret=\"YOUR_GSQL_SECRET_HERE\",\n",
    "# )\n",
    "\n",
    "conn.graphname = \"imdb\"\n",
    "# Create graph schema\n",
    "print(conn.gsql(open(\"./data/imdb/gsql/schema.gsql\", \"r\").read()))\n",
    "# Create loading job\n",
    "print(conn.gsql(open(\"./data/imdb/gsql/load.gsql\", \"r\").read()))"
   ]
  },
  {
   "cell_type": "code",
   "execution_count": null,
   "id": "6efa51f2",
   "metadata": {},
   "outputs": [],
   "source": [
    "# COMMENT OUT THE LINE BELOW if you are NOT using a graph that requires token authentication\n",
    "conn.getToken(conn.createSecret())"
   ]
  },
  {
   "cell_type": "code",
   "execution_count": null,
   "id": "3a3a7a64",
   "metadata": {},
   "outputs": [],
   "source": [
    "# Load data\n",
    "conn.runLoadingJobWithFile(\"./data/imdb/director.csv\", \"director_csv\", \"load_imdb_data\")\n",
    "conn.runLoadingJobWithFile(\"./data/imdb/actor.csv\", \"actor_csv\", \"load_imdb_data\")\n",
    "conn.runLoadingJobWithFile(\"./data/imdb/movie.csv\", \"movie_csv\", \"load_imdb_data\")\n",
    "conn.runLoadingJobWithFile(\"./data/imdb/actor_movie.csv\", \"actor_movie_csv\", \"load_imdb_data\")\n",
    "conn.runLoadingJobWithFile(\"./data/imdb/director_movie.csv\", \"director_movie_csv\", \"load_imdb_data\")\n",
    "conn.runLoadingJobWithFile(\"./data/imdb/movie_actor.csv\", \"movie_actor_csv\", \"load_imdb_data\")\n",
    "conn.runLoadingJobWithFile(\"./data/imdb/movie_director.csv\", \"movie_director_csv\", \"load_imdb_data\")"
   ]
  },
  {
   "cell_type": "markdown",
   "id": "1f81117f",
   "metadata": {},
   "source": [
    "# Heterogenous Graph Example"
   ]
  },
  {
   "cell_type": "code",
   "execution_count": null,
   "id": "464292f5",
   "metadata": {},
   "outputs": [],
   "source": [
    "# COMMENT OUT THE LINE BELOW IF USING TIGERGRAPH CLOUD INSTANCE PROVISIONED AFTER 7/5/2022\n",
    "print(conn.gsql(\"CREATE GRAPH hetero()\"))\n",
    "\n",
    "# UNCOMMENT BELOW IF USING TIGERGRAPH CLOUD INSTANCE PROVISIONED AFTER 7/5/2022 - You must have created the hetero graph and created a secret\n",
    "# conn = tg.TigerGraphConnection(\n",
    "#     host=\"YOUR_HOST_HERE\",\n",
    "#     graphname=\"hetero\",\n",
    "#     gsqlSecret=\"YOUR_GSQL_SECRET_HERE\"\n",
    "# )\n",
    "\n",
    "conn.graphname=\"hetero\"\n",
    "# Create graph schema\n",
    "print(conn.gsql(open(\"./data/heterogenous/gsql/schema.gsql\", \"r\").read()))\n",
    "# Create loading job\n",
    "print(conn.gsql(open(\"./data/heterogenous/gsql/load.gsql\", \"r\").read()))"
   ]
  },
  {
   "cell_type": "code",
   "execution_count": null,
   "id": "fb80d192",
   "metadata": {},
   "outputs": [],
   "source": [
    "# COMMENT OUT THE LINE BELOW if you are NOT using a graph that requires token authentication\n",
    "conn.getToken(conn.createSecret())"
   ]
  },
  {
   "cell_type": "code",
   "execution_count": null,
   "id": "5bcabb40",
   "metadata": {},
   "outputs": [],
   "source": [
    "# Load data\n",
    "conn.runLoadingJobWithFile(\"./data/heterogenous/v0.csv\", \"v0_csv\", \"load_hetero_data\")\n",
    "conn.runLoadingJobWithFile(\"./data/heterogenous/v1.csv\", \"v1_csv\", \"load_hetero_data\")\n",
    "conn.runLoadingJobWithFile(\"./data/heterogenous/v2.csv\", \"v2_csv\", \"load_hetero_data\")\n",
    "conn.runLoadingJobWithFile(\"./data/heterogenous/v0v0.csv\", \"v0v0_csv\", \"load_hetero_data\")\n",
    "conn.runLoadingJobWithFile(\"./data/heterogenous/v1v1.csv\", \"v1v1_csv\", \"load_hetero_data\")\n",
    "conn.runLoadingJobWithFile(\"./data/heterogenous/v1v2.csv\", \"v1v2_csv\", \"load_hetero_data\")\n",
    "conn.runLoadingJobWithFile(\"./data/heterogenous/v2v0.csv\", \"v2v0_csv\", \"load_hetero_data\")\n",
    "conn.runLoadingJobWithFile(\"./data/heterogenous/v2v1.csv\", \"v2v1_csv\", \"load_hetero_data\")\n",
    "conn.runLoadingJobWithFile(\"./data/heterogenous/v2v2.csv\", \"v2v2_csv\", \"load_hetero_data\")"
   ]
  },
  {
   "cell_type": "code",
   "execution_count": null,
   "id": "f6c8f106",
   "metadata": {},
   "outputs": [],
   "source": []
  }
 ],
 "metadata": {
  "kernelspec": {
   "display_name": "TigerGraph Pytorch",
   "language": "python",
   "name": "python3"
  },
  "language_info": {
   "codemirror_mode": {
    "name": "ipython",
    "version": 3
   },
   "file_extension": ".py",
   "mimetype": "text/x-python",
   "name": "python",
   "nbconvert_exporter": "python",
   "pygments_lexer": "ipython3",
   "version": "3.9.13"
  },
  "vscode": {
   "interpreter": {
    "hash": "241cd557769fa998e5389722c5bb2b70caa7297f9b55039907d28a2a4b1662b5"
   }
  }
 },
 "nbformat": 4,
 "nbformat_minor": 5
}
