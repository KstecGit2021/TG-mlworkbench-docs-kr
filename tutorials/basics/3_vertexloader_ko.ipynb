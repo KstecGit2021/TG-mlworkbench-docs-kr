{
 "cells": [
  {
   "cell_type": "markdown",
   "id": "31a41fec-c7f0-4752-b57a-efb428327343",
   "metadata": {
    "tags": []
   },
   "source": [
    "## 데이터 로더(Data Loaders)"
   ]
  },
  {
   "cell_type": "markdown",
   "id": "85d51c63-ed05-43d4-9e02-7d13763b5011",
   "metadata": {},
   "source": [
    "이 노트북은 `pyTigerGraph` 에서 **vertex loader** 의 사용을 보여줍니다. 데이터 로더의 역할은 `TigerGraph` 데이터베이스에서 데이터를 가져오는 것입니다. 현재 다음 데이터 로더가 제공됩니다.\n",
    "\n",
    "* EdgeLoader, 간선의 배치(batch)를 반환합니다.\n",
    "* VertexLoader, 정점의 배치(batch)를 반환합니다.\n",
    "* GraphLoader, 무작위로 샘플링된(연결이 끊긴) 하위 그래프(subgraphs)를 pandas의 `dataframe`, `PyG` 또는 `DGL` 형식으로 반환 합니다.\n",
    "* NeighborLoader, 이웃 샘플링을 사용하여 하위 그래프(subgraphs)를 `dataframe`, `PyG` 또는 `DGL`  형식으로 반환 합니다.\n",
    "* EdgeNeighborLoader, 간선들에서 이웃 샘플링을 사용하여 하위 그래프(subgraphs)를 `dataframe`, `PyG` 또는 `DGL` 형식으로 반환 합니다.\n",
    "\n",
    "위의 모든 데이터 로더는 모든 배치를 HTTP 응답(기본값)으로 가져오거나 Kafka를 통해 모든 배치를 스트리밍할 수 있습니다. 전자의 메커니즘은 작은 그래프로 테스트하기에 좋고 빠르지만 데이터 크기 제한이 2GB입니다. 큰 그래프의 경우 크기 제한 및 네트워크 연결 문제로 인해 HTTP 채널이 실패할 수 있습니다. Kafka를 통한 스트리밍은 데이터 견고성과 확장성을 위해 제공됩니다. 또한 Kafka는 다중 소비자(multi-consumer) 사용 사례에 탁월하며 동일한 데이터의 다중 소비자가 있는 경우 모델 검색 또는 하이퍼파라미터 튜닝에 효율적입니다.\n",
    "\n",
    "데이터 로더는 동종 및 이종 그래프를 모두 지원합니다. 기본적으로 모든 정점 및 간선 유형에서 로드하고 그래프를 동종 그래프로 처리합니다. 그러나 사용자가 로드할 정점 및 간선 유형과 각 유형에서 로드할 속성을 지정할 수도 있습니다. 이 방법으로 사용자는 이기종 그래프 출력을 얻을 수 있습니다.\n",
    "\n",
    "**NOTE**: 현재 ML Workbench에서 제공하는 모든 기능을 사용하려면 데이터베이스를 한 번만 활성화(activage)해야 합니다. ML Workbench on Cloud를 사용하는 경우 activator가 포함되며 아래 셀을 실행(먼저 주석 해제)하여 활성화(activage)할 수 있습니다. 다른 버전의 Workbench의 경우 https://act.tigergraphlabs.com 에서 활성기(activator)를 다운로드할 수 있습니다. 자세한 지침은 해당 웹사이트에도 포함되어 있습니다.\n"
   ]
  },
  {
   "cell_type": "code",
   "execution_count": null,
   "id": "3f71164c",
   "metadata": {},
   "outputs": [],
   "source": [
    "# 아래 주석을 제거하고 필요한 정보를 입력하십시오. 자세한 지침은 https://act.tigergraphlabs.com을 참조하십시오.\n",
    "# !mlwb activate [database address] -u [username] -p [password] -s [secret]"
   ]
  },
  {
   "cell_type": "markdown",
   "id": "ee9243a4-69ae-4a04-ab82-dc6d393e0cb7",
   "metadata": {},
   "source": [
    "### 데이터베이스 연결 "
   ]
  },
  {
   "cell_type": "markdown",
   "id": "9ff08e15-5d93-4f30-8a9d-6b101b1604e4",
   "metadata": {},
   "source": [
    "이 `TigerGraphConnection` 클래스는 TigerGraph 데이터베이스에 대한 연결을 나타냅니다. 후드 아래에는 데이터베이스와 통신하는 데 필요한 정보가 저장됩니다. 꽤 많은 데이터베이스 작업을 수행할 수 있습니다. 자세한 내용은 해당 [문서](https://docs.tigergraph.com/pytigergraph/current/intro/) 를 참조하십시오.\n",
    "\n",
    "**Note**: 2022년 7월 5일 이후에 생성된 TG 클라우드 DB는 사용자 username/password 대신 Secret가 필요합니다. 그렇지 않으면 비워 둘 수 있습니다."
   ]
  },
  {
   "cell_type": "code",
   "execution_count": 1,
   "id": "b94e2237-5050-4c58-91de-c86b804d19f6",
   "metadata": {},
   "outputs": [],
   "source": [
    "from pyTigerGraph import TigerGraphConnection"
   ]
  },
  {
   "cell_type": "code",
   "execution_count": 2,
   "id": "c2c4b1e8-a0e2-4026-9bb1-218cdc7ca4b9",
   "metadata": {},
   "outputs": [],
   "source": [
    "conn = TigerGraphConnection(\n",
    "    host=\"http://127.0.0.1\", # 데이터베이스 서버의 주소로 변경\n",
    "    graphname=\"Cora\",\n",
    "    username=\"tigergraph\",\n",
    "    password=\"tigergraph\",\n",
    "    gsqlSecret=\"\" # 2022년 7월 5일 이후에 생성된 TG 클라우드 DB에는 user/pass 대신 secret이 필요합니다.  \n",
    ")"
   ]
  },
  {
   "cell_type": "markdown",
   "id": "f0b86c77",
   "metadata": {},
   "source": [
    "<span style=\"color:red\">아래 셀의 주석을 제거하고 토큰 인증이 활성화된 경우 토큰을 가져오고 설정하기 위해 실행합니다.</span>. \n",
    "* 이것은 tgcloud의 모든 데이터베이스에 필요합니다.\n",
    "* `<secret>`은 사용자 암호입니다. 자세한 내용은 https://docs.tigergraph.com/tigergraph-server/current/user-access/managing-credentials#_secrets 를 참조하세요.\n",
    "* secret을 모르는 경우  `secret=conn.createSecret()`를 사용하여 secret을 만들 수 있습니다."
   ]
  },
  {
   "cell_type": "code",
   "execution_count": null,
   "id": "d815e4c7",
   "metadata": {},
   "outputs": [],
   "source": [
    "#conn.getToken(<secret>)"
   ]
  },
  {
   "cell_type": "code",
   "execution_count": 3,
   "id": "a1dd0252-a5e5-47ee-acce-b843571c78cc",
   "metadata": {},
   "outputs": [
    {
     "data": {
      "text/plain": [
       "{'Paper': 2708}"
      ]
     },
     "execution_count": 3,
     "metadata": {},
     "output_type": "execute_result"
    }
   ],
   "source": [
    "# 모든 정점 유형에 대한 정점 수\n",
    "conn.getVertexCount('*')"
   ]
  },
  {
   "cell_type": "code",
   "execution_count": 4,
   "id": "318f1998-1179-4ae2-9f1b-d1b032076c03",
   "metadata": {},
   "outputs": [
    {
     "data": {
      "text/plain": [
       "{'Cite': 10556}"
      ]
     },
     "execution_count": 4,
     "metadata": {},
     "output_type": "execute_result"
    }
   ],
   "source": [
    "# 모든 간선 유형에 대한 간선 수\n",
    "conn.getEdgeCount()"
   ]
  },
  {
   "cell_type": "markdown",
   "id": "7ad2cc34-545d-4220-8938-e3eda1797fda",
   "metadata": {},
   "source": [
    "### 정점 로더(Vertex Loader)"
   ]
  },
  {
   "cell_type": "markdown",
   "id": "8267288f",
   "metadata": {},
   "source": [
    "`VertexLoader`는 데이터베이스에서 정점 배치를 가져옵니다. 특히, 정점을 `num_batches`로 나누고 각 배치를 개별적으로 반환합니다. `filter_by`에 제공된 부울 속성은 포함된 꼭짓점을 나타냅니다. 무작위 배치가 필요한 경우 `shuffle`을 True로 설정하십시오.\n",
    "\n",
    "**Note**: TigerGraph의 그래프에서 로더를 처음 초기화하는 경우 해당 쿼리를 데이터베이스에 설치하고 최적화하므로 초기화에 1분이 걸릴 수 있습니다. 하지만 쿼리 설치는 한 번만 하면 되므로 동일한 TG 그래프에서 다시 로더를 초기화할 때 시간이 걸리지 않습니다.\n",
    "\n",
    "데이터 로더를 사용하는 방법에는 두 가지가 있습니다. 예시는 [여기](https://github.com/TigerGraph-DevLabs/mlworkbench-docs/blob/main/tutorials/basics/2_dataloaders.ipynb)를 참조하세요.\n",
    "* 첫째, iterable로 사용할 수 있습니다. 즉, 루프를 통해 모든 데이터 배치를 가져올 수 있습니다. 모든 정점을 한 번에 로드하는 경우(`num_batches=1`), 반복자에는 하나의 배치(모든 정점 중)만 있습니다.\n",
    "* 둘째, 클래스의 `data` 속성에 직접 접근할 수 있습니다. 로드할 데이터 배치가 하나만 있는 경우 반복자 대신 배치를 직접 제공하므로 이 경우 더 합리적일 수 있습니다. 로드할 데이터 배치가 여러 개인 경우 로더를 다시 반환합니다.\n",
    "\n",
    "인수(Args):\n",
    "* attributes (list or dict, optional):\n",
    "                포함할 정점 속성입니다. 목록인 경우 모든 정점 유형의 목록에 있는 속성이 선택됩니다. \n",
    "                특정 속성이 모든 정점 유형에 존재하지 않으면 오류가 발생합니다. \n",
    "                dict인 경우 dict의 키는 선택할 정점 유형이고 값은 각 정점 유형에 대해 선택해야 하는 속성의 목록입니다. \n",
    "                기본값은 없음입니다.\n",
    "* batch_size (int, optional):\n",
    "                각 배치의 정점 수입니다.\n",
    "                기본값은 없음입니다.\n",
    "* num_batches (int, optional):\n",
    "                정점을 분할할 배치 수입니다.\n",
    "                기본값은 1입니다.\n",
    "* shuffle (bool, optional):\n",
    "                데이터를 로드하기 전에 정점을 섞을지 여부입니다.\n",
    "                기본값은 False입니다.\n",
    "* filter_by (str, optional):\n",
    "                포함할 수 있는 꼭짓점을 나타내는 데 사용되는 부울 속성입니다. 기본값은 없음입니다.\n",
    "* output_format (str, optional):\n",
    "                로더의 출력 데이터 형식입니다. \"데이터 프레임\"만 지원됩니다. 기본값은 \"데이터 프레임\"입니다.\n",
    "* loader_id (str, optional):\n",
    "                임의의 문자열이 될 수 있는 로더의 식별자입니다. Kafka 주제 이름으로도 사용됩니다. \n",
    "                `None`이면 임의의 문자열이 생성됩니다. 기본값은 없음입니다.\n",
    "* buffer_size (int, optional):\n",
    "                메모리에 프리페치하고 저장할 데이터 배치 수입니다. 기본값은 4입니다.\n",
    "* timeout (int, optional):\n",
    "                GSQL 쿼리에 대한 시간 초과 값(ms)입니다. 기본값은 300000입니다."
   ]
  },
  {
   "cell_type": "markdown",
   "id": "c87676b8-ca4f-403d-87a6-9763be1eb12e",
   "metadata": {},
   "source": [
    "#### 모든 정점을 한 번에 로컬에 직접 로드합니다. 기본(Defalut)."
   ]
  },
  {
   "cell_type": "code",
   "execution_count": 6,
   "id": "5c97ade5-c5f3-41e2-b089-b55b578af5bd",
   "metadata": {},
   "outputs": [
    {
     "name": "stdout",
     "output_type": "stream",
     "text": [
      "Installing and optimizing queries. It might take a minute if this is the first time you use this loader.\n",
      "Query installation finished.\n",
      "CPU times: user 223 ms, sys: 34.9 ms, total: 258 ms\n",
      "Wall time: 1min 1s\n"
     ]
    }
   ],
   "source": [
    "%%time\n",
    "vertex_loader = conn.gds.vertexLoader(\n",
    "    num_batches=1, \n",
    "    attributes=[\"id\", \"x\", \"y\"])\n",
    "# Note: 각 꼭짓점의 고유 ID(vid)가 자동으로 생성되어 추출됩니다.\n",
    "# 각 꼭짓점의 기본 ID를 원하면 속성으로 지정합니다."
   ]
  },
  {
   "cell_type": "code",
   "execution_count": 7,
   "id": "8fdb27e5-6816-4b56-b570-1af1d5179978",
   "metadata": {},
   "outputs": [
    {
     "name": "stdout",
     "output_type": "stream",
     "text": [
      "CPU times: user 94.4 ms, sys: 33.9 ms, total: 128 ms\n",
      "Wall time: 225 ms\n"
     ]
    },
    {
     "data": {
      "text/plain": [
       "(2708, 4)"
      ]
     },
     "execution_count": 7,
     "metadata": {},
     "output_type": "execute_result"
    }
   ],
   "source": [
    "%%time\n",
    "# `data` 속성을 통해 데이터의 유일한 배치를 가져옵니다.\n",
    "data = vertex_loader.data\n",
    "data.shape"
   ]
  },
  {
   "cell_type": "code",
   "execution_count": 8,
   "id": "84f7c0a0-2770-4ceb-82b1-3ab8e511f920",
   "metadata": {},
   "outputs": [
    {
     "data": {
      "text/html": [
       "<div>\n",
       "<style scoped>\n",
       "    .dataframe tbody tr th:only-of-type {\n",
       "        vertical-align: middle;\n",
       "    }\n",
       "\n",
       "    .dataframe tbody tr th {\n",
       "        vertical-align: top;\n",
       "    }\n",
       "\n",
       "    .dataframe thead th {\n",
       "        text-align: right;\n",
       "    }\n",
       "</style>\n",
       "<table border=\"1\" class=\"dataframe\">\n",
       "  <thead>\n",
       "    <tr style=\"text-align: right;\">\n",
       "      <th></th>\n",
       "      <th>vid</th>\n",
       "      <th>id</th>\n",
       "      <th>x</th>\n",
       "      <th>y</th>\n",
       "    </tr>\n",
       "  </thead>\n",
       "  <tbody>\n",
       "    <tr>\n",
       "      <th>0</th>\n",
       "      <td>0</td>\n",
       "      <td>1596</td>\n",
       "      <td>0 0 0 0 0 0 0 0 0 0 0 0 0 0 0 0 0 0 0 0 0 0 0 ...</td>\n",
       "      <td>2</td>\n",
       "    </tr>\n",
       "    <tr>\n",
       "      <th>1</th>\n",
       "      <td>1</td>\n",
       "      <td>2703</td>\n",
       "      <td>0 0 0 0 0 1 0 0 0 0 0 0 0 0 0 0 0 0 0 1 0 0 0 ...</td>\n",
       "      <td>3</td>\n",
       "    </tr>\n",
       "    <tr>\n",
       "      <th>2</th>\n",
       "      <td>2</td>\n",
       "      <td>2379</td>\n",
       "      <td>0 0 0 0 0 0 0 0 0 0 0 0 0 0 0 0 0 0 0 1 0 0 0 ...</td>\n",
       "      <td>4</td>\n",
       "    </tr>\n",
       "    <tr>\n",
       "      <th>3</th>\n",
       "      <td>3</td>\n",
       "      <td>1480</td>\n",
       "      <td>0 0 0 0 0 0 0 0 0 0 0 0 0 0 0 0 0 0 0 0 0 0 0 ...</td>\n",
       "      <td>2</td>\n",
       "    </tr>\n",
       "    <tr>\n",
       "      <th>4</th>\n",
       "      <td>4</td>\n",
       "      <td>2163</td>\n",
       "      <td>0 0 0 0 0 0 0 0 0 0 0 0 0 0 0 0 0 0 0 1 0 0 0 ...</td>\n",
       "      <td>3</td>\n",
       "    </tr>\n",
       "  </tbody>\n",
       "</table>\n",
       "</div>"
      ],
      "text/plain": [
       "   vid    id                                                  x  y\n",
       "0    0  1596  0 0 0 0 0 0 0 0 0 0 0 0 0 0 0 0 0 0 0 0 0 0 0 ...  2\n",
       "1    1  2703  0 0 0 0 0 1 0 0 0 0 0 0 0 0 0 0 0 0 0 1 0 0 0 ...  3\n",
       "2    2  2379  0 0 0 0 0 0 0 0 0 0 0 0 0 0 0 0 0 0 0 1 0 0 0 ...  4\n",
       "3    3  1480  0 0 0 0 0 0 0 0 0 0 0 0 0 0 0 0 0 0 0 0 0 0 0 ...  2\n",
       "4    4  2163  0 0 0 0 0 0 0 0 0 0 0 0 0 0 0 0 0 0 0 1 0 0 0 ...  3"
      ]
     },
     "execution_count": 8,
     "metadata": {},
     "output_type": "execute_result"
    }
   ],
   "source": [
    "data.head()"
   ]
  },
  {
   "cell_type": "markdown",
   "id": "cfa8148f-7b40-4b5b-ab48-22cbacae090e",
   "metadata": {},
   "source": [
    "#### http를 통해 정점 배치 가져오기"
   ]
  },
  {
   "cell_type": "code",
   "execution_count": 9,
   "id": "be7bada1-6c98-42ec-a5c5-e72a593615f6",
   "metadata": {},
   "outputs": [
    {
     "name": "stdout",
     "output_type": "stream",
     "text": [
      "CPU times: user 6.27 ms, sys: 1.24 ms, total: 7.52 ms\n",
      "Wall time: 10.6 ms\n"
     ]
    }
   ],
   "source": [
    "%%time\n",
    "vertex_loader = conn.gds.vertexLoader( \n",
    "    num_batches=20, \n",
    "    attributes=[\"id\", \"x\", \"y\"],\n",
    "    shuffle=True,\n",
    "    filter_by=None\n",
    ")"
   ]
  },
  {
   "cell_type": "code",
   "execution_count": 10,
   "id": "b03b264a-5649-4d6d-a320-292f5f8890cc",
   "metadata": {},
   "outputs": [
    {
     "name": "stdout",
     "output_type": "stream",
     "text": [
      "----Batch 0: Shape (131, 4)----\n",
      "       vid    id                                                  x  y\n",
      "0  5242900  1395  0 0 0 0 0 0 0 0 0 0 0 0 0 0 0 0 0 0 0 0 0 0 0 ...  0\n",
      "----Batch 1: Shape (144, 4)----\n",
      "       vid    id                                                  x  y\n",
      "0  6291456  2292  0 0 0 1 0 0 0 0 0 0 0 0 0 0 0 0 0 0 0 1 0 0 0 ...  4\n",
      "----Batch 2: Shape (148, 4)----\n",
      "       vid    id                                                  x  y\n",
      "0  7340051  1935  0 0 0 0 0 0 0 0 0 0 0 0 0 0 0 0 0 0 0 0 0 0 0 ...  3\n",
      "----Batch 3: Shape (141, 4)----\n",
      "        vid    id                                                  x  y\n",
      "0  14680101  1986  0 0 0 0 0 0 0 0 0 0 0 0 0 0 0 0 0 0 0 0 0 0 0 ...  3\n",
      "----Batch 4: Shape (149, 4)----\n",
      "   vid    id                                                  x  y\n",
      "0   21  1824  0 0 0 0 1 0 0 0 0 0 0 0 0 0 0 0 0 0 0 0 0 0 0 ...  5\n",
      "----Batch 5: Shape (150, 4)----\n",
      "        vid    id                                                  x  y\n",
      "0  15728645  1459  0 0 0 0 0 0 0 0 0 0 0 0 0 0 0 0 0 0 0 0 0 0 0 ...  1\n",
      "----Batch 6: Shape (131, 4)----\n",
      "       vid   id                                                  x  y\n",
      "0  3145742  969  0 0 0 0 0 0 0 0 0 0 0 0 0 0 0 0 0 0 0 0 0 0 0 ...  2\n",
      "----Batch 7: Shape (136, 4)----\n",
      "       vid    id                                                  x  y\n",
      "0  9437187  1731  0 0 0 0 0 0 0 0 0 0 0 0 0 0 0 0 0 0 0 0 0 0 0 ...  2\n",
      "----Batch 8: Shape (112, 4)----\n",
      "        vid   id                                                  x  y\n",
      "0  10485771  993  0 0 0 0 0 0 0 0 0 0 0 0 0 0 0 0 0 0 0 0 0 0 0 ...  6\n",
      "----Batch 9: Shape (153, 4)----\n",
      "        vid    id                                                  x  y\n",
      "0  10485762  1084  0 0 0 0 0 0 0 0 0 0 0 0 0 0 0 0 0 0 0 0 0 0 0 ...  3\n",
      "----Batch 10: Shape (135, 4)----\n",
      "        vid    id                                                  x  y\n",
      "0  11534338  1657  0 0 0 0 0 0 0 0 0 0 0 0 0 0 0 0 0 0 0 0 0 0 0 ...  3\n",
      "----Batch 11: Shape (134, 4)----\n",
      "   vid    id                                                  x  y\n",
      "0    0  1596  0 0 0 0 0 0 0 0 0 0 0 0 0 0 0 0 0 0 0 0 0 0 0 ...  2\n",
      "----Batch 12: Shape (139, 4)----\n",
      "       vid   id                                                  x  y\n",
      "0  2097164  773  0 0 0 0 0 0 0 0 0 0 0 0 0 0 0 0 0 0 0 0 0 0 0 ...  1\n",
      "----Batch 13: Shape (128, 4)----\n",
      "        vid    id                                                  x  y\n",
      "0  12583005  1213  0 0 0 1 0 0 0 0 0 0 0 0 0 0 0 0 0 0 0 0 0 0 0 ...  3\n",
      "----Batch 14: Shape (111, 4)----\n",
      "       vid   id                                                  x  y\n",
      "0  8388641  456  0 0 0 1 0 0 0 0 0 0 0 0 0 0 0 0 0 0 0 0 0 0 0 ...  0\n",
      "----Batch 15: Shape (129, 4)----\n",
      "        vid   id                                                  x  y\n",
      "0  10485772  191  0 0 0 0 0 0 0 0 0 0 0 0 0 0 0 0 0 0 0 0 0 0 0 ...  5\n",
      "----Batch 16: Shape (150, 4)----\n",
      "       vid    id                                                  x  y\n",
      "0  7340038  1578  0 0 0 0 0 0 0 1 0 0 0 0 0 0 0 0 0 0 0 0 0 0 0 ...  5\n",
      "----Batch 17: Shape (147, 4)----\n",
      "       vid    id                                                  x  y\n",
      "0  6291462  1453  0 0 0 0 0 0 0 0 0 0 0 0 0 0 0 0 0 0 0 0 0 0 0 ...  3\n",
      "----Batch 18: Shape (127, 4)----\n",
      "       vid    id                                                  x  y\n",
      "0  2097158  2414  0 0 0 0 0 0 0 0 0 0 0 0 0 0 0 0 0 0 0 1 0 0 0 ...  3\n",
      "----Batch 19: Shape (113, 4)----\n",
      "       vid    id                                                  x  y\n",
      "0  1048581  1726  0 0 0 0 0 0 0 0 0 0 0 0 0 0 0 0 0 0 0 1 0 0 0 ...  2\n",
      "CPU times: user 151 ms, sys: 17.2 ms, total: 168 ms\n",
      "Wall time: 288 ms\n"
     ]
    }
   ],
   "source": [
    "%%time\n",
    "for i, batch in enumerate(vertex_loader):\n",
    "    print(\"----Batch {}: Shape {}----\".format(i, batch.shape))\n",
    "    print(batch.head(1))"
   ]
  },
  {
   "cell_type": "markdown",
   "id": "4917e4af-392d-4c90-bc20-5d40324a30c4",
   "metadata": {},
   "source": [
    "#### 이종(heterogeneous) 그래프의 경우"
   ]
  },
  {
   "cell_type": "markdown",
   "id": "7e56def3",
   "metadata": {},
   "source": [
    "`Cora`는 동종(homogeneous) 그래프 이므로 다른 그래프에 연결하여 이종(demostrate) 그래프의 사용 사례를 시연합니다."
   ]
  },
  {
   "cell_type": "code",
   "execution_count": 11,
   "id": "05616b55",
   "metadata": {},
   "outputs": [],
   "source": [
    "conn = TigerGraphConnection(\n",
    "    host=\"http://127.0.0.1\", # 데이터베이스 서버의 주소로 변경\n",
    "    graphname=\"hetero\",\n",
    "    username=\"tigergraph\",\n",
    "    password=\"tigergraph\",\n",
    "    gsqlSecret=\"\" # 2022년 7월 5일 이후에 생성된 TG 클라우드 DB에는 user/pass 대신 secret이 필요합니다. \n",
    ")\n",
    "\n",
    "# 토큰 인증이 활성화된 경우 토큰을 가져오고 설정하려면 아래 주석을 제거하십시오.\n",
    "#conn.getToken(<secret>) # <secret>은 사용자 암호입니다. 자세한 내용은 https://docs.tigergraph.com/tigergraph-server/current/user-access/managing-credentials#_secrets를 참조하세요."
   ]
  },
  {
   "cell_type": "code",
   "execution_count": 12,
   "id": "00858597",
   "metadata": {},
   "outputs": [
    {
     "name": "stdout",
     "output_type": "stream",
     "text": [
      "---- Graph hetero\n",
      "Vertex Types:\n",
      "- VERTEX v0(PRIMARY_ID id INT, x LIST<DOUBLE>, y INT, train_mask BOOL, val_mask BOOL, test_mask BOOL) WITH STATS=\"OUTDEGREE_BY_EDGETYPE\", PRIMARY_ID_AS_ATTRIBUTE=\"true\"\n",
      "- VERTEX v1(PRIMARY_ID id INT, x LIST<DOUBLE>, train_mask BOOL, val_mask BOOL, test_mask BOOL) WITH STATS=\"OUTDEGREE_BY_EDGETYPE\", PRIMARY_ID_AS_ATTRIBUTE=\"true\"\n",
      "- VERTEX v2(PRIMARY_ID id INT, x LIST<DOUBLE>, train_mask BOOL, val_mask BOOL, test_mask BOOL) WITH STATS=\"OUTDEGREE_BY_EDGETYPE\", PRIMARY_ID_AS_ATTRIBUTE=\"true\"\n",
      "Edge Types:\n",
      "- DIRECTED EDGE v0v0(FROM v0, TO v0, is_train BOOL, is_val BOOL)\n",
      "- DIRECTED EDGE v1v1(FROM v1, TO v1, is_train BOOL, is_val BOOL)\n",
      "- DIRECTED EDGE v1v2(FROM v1, TO v2, is_train BOOL, is_val BOOL)\n",
      "- DIRECTED EDGE v2v0(FROM v2, TO v0, is_train BOOL, is_val BOOL)\n",
      "- DIRECTED EDGE v2v1(FROM v2, TO v1, is_train BOOL, is_val BOOL)\n",
      "- DIRECTED EDGE v2v2(FROM v2, TO v2, is_train BOOL, is_val BOOL)\n",
      "\n",
      "Graphs:\n",
      "- Graph hetero(v0:v, v1:v, v2:v, v0v0:e, v1v1:e, v1v2:e, v2v0:e, v2v1:e, v2v2:e)\n",
      "Jobs:\n",
      "- CREATE LOADING JOB load_hetero_data FOR GRAPH hetero {\n",
      "DEFINE FILENAME v2v0_csv = \"./v2v0.csv\";\n",
      "DEFINE FILENAME v2v1_csv = \"./v2v1.csv\";\n",
      "DEFINE FILENAME v2v2_csv = \"./v2v2.csv\";\n",
      "DEFINE FILENAME v1_csv = \"./v1.csv\";\n",
      "DEFINE FILENAME v0v0_csv = \"./v0v0.csv\";\n",
      "DEFINE FILENAME v2_csv = \"./v2.csv\";\n",
      "DEFINE FILENAME v1v1_csv = \"./v1v1.csv\";\n",
      "DEFINE FILENAME v1v2_csv = \"./v1v2.csv\";\n",
      "DEFINE FILENAME v0_csv = \"./v0.csv\";\n",
      "LOAD v0_csv TO VERTEX v0 VALUES($\"id\", SPLIT($\"x\", \" \"), $\"y\", _, _, _) USING SEPARATOR=\",\", HEADER=\"true\", EOL=\"\\n\";\n",
      "LOAD v1_csv TO VERTEX v1 VALUES($\"id\", SPLIT($\"x\", \" \"), _, _, _) USING SEPARATOR=\",\", HEADER=\"true\", EOL=\"\\n\";\n",
      "LOAD v2_csv TO VERTEX v2 VALUES($\"id\", SPLIT($\"x\", \" \"), _, _, _) USING SEPARATOR=\",\", HEADER=\"true\", EOL=\"\\n\";\n",
      "LOAD v0v0_csv TO EDGE v0v0 VALUES($\"source\", $\"target\", _, _) USING SEPARATOR=\",\", HEADER=\"true\", EOL=\"\\n\";\n",
      "LOAD v1v1_csv TO EDGE v1v1 VALUES($\"source\", $\"target\", _, _) USING SEPARATOR=\",\", HEADER=\"true\", EOL=\"\\n\";\n",
      "LOAD v1v2_csv TO EDGE v1v2 VALUES($\"source\", $\"target\", _, _) USING SEPARATOR=\",\", HEADER=\"true\", EOL=\"\\n\";\n",
      "LOAD v2v0_csv TO EDGE v2v0 VALUES($\"source\", $\"target\", _, _) USING SEPARATOR=\",\", HEADER=\"true\", EOL=\"\\n\";\n",
      "LOAD v2v1_csv TO EDGE v2v1 VALUES($\"source\", $\"target\", _, _) USING SEPARATOR=\",\", HEADER=\"true\", EOL=\"\\n\";\n",
      "LOAD v2v2_csv TO EDGE v2v2 VALUES($\"source\", $\"target\", _, _) USING SEPARATOR=\",\", HEADER=\"true\", EOL=\"\\n\";\n",
      "}\n",
      "\n",
      "- CREATE SCHEMA_CHANGE JOB hetero_job FOR GRAPH hetero {\n",
      "ADD VERTEX v0(PRIMARY_ID id INT, x LIST<DOUBLE>, y INT, train_mask BOOL, val_mask BOOL, test_mask BOOL) WITH STATS=\"OUTDEGREE_BY_EDGETYPE\", PRIMARY_ID_AS_ATTRIBUTE=\"true\";\n",
      "ADD VERTEX v1(PRIMARY_ID id INT, x LIST<DOUBLE>, train_mask BOOL, val_mask BOOL, test_mask BOOL) WITH STATS=\"OUTDEGREE_BY_EDGETYPE\", PRIMARY_ID_AS_ATTRIBUTE=\"true\";\n",
      "ADD VERTEX v2(PRIMARY_ID id INT, x LIST<DOUBLE>, train_mask BOOL, val_mask BOOL, test_mask BOOL) WITH STATS=\"OUTDEGREE_BY_EDGETYPE\", PRIMARY_ID_AS_ATTRIBUTE=\"true\";\n",
      "ADD DIRECTED EDGE v0v0(FROM v0, TO v0, is_train BOOL, is_val BOOL);\n",
      "ADD DIRECTED EDGE v1v1(FROM v1, TO v1, is_train BOOL, is_val BOOL);\n",
      "ADD DIRECTED EDGE v1v2(FROM v1, TO v2, is_train BOOL, is_val BOOL);\n",
      "ADD DIRECTED EDGE v2v0(FROM v2, TO v0, is_train BOOL, is_val BOOL);\n",
      "ADD DIRECTED EDGE v2v1(FROM v2, TO v1, is_train BOOL, is_val BOOL);\n",
      "ADD DIRECTED EDGE v2v2(FROM v2, TO v2, is_train BOOL, is_val BOOL);\n",
      "}\n",
      "\n",
      "Queries:\n",
      "- edge_loader_is_train_is_val(int num_batches, bool shuffle, string filter_by, set<string> e_types, string kafka_address, string kafka_topic, string security_protocol, string sasl_mechanism, string sasl_username, string sasl_password, string ssl_ca_location) (installed v2)\n",
      "- edge_nei_loader_x_y_train_mask_val_mask_test_mask_is_train(int num_batches, int num_neighbors, int num_hops, bool shuffle, string filter_by, set<string> v_types, set<string> e_types, set<string> seed_types, string kafka_address, string kafka_topic, string security_protocol, string sasl_mechanism, string sasl_username, string sasl_password, string ssl_ca_location) (installed v2)\n",
      "- graph_loader_x_y_train_mask_val_mask_test_mask_is_train_is_val(int num_batches, bool shuffle, string filter_by, set<string> v_types, set<string> e_types, string kafka_address, string kafka_topic, string security_protocol, string sasl_mechanism, string sasl_username, string sasl_password, string ssl_ca_location) (installed v2)\n",
      "- neighbor_loader_x_y_train_mask_val_mask_test_mask(set<vertex> input_vertices, int num_batches, int num_neighbors, int num_hops, bool shuffle, string filter_by, set<string> v_types, set<string> e_types, set<string> seed_types, string kafka_address, string kafka_topic, string security_protocol, string sasl_mechanism, string sasl_username, string sasl_password, string ssl_ca_location) (installed v2)\n",
      "\n",
      "\n",
      "\n",
      "\n"
     ]
    }
   ],
   "source": [
    "print(conn.gsql(\"ls\"))"
   ]
  },
  {
   "cell_type": "code",
   "execution_count": 13,
   "id": "a76b9591",
   "metadata": {},
   "outputs": [
    {
     "name": "stdout",
     "output_type": "stream",
     "text": [
      "Installing and optimizing queries. It might take a minute if this is the first time you use this loader.\n",
      "Query installation finished.\n",
      "CPU times: user 29.9 ms, sys: 4.49 ms, total: 34.4 ms\n",
      "Wall time: 39.5 s\n"
     ]
    }
   ],
   "source": [
    "%%time\n",
    "loader = conn.gds.vertexLoader(\n",
    "    attributes={\"v0\": [\"x\", \"y\"],\n",
    "                \"v1\": [\"x\"]},\n",
    "    batch_size=20,\n",
    "    shuffle=True,\n",
    "    filter_by=None,\n",
    "    loader_id=None,\n",
    "    buffer_size=4,\n",
    ")"
   ]
  },
  {
   "cell_type": "code",
   "execution_count": 14,
   "id": "25a75547",
   "metadata": {},
   "outputs": [
    {
     "name": "stdout",
     "output_type": "stream",
     "text": [
      "----Batch 0----\n",
      "Vertex type: v0\n",
      "         vid                                                  x  y\n",
      "0  163577857  0.386429 0.401847 -0.0926295 -0.0833778 0.6873...  2\n",
      "Vertex type: v1\n",
      "         vid                                                  x\n",
      "0  178257921  -1.02871 -0.135028 -0.138423 -0.89996 1.68272 ...\n",
      "----Batch 1----\n",
      "Vertex type: v0\n",
      "         vid                                                  x  y\n",
      "0  142606336  -0.417304 -0.464672 -0.229524 0.336801 0.61027...  9\n",
      "Vertex type: v1\n",
      "         vid                                                  x\n",
      "0  170917888  -0.0675672 -0.514478 1.91501 0.96472 -1.40837 ...\n",
      "----Batch 2----\n",
      "Vertex type: v0\n",
      "         vid                                                  x  y\n",
      "0  139460609  -0.846644 -0.686432 -2.26245 1.24922 0.576238 ...  8\n",
      "Vertex type: v1\n",
      "         vid                                                  x\n",
      "0  197132289  -0.900331 -0.582497 -0.157183 -0.692183 0.7191...\n",
      "----Batch 3----\n",
      "Vertex type: v0\n",
      "         vid                                                  x  y\n",
      "0  134217730  -0.644559 0.0658884 -0.590563 0.278513 0.97017...  9\n",
      "Vertex type: v1\n",
      "         vid                                                  x\n",
      "0  181403649  -0.161315 -2.00703 -1.00672 0.566511 -0.203919...\n",
      "----Batch 4----\n",
      "Vertex type: v0\n",
      "         vid                                                  x  y\n",
      "0  134217733  0.480141 -0.169968 1.74605 0.265025 0.710991 -...  9\n",
      "Vertex type: v1\n",
      "         vid                                                  x\n",
      "0  176160768  -0.891511 -0.86198 -0.580623 -0.852433 0.71162...\n",
      "----Batch 5----\n",
      "Vertex type: v1\n",
      "         vid                                                  x\n",
      "0  173015042  0.213103 -0.29764 -0.0113945 -0.0402101 1.2897...\n",
      "Vertex type: v0\n",
      "         vid                                                  x  y\n",
      "0  137363459  2.04967 1.03894 0.462085 0.87039 0.484518 -1.0...  2\n",
      "----Batch 6----\n",
      "Vertex type: v0\n",
      "         vid                                                  x  y\n",
      "0  134217728  -0.188107 -0.301286 1.2804 0.675936 0.717697 1...  1\n",
      "Vertex type: v1\n",
      "         vid                                                  x\n",
      "0  167772162  -0.41025 0.931752 0.517965 2.93246 -1.0365 1.5...\n",
      "----Batch 7----\n",
      "Vertex type: v1\n",
      "         vid                                                  x\n",
      "0  177209344  0.986525 -0.794036 0.266078 -0.14338 -0.96245 ...\n",
      "Vertex type: v0\n",
      "         vid                                                  x  y\n",
      "0  149946369  0.729365 -0.614349 0.72067 -1.79353 -0.134905 ...  1\n",
      "----Batch 8----\n",
      "Vertex type: v0\n",
      "         vid                                                  x  y\n",
      "0  136314881  1.57035 1.27941 0.0208358 0.884161 -1.33232 0....  4\n",
      "Vertex type: v1\n",
      "         vid                                                  x\n",
      "0  141557761  -1.217 -1.54553 1.73903 1.51622 -0.148302 1.51...\n",
      "----Batch 9----\n",
      "Vertex type: v0\n",
      "         vid                                                  x  y\n",
      "0  162529282  0.0655204 -0.0110251 1.06901 0.11467 -0.613123...  9\n",
      "Vertex type: v1\n",
      "         vid                                                  x\n",
      "0  168820736  -0.066027 1.82314 -0.143056 -0.406202 -0.42649...\n",
      "CPU times: user 35 ms, sys: 3.1 ms, total: 38.1 ms\n",
      "Wall time: 59.6 ms\n"
     ]
    }
   ],
   "source": [
    "%%time\n",
    "for i, batch in enumerate(loader):\n",
    "    print(\"----Batch {}----\".format(i))\n",
    "    for j in batch:\n",
    "        print(\"Vertex type:\", j)\n",
    "        print(batch[j].head(1))"
   ]
  },
  {
   "cell_type": "markdown",
   "id": "aef437fe",
   "metadata": {
    "tags": []
   },
   "source": [
    "### Kafka를 통한 스트리밍 \n",
    "\n",
    "**Note**: Kafka 스트리밍 기능은 Enterprise Edition에서만 사용할 수 있습니다. 사용하려면 Enterprise Edition을 활성화해야 합니다."
   ]
  },
  {
   "cell_type": "code",
   "execution_count": null,
   "id": "9d31863f",
   "metadata": {},
   "outputs": [],
   "source": [
    "conn = TigerGraphConnection(\n",
    "    host=\"http://127.0.0.1\", # Change the address to your database server's\n",
    "    graphname=\"Cora\",\n",
    "    username=\"tigergraph\",\n",
    "    password=\"tigergraph\",\n",
    "    gsqlSecret=\"\" # secret instead of user/pass is required for TG cloud DBs created after 7/5/2022  \n",
    ")\n",
    "\n",
    "# Uncomment below to get and set token if token authentication is enabled. \n",
    "#conn.getToken(<secret>) # <secret> is your user secret. See https://docs.tigergraph.com/tigergraph-server/current/user-access/managing-credentials#_secrets for details."
   ]
  },
  {
   "cell_type": "markdown",
   "id": "86c6ce45-0136-47c5-900a-1e78bc7cb792",
   "metadata": {},
   "source": [
    "#### 카프카(Kafka) 설정 \n",
    "여기에서 Kafka를 설정합니다. 구성되면 설정이 새로 생성된 모든 데이터 로더와 공유되며 각 로더에 대해 Kafka를 설정할 필요가 없습니다. 자세한 설정 은 공식 [문서](https://docs.tigergraph.com/pytigergraph/current/gds/gds#_configurekafka) 를 참조하십시오."
   ]
  },
  {
   "cell_type": "code",
   "execution_count": null,
   "id": "3a0dbe70-29f9-4205-9f53-e8d4e8883eb7",
   "metadata": {},
   "outputs": [],
   "source": [
    "conn.gds.configureKafka(\n",
    "    kafka_address=\"127.0.0.1:9092\",\n",
    "    kafka_security_protocol=\"SASL_PLAINTEXT\",\n",
    "    kafka_sasl_mechanism=\"PLAIN\",\n",
    "    kafka_sasl_plain_username=\"your username\",\n",
    "    kafka_sasl_plain_password=\"your password\"\n",
    ")"
   ]
  },
  {
   "cell_type": "markdown",
   "id": "0361abb0-7fff-4de6-8a3a-b8af2a0e34a0",
   "metadata": {},
   "source": [
    "#### 정점 배치 가져오기"
   ]
  },
  {
   "cell_type": "code",
   "execution_count": 10,
   "id": "cba77c66",
   "metadata": {},
   "outputs": [
    {
     "name": "stderr",
     "output_type": "stream",
     "text": [
      "WARNING:kafka.coordinator.consumer:group_id is None: disabling auto-commit.\n"
     ]
    },
    {
     "name": "stdout",
     "output_type": "stream",
     "text": [
      "Installing and optimizing queries. It might take a minute if this is the first time you use this loader.\n",
      "Query installation finished.\n",
      "CPU times: user 37.1 ms, sys: 11.9 ms, total: 48.9 ms\n",
      "Wall time: 25.8 s\n"
     ]
    }
   ],
   "source": [
    "%%time\n",
    "vertex_loader = conn.gds.vertexLoader(\n",
    "    num_batches=20, \n",
    "    attributes=[\"id\", \"x\", \"y\"],\n",
    "    shuffle=True,\n",
    "    filter_by=None,\n",
    ")"
   ]
  },
  {
   "cell_type": "code",
   "execution_count": 11,
   "id": "166a2478",
   "metadata": {},
   "outputs": [
    {
     "name": "stdout",
     "output_type": "stream",
     "text": [
      "----Batch 0: Shape (157, 4)----\n",
      "   vid    id                                                  x  y\n",
      "0    9  1341  0 0 0 0 0 0 0 0 0 0 0 0 0 0 0 0 0 0 0 0 0 0 0 ...  0\n",
      "----Batch 1: Shape (121, 4)----\n",
      "       vid    id                                                  x  y\n",
      "0  7340080  2332  0 0 0 0 0 0 0 0 0 0 0 0 0 0 1 0 0 0 0 0 0 0 0 ...  0\n",
      "----Batch 2: Shape (131, 4)----\n",
      "        vid   id                                                  x  y\n",
      "0  11534338  562  0 0 0 0 0 0 0 0 0 0 0 0 0 0 0 0 0 0 0 0 0 0 0 ...  2\n",
      "----Batch 3: Shape (143, 4)----\n",
      "        vid  id                                                  x  y\n",
      "0  19922966  66  0 0 0 0 0 0 0 0 0 0 0 0 0 0 0 1 0 0 0 0 0 0 0 ...  4\n",
      "----Batch 4: Shape (149, 4)----\n",
      "       vid    id                                                  x  y\n",
      "0  1048585  1443  0 0 0 0 0 0 0 0 0 0 0 0 0 0 0 0 0 0 0 0 0 0 0 ...  4\n",
      "----Batch 5: Shape (125, 4)----\n",
      "       vid    id                                                  x  y\n",
      "0  8388625  2477  0 0 0 0 0 0 0 0 0 0 0 0 0 0 0 0 0 0 0 1 0 0 0 ...  3\n",
      "----Batch 6: Shape (155, 4)----\n",
      "       vid   id                                                  x  y\n",
      "0  2097173  367  0 0 0 0 0 0 0 0 0 0 0 0 0 0 0 0 0 0 0 0 0 0 0 ...  2\n",
      "----Batch 7: Shape (134, 4)----\n",
      "       vid    id                                                  x  y\n",
      "0  2097180  2385  0 0 0 0 0 0 0 0 0 0 0 0 0 0 0 0 0 0 0 1 0 0 0 ...  4\n",
      "----Batch 8: Shape (133, 4)----\n",
      "        vid    id                                                  x  y\n",
      "0  12582916  1768  0 0 0 0 0 0 0 0 0 0 1 0 0 0 0 0 0 0 0 1 0 0 0 ...  1\n",
      "----Batch 9: Shape (128, 4)----\n",
      "       vid   id                                                  x  y\n",
      "0  5242880  641  0 0 0 0 0 0 0 0 0 0 0 0 0 0 0 0 0 0 0 0 0 0 0 ...  3\n",
      "----Batch 10: Shape (131, 4)----\n",
      "        vid    id                                                  x  y\n",
      "0  14680100  1598  0 0 0 0 0 0 0 0 0 0 0 0 0 0 0 0 0 0 0 1 0 0 1 ...  3\n",
      "----Batch 11: Shape (131, 4)----\n",
      "       vid   id                                                  x  y\n",
      "0  3145733  658  0 0 0 0 0 0 0 0 0 0 0 0 0 0 0 0 0 0 0 0 0 0 0 ...  3\n",
      "----Batch 12: Shape (122, 4)----\n",
      "       vid   id                                                  x  y\n",
      "0  4194312  177  0 0 0 0 0 0 0 0 0 0 0 0 0 0 0 0 0 0 0 0 0 0 0 ...  4\n",
      "----Batch 13: Shape (152, 4)----\n",
      "        vid    id                                                  x  y\n",
      "0  12582926  2120  0 0 0 0 0 0 0 0 0 0 0 0 0 0 0 0 0 0 0 0 0 0 0 ...  4\n",
      "----Batch 14: Shape (142, 4)----\n",
      "       vid    id                                                  x  y\n",
      "0  4194304  1203  0 0 0 0 1 0 0 0 0 0 0 0 0 0 0 0 0 0 0 0 0 0 0 ...  0\n",
      "----Batch 15: Shape (132, 4)----\n",
      "        vid   id                                                  x  y\n",
      "0  15728646  409  0 0 0 1 0 0 0 0 0 0 0 0 0 0 0 0 0 0 0 0 0 0 0 ...  1\n",
      "----Batch 16: Shape (132, 4)----\n",
      "        vid    id                                                  x  y\n",
      "0  13631511  2056  0 0 0 0 0 0 0 0 0 0 0 0 0 0 0 0 0 0 0 0 0 0 0 ...  0\n",
      "----Batch 17: Shape (113, 4)----\n",
      "        vid    id                                                  x  y\n",
      "0  28311557  1378  0 0 0 0 0 0 0 0 0 0 0 0 0 0 0 0 0 0 0 0 0 0 0 ...  2\n",
      "----Batch 18: Shape (139, 4)----\n",
      "       vid    id                                                  x  y\n",
      "0  9437186  2348  0 0 0 0 0 0 0 0 0 0 1 0 0 0 0 0 0 0 0 0 0 0 0 ...  3\n",
      "----Batch 19: Shape (138, 4)----\n",
      "       vid   id                                                  x  y\n",
      "0  2097176  718  0 0 0 0 0 0 0 0 0 0 0 0 0 0 0 0 0 0 0 0 0 0 0 ...  0\n",
      "CPU times: user 161 ms, sys: 14.4 ms, total: 175 ms\n",
      "Wall time: 562 ms\n"
     ]
    }
   ],
   "source": [
    "%%time\n",
    "for i, batch in enumerate(vertex_loader):\n",
    "    print(\"----Batch {}: Shape {}----\".format(i, batch.shape))\n",
    "    print(batch.head(1))"
   ]
  },
  {
   "cell_type": "code",
   "execution_count": null,
   "id": "18e00835",
   "metadata": {},
   "outputs": [],
   "source": []
  }
 ],
 "metadata": {
  "environment": {
   "name": "pytorch-gpu.1-9.m81",
   "type": "gcloud",
   "uri": "gcr.io/deeplearning-platform-release/pytorch-gpu.1-9:m81"
  },
  "interpreter": {
   "hash": "96daeecb52bbbb8e3aef04d2f9c6a1e01f271d07cea30059f3c558ef00b717d2"
  },
  "kernelspec": {
   "display_name": "Python 3 (ipykernel)",
   "language": "python",
   "name": "python3"
  },
  "language_info": {
   "codemirror_mode": {
    "name": "ipython",
    "version": 3
   },
   "file_extension": ".py",
   "mimetype": "text/x-python",
   "name": "python",
   "nbconvert_exporter": "python",
   "pygments_lexer": "ipython3",
   "version": "3.9.12"
  },
  "toc-autonumbering": false,
  "toc-showtags": false
 },
 "nbformat": 4,
 "nbformat_minor": 5
}
