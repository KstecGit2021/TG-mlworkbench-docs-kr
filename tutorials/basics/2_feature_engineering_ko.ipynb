{
 "cells": [
  {
   "cell_type": "markdown",
   "id": "a0753d0e-9062-409d-8308-3d536bfa9d1c",
   "metadata": {},
   "source": [
    "# Featurizer\n",
    "이 노트북은 `TigerGraph`에 저장된 그래프의 피처 엔지니어링 작업에 `pyTigerGraph`를 사용하는 방법을 보여줍니다.\n",
    "\n"
   ]
  },
  {
   "cell_type": "markdown",
   "id": "40a4cccc",
   "metadata": {},
   "source": [
    "**NOTE**: 현재 ML Workbench에서 제공하는 모든 피처을 사용하려면 데이터베이스를 한 번만 활성화(activate)해야 합니다. ML Workbench on Cloud를 사용하는 경우 activator가 포함되며 아래 셀을 실행(먼저 주석 해제)하여 활성화할 수 있습니다. 다른 버전의 Workbench의 경우 https://act.tigergraphlabs.com 에서 activater를 다운로드할 수 있습니다. 자세한 지침은 해당 웹사이트에도 포함되어 있습니다."
   ]
  },
  {
   "cell_type": "code",
   "execution_count": null,
   "id": "30009059",
   "metadata": {},
   "outputs": [],
   "source": [
    "# 아래 주석을 제거하고 필요한 정보를 입력하십시오. 자세한 지침은 https://act.tigergraphlabs.com을 참조하십시오.\n",
    "# !mlwb activate [데이터베이스 주소] -u [사용자 이름] -p [비밀번호] -s [비밀]"
   ]
  },
  {
   "cell_type": "markdown",
   "id": "c9f16295-3f06-48a6-83ec-bd5692b3990c",
   "metadata": {},
   "source": [
    "## 데이터베이스 연결 \n",
    "\n",
    "이 `TigerGraphConnection` 클래스는 `TigerGraph` 데이터베이스에 대한 연결을 나타냅니다. 내부 적으로는 데이터베이스와 통신하는 데 필요한 정보가 저장됩니다. 꽤 많은 데이터베이스 작업을 수행할 수 있습니다. 자세한 내용은 해당 [문서](https://docs.tigergraph.com/pytigergraph/current/intro/) 를 참조하십시오.\n",
    "\n",
    "**Note**: 2022년 7월 5일 이후에 생성된 TG 클라우드 DB는 사용자 이름/비밀번호 대신 Secret이 필요합니다. 그렇지 않으면 비워 둘 수 있습니다.\n"
   ]
  },
  {
   "cell_type": "code",
   "execution_count": null,
   "id": "675895f2-d60d-4c7a-a988-32e296ca93e3",
   "metadata": {},
   "outputs": [],
   "source": [
    "from pyTigerGraph import TigerGraphConnection"
   ]
  },
  {
   "cell_type": "code",
   "execution_count": null,
   "id": "95391f04-3b1c-4c3b-ba2f-165b36dc82b7",
   "metadata": {},
   "outputs": [],
   "source": [
    "conn = TigerGraphConnection(\n",
    "    host=\"http://127.0.0.1\", # 데이터베이스 서버의 주소로 변경\n",
    "    graphname=\"Cora\",\n",
    "    username=\"tigergraph\",\n",
    "    password=\"tigergraph\",\n",
    "    gsqlSecret=\"\" # 2022년 7월 5일 이후에 생성된 TG 클라우드 DB에는 user/pass 대신 secret이 필요합니다.  \n",
    ")"
   ]
  },
  {
   "cell_type": "markdown",
   "id": "6c57a1c2",
   "metadata": {},
   "source": [
    "<span style=\"color:red\">아래 셀의 주석을 제거하고 토큰 인증이 활성화된 경우 토큰을 가져오고 설정하기 위해 실행합니다.</span>. \n",
    "* 이것은 tgcloud의 모든 데이터베이스에 필요합니다.\n",
    "* `<secret>`은 사용자 암호입니다. 자세한 내용은 https://docs.tigergraph.com/tigergraph-server/current/user-access/managing-credentials#_secrets 를 참조하세요.\n",
    "* secret을 모르는 경우  `secret=conn.createSecret()`를 사용하여 secret을 만들 수 있습니다."
   ]
  },
  {
   "cell_type": "code",
   "execution_count": null,
   "id": "a1d2084b",
   "metadata": {},
   "outputs": [],
   "source": [
    "#conn.getToken(<secret>)"
   ]
  },
  {
   "cell_type": "code",
   "execution_count": null,
   "id": "857a0f72-abf7-426a-b556-c41ae69a81a7",
   "metadata": {},
   "outputs": [],
   "source": [
    "# 그래프 스키마 및 기타 정보.\n",
    "print(conn.gsql(\"ls\"))"
   ]
  },
  {
   "cell_type": "code",
   "execution_count": null,
   "id": "21c77ec0-c6a8-474b-ac4e-526b562d7f59",
   "metadata": {},
   "outputs": [],
   "source": [
    "# 모든 정점 유형에 대한 정점 수\n",
    "conn.getVertexCount('*')"
   ]
  },
  {
   "cell_type": "code",
   "execution_count": null,
   "id": "0209af7a-f2e0-4e23-88e4-bd7573246bc9",
   "metadata": {},
   "outputs": [],
   "source": [
    "# 특정 유형의 정점 수\n",
    "conn.getVertexCount(\"Paper\")"
   ]
  },
  {
   "cell_type": "code",
   "execution_count": null,
   "id": "8299b1b2-49f4-4c2f-8054-b824eb77c42c",
   "metadata": {},
   "outputs": [],
   "source": [
    "# 모든 유형의 가장자리 수\n",
    "conn.getEdgeCount()"
   ]
  },
  {
   "cell_type": "code",
   "execution_count": null,
   "id": "a197b0e5-0ed1-4158-9a54-270db3d72670",
   "metadata": {},
   "outputs": [],
   "source": [
    "# 특정 유형의 모서리 수\n",
    "conn.getEdgeCount(\"Cite\")"
   ]
  },
  {
   "cell_type": "markdown",
   "id": "d6ca9e08",
   "metadata": {},
   "source": [
    "## 피처 엔지니어링 \n",
    "ML Workbench에는 피처 엔지니어링 작업을 수행하기 위한 몇 가지 그래프 알고리즘이 포함되어 있습니다. 주요 피처은 다음과 같습니다:\n",
    "\n",
    "1. `listAlgorithm()`: 알고리즘 클래스(예: 중심성:Centrality)를 입력으로 받으면 지정된 범주에 대해 사용 가능한 알고리즘을 인쇄합니다. 그렇지 않으면 사용 가능한 모든 알고리즘을 인쇄합니다. \n",
    "2. `installAlgorithm()`: 알고리즘의 이름을 입력으로 가져와 알고리즘이 아직 설치되지 않은 경우 설치합니다.\n",
    "3. `runAlgorithmm()`: 알고리즘 이름, 스키마 유형(예: 정점/간선, 기본적으로 정점), 속성 이름(결과를 데이터베이스에 속성으로 저장해야 하는 경우) 및 스키마 유형 이름 목록(속성을 저장해야 하는 정점/간선 목록, 기본적으로 모든 정점/간선에 대한 것)을 가져옵니다."
   ]
  },
  {
   "cell_type": "code",
   "execution_count": null,
   "id": "8fef49ee-d207-4d80-ac77-e93c111cf067",
   "metadata": {},
   "outputs": [],
   "source": [
    "f = conn.gds.featurizer()"
   ]
  },
  {
   "cell_type": "code",
   "execution_count": null,
   "id": "8dc84a85-1d89-42c3-8362-129d48fe9d7b",
   "metadata": {},
   "outputs": [],
   "source": [
    "f.listAlgorithms()"
   ]
  },
  {
   "cell_type": "markdown",
   "id": "fbf9b776-8f90-4a98-92b4-9220333ba819",
   "metadata": {},
   "source": [
    "### GDS 라이브러리 그래프 알고리즘의 실행 예(Examples of running graph algorithms from GDS library)\n",
    "다음에서는 알고리즘의 각 클래스에 대한 한 가지 예가 제공됩니다. 일부 알고리즘은 정점/간선 별로 피처을 생성합니다. 다른 알고리즘은 그래프에 대한 숫자 또는 통계를 계산합니다. 예를 들어, 공통 이웃(common neighbor) 알고리즘은 두 정점 사이의 공통 이웃 수를 계산합니다."
   ]
  },
  {
   "cell_type": "markdown",
   "id": "8b56f301-3982-4118-8fbf-dfc34fe06708",
   "metadata": {},
   "source": [
    "#### 피처로 Pagerank 가져오기(Get Pagerank as a feature)\n",
    "pagerank는 GDS 라이브러리의 tg_pagerank https://github.com/tigergraph/gsql-graph-algorithms/blob/master/algorithms/Centrality/pagerank/global/unweighted/tg_pagerank.gsql 라는 중심성(centrality) 알고리즘 클래스에서 사용할 수 있습니다."
   ]
  },
  {
   "cell_type": "code",
   "execution_count": null,
   "id": "193c865e-e061-4a91-82ab-df666b304df5",
   "metadata": {},
   "outputs": [],
   "source": [
    "f.installAlgorithm(\"tg_pagerank\")"
   ]
  },
  {
   "cell_type": "code",
   "execution_count": null,
   "id": "ba833564-b0e5-4782-a941-2a02f475f0b8",
   "metadata": {},
   "outputs": [],
   "source": [
    "params = {'v_type': 'Paper', 'e_type': 'Cite', 'max_change': 0.001, 'max_iter': 25, 'damping': 0.85,\n",
    "          'top_k': 10, 'print_accum': True, 'result_attr': '', 'file_path': '', 'display_edges': False}\n",
    "\n",
    "f.runAlgorithm(\n",
    "    'tg_pagerank', \n",
    "    params=params, \n",
    "    feat_name=\"pagerank\",\n",
    "    global_schema=False, # 속성을 추가하기 위해 전역 스키마 변경이 필요한 경우 True로 설정합니다.\n",
    "    timeout=2147480, \n",
    "    sizeLimit=2000000\n",
    ")\n"
   ]
  },
  {
   "cell_type": "markdown",
   "id": "b68be5d7-794d-48b8-98c6-a4c90bd4981b",
   "metadata": {},
   "source": [
    "#### 최대 독립 셋(Maximal Independent Set) 실행\n",
    "최대 독립 셋 알고리즘은 GDS 라이브러리의 tg_maximal_indep_set https://github.com/tigergraph/gsql-graph-algorithms/blob/master/algorithms/Classification/maximal_independent_set/deterministic/tg_maximal_indep_set.gsql 이라는 분류(classification) 알고리즘 클라스에서 사용할 수 있습니다."
   ]
  },
  {
   "cell_type": "code",
   "execution_count": null,
   "id": "26652f72-0bb9-45d7-bdff-3ad1c95cc13a",
   "metadata": {},
   "outputs": [],
   "source": [
    "f.installAlgorithm(\"tg_maximal_indep_set\")"
   ]
  },
  {
   "cell_type": "code",
   "execution_count": null,
   "id": "734f4859-ac44-4f0e-ad45-685175850d4b",
   "metadata": {},
   "outputs": [],
   "source": [
    "params = {'v_type': 'Paper', 'e_type': 'Cite',\n",
    "          'max_iter': 100, 'print_accum': False, 'file_path': ''}\n",
    "\n",
    "f.runAlgorithm('tg_maximal_indep_set', params=params)\n"
   ]
  },
  {
   "cell_type": "markdown",
   "id": "1d7dd25c-b73f-4f4f-89de-97b2318ae7fd",
   "metadata": {},
   "source": [
    "#### Louvain을 피처으로 가져오기(Get Louvain as a feature)\n",
    "Louvain 알고리즘은 GDS 라이브러리의 tg_louvain https://github.com/tigergraph/gsql-graph-algorithms/blob/master/algorithms/Community/louvain/tg_louvain.gsql 이라는 탐지(detection) 알고리즘 클라스에서 사용할 수 있습니다."
   ]
  },
  {
   "cell_type": "code",
   "execution_count": null,
   "id": "fdfa669c-4d41-4a49-b824-c90231d3bae6",
   "metadata": {},
   "outputs": [],
   "source": [
    "f.installAlgorithm(query_name='tg_louvain')"
   ]
  },
  {
   "cell_type": "code",
   "execution_count": null,
   "id": "33787c45-1b8f-4c12-ad61-95a6ca66132e",
   "metadata": {},
   "outputs": [],
   "source": [
    "params = {'v_type': 'Paper', 'e_type': ['Cite', 'reverse_Cite'], 'wt_attr': \"\",\n",
    "          'max_iter': 10, 'result_attr': \"cid\", 'file_path': \"\", 'print_info': True}\n",
    "\n",
    "f.runAlgorithm(\n",
    "    'tg_louvain', \n",
    "    params, \n",
    "    feat_name=\"cid\",\n",
    "    global_schema=False # If a global schema change is needed to add an attribute, set it to True.\n",
    ")\n"
   ]
  },
  {
   "cell_type": "markdown",
   "id": "f53df280-c428-40da-b3ec-32de0a3cd673",
   "metadata": {},
   "source": [
    "#### 피처으로 fastRP 얻기(Get fastRP as a feature)\n",
    "fastRP 알고리즘은 GDS 라이브러리의 g_fastRP https://github.com/tigergraph/gsql-graph-algorithms/blob/master/algorithms/GraphML/Embeddings/FastRP/tg_fastRP.gsql 이라는 임베딩(embedding) 알고리즘 클라스에서 사용할 수 있습니다."
   ]
  },
  {
   "cell_type": "code",
   "execution_count": null,
   "id": "6d64019f-64a0-4d8c-a1d1-41dcafb29d3a",
   "metadata": {},
   "outputs": [],
   "source": [
    "f.installAlgorithm(\n",
    "    \"tg_fastRP\", \n",
    "    global_change = False # If a global schema change is needed to add an attribute, set it to True.\n",
    ")"
   ]
  },
  {
   "cell_type": "code",
   "execution_count": null,
   "id": "9a0d0b1c-9ab4-4af7-8025-439f5876ab04",
   "metadata": {},
   "outputs": [],
   "source": [
    "params = {'v_type': 'Paper', 'e_type': ['Cite', 'reverse_Cite'], 'weights': '1,1,2', 'beta': -0.85, 'k': 3, 'reduced_dim': 128,\n",
    "          'sampling_constant': 1, 'random_seed': 42, 'print_accum': False, 'result_attr': \"\", 'file_path': \"\"}\n",
    "f.runAlgorithm(\n",
    "    'tg_fastRP', \n",
    "    params, \n",
    "    feat_name=\"fastrp_embedding\"\n",
    ")\n"
   ]
  },
  {
   "cell_type": "markdown",
   "id": "c97c9c3a-91b3-4f20-83aa-35dd838cbf93",
   "metadata": {},
   "source": [
    "#### 단일 소스 노드에서 너비 우선 검색 알고리즘 실행(Run Breadth-First Search Algorithm from a single source node)\n",
    "너비 우선 검색(Breadth-First Search) 알고리즘은 GDS 라이브러리의 tg_bfs https://github.com/tigergraph/gsql-graph-algorithms/blob/master/algorithms/Path/bfs/tg_bfs.gsql 이라는 경로(Path) 알고리즘 클라스에서 사용할 수 있습니다."
   ]
  },
  {
   "cell_type": "code",
   "execution_count": null,
   "id": "61608118-07f1-4fdf-b279-a49deedb2546",
   "metadata": {},
   "outputs": [],
   "source": [
    "f.installAlgorithm(query_name='tg_bfs')"
   ]
  },
  {
   "cell_type": "code",
   "execution_count": null,
   "id": "93d282e8-dc33-49c7-9a85-7f823929cd71",
   "metadata": {},
   "outputs": [],
   "source": [
    "params = {'v_type': 'Paper', 'e_type': ['Cite', 'reverse_Cite'], 'max_hops': 10, \"v_start\": (\"2180\", \"Paper\"),\n",
    "          'print_accum': False, 'result_attr': \"\", 'file_path': \"\", 'display_edges': False}\n",
    "\n",
    "f.runAlgorithm('tg_bfs', params, feat_name=\"bfs\")\n"
   ]
  },
  {
   "cell_type": "markdown",
   "id": "c31fe4dd-6b1f-4e8c-adb2-6a0cee5b5097",
   "metadata": {},
   "source": [
    "#### 두 정점 사이의 공통 이웃 수를 계산(Calculates the number of common neighbors between two vertices)\n",
    "공통 이웃(common neighbors) 알고리즘은 GDS 라이브러리의 tg_common_neighbors https://github.com/tigergraph/gsql-graph-algorithms/blob/master/algorithms/Topological%20Link%20Prediction/common_neighbors/tg_common_neighbors.gsql 이라는 토폴로지 링크 예측(Topological Link Prediction) 알고리즘 클라스에서 사용할 수 있습니다."
   ]
  },
  {
   "cell_type": "code",
   "execution_count": null,
   "id": "da474ae2-26d2-4849-a4f5-f79ddd4a51e5",
   "metadata": {},
   "outputs": [],
   "source": [
    "f.installAlgorithm(query_name='tg_common_neighbors')  "
   ]
  },
  {
   "cell_type": "code",
   "execution_count": null,
   "id": "d72b37a5-70bd-4d79-b493-ee8f236e7cf1",
   "metadata": {},
   "outputs": [],
   "source": [
    "params = {\"a\": (\"2180\", \"Paper\"), \"b\": (\"431\", \"Paper\"),\n",
    "          \"e_type\": \"Cite\", \"print_res\": True}\n",
    "\n",
    "f.runAlgorithm('tg_common_neighbors', params)\n"
   ]
  },
  {
   "cell_type": "markdown",
   "id": "96972672",
   "metadata": {},
   "source": [
    "### 사용자 정의 쿼리(User Defined Query) 사용"
   ]
  },
  {
   "cell_type": "code",
   "execution_count": null,
   "id": "959565d1",
   "metadata": {},
   "outputs": [],
   "source": [
    "user_defined_query1 = '''CREATE QUERY user_defined_query1() FOR GRAPH Cora { \n",
    "  PRINT \"user_defined_query works!\"; \n",
    "}'''\n",
    "\n",
    "print(user_defined_query1)"
   ]
  },
  {
   "cell_type": "code",
   "execution_count": null,
   "id": "f5646bd7",
   "metadata": {},
   "outputs": [],
   "source": [
    "outFileName=\"./user_defined_query1.gsql\"\n",
    "outFile=open(outFileName, \"w\")\n",
    "outFile.write(user_defined_query1)\n",
    "outFile.close()"
   ]
  },
  {
   "cell_type": "code",
   "execution_count": null,
   "id": "6174919c",
   "metadata": {},
   "outputs": [],
   "source": [
    "f.installAlgorithm(query_name=\"user_defined_query1\", query_path=\"./user_defined_query1.gsql\" )"
   ]
  },
  {
   "cell_type": "code",
   "execution_count": null,
   "id": "5cbc62fc",
   "metadata": {},
   "outputs": [],
   "source": [
    "f.runAlgorithm(query_name=\"user_defined_query1\", custom_query=True)"
   ]
  },
  {
   "cell_type": "code",
   "execution_count": null,
   "id": "0eb4c8a6-76d4-43ec-9af0-08496ba9cc04",
   "metadata": {},
   "outputs": [],
   "source": []
  }
 ],
 "metadata": {
  "interpreter": {
   "hash": "86339a571aa1685b1bf33ba9ca33ff3e2e27be4a4a583dd76d4cb23b04832e59"
  },
  "kernelspec": {
   "display_name": "Python 3 (ipykernel)",
   "language": "python",
   "name": "python3"
  },
  "language_info": {
   "codemirror_mode": {
    "name": "ipython",
    "version": 3
   },
   "file_extension": ".py",
   "mimetype": "text/x-python",
   "name": "python",
   "nbconvert_exporter": "python",
   "pygments_lexer": "ipython3",
   "version": "3.9.12"
  }
 },
 "nbformat": 4,
 "nbformat_minor": 5
}
